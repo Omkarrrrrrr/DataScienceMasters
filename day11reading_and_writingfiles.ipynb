{
 "cells": [
  {
   "cell_type": "code",
   "execution_count": 8,
   "id": "ee3cc912-8792-41b5-a245-ed8853739385",
   "metadata": {},
   "outputs": [],
   "source": [
    "data = {\n",
    "    \"name\" : \"sudh\",\n",
    "    \"mail_id\" : \"sudh@gmail.com\",\n",
    "    \"phone_number\" : 91345435,\n",
    "    \"subject\" :[\"data science\" , \"big data\" , \"data analytics\"]\n",
    "}"
   ]
  },
  {
   "cell_type": "code",
   "execution_count": 9,
   "id": "1586186c-9bcc-4ad9-8ec2-2fb23c04c6f9",
   "metadata": {},
   "outputs": [],
   "source": [
    "import json"
   ]
  },
  {
   "cell_type": "code",
   "execution_count": 10,
   "id": "d9daf7f0-2569-4076-ab02-19a0c38e910d",
   "metadata": {},
   "outputs": [
    {
     "data": {
      "text/plain": [
       "' In Python, import json is an import statement that allows you to use the json module. The json module is part of the Python standard library and provides functionality for working with JSON (JavaScript Object Notation) data.\\n\\nJSON is a widely used data interchange format that is easy for humans to read and write and easy for machines to parse and generate. The json module in Python allows you to:\\n\\nSerialize Python data to JSON: You can use the json.dumps() function to convert Python objects (such as dictionaries, lists, and strings) into a JSON-formatted string.\\n\\nDeserialize JSON to Python data: You can use the json.loads() function to parse a JSON-formatted string and convert it into Python data structures.'"
      ]
     },
     "execution_count": 10,
     "metadata": {},
     "output_type": "execute_result"
    }
   ],
   "source": [
    "\"\"\" In Python, import json is an import statement that allows you to use the json module. The json module is part of the Python standard library and provides functionality for working with JSON (JavaScript Object Notation) data.\n",
    "\n",
    "JSON is a widely used data interchange format that is easy for humans to read and write and easy for machines to parse and generate. The json module in Python allows you to:\n",
    "\n",
    "Serialize Python data to JSON: You can use the json.dumps() function to convert Python objects (such as dictionaries, lists, and strings) into a JSON-formatted string.\n",
    "\n",
    "Deserialize JSON to Python data: You can use the json.loads() function to parse a JSON-formatted string and convert it into Python data structures.\"\"\""
   ]
  },
  {
   "cell_type": "code",
   "execution_count": 11,
   "id": "3663db6b-8fa7-4e07-84ad-6ada9eb9ca27",
   "metadata": {},
   "outputs": [],
   "source": [
    "with open(\"test1.json\",\"w\") as f:\n",
    "    json.dump(data,f)\n",
    "    ## json test  file creation with all the data dumped in this file"
   ]
  },
  {
   "cell_type": "code",
   "execution_count": 13,
   "id": "edd5bb6d-d9e9-42c1-971c-d7b4eea357cd",
   "metadata": {},
   "outputs": [],
   "source": [
    "with open(\"test1.json\",\"r\") as f:\n",
    "    data1=json.load(f)"
   ]
  },
  {
   "cell_type": "code",
   "execution_count": 14,
   "id": "fa91aa36-9188-4297-b543-8f607d71f7e4",
   "metadata": {},
   "outputs": [
    {
     "data": {
      "text/plain": [
       "{'name': 'sudh',\n",
       " 'mail_id': 'sudh@gmail.com',\n",
       " 'phone_number': 91345435,\n",
       " 'subject': ['data science', 'big data', 'data analytics']}"
      ]
     },
     "execution_count": 14,
     "metadata": {},
     "output_type": "execute_result"
    }
   ],
   "source": [
    "data1"
   ]
  },
  {
   "cell_type": "code",
   "execution_count": 15,
   "id": "f757cb27-2b01-48c0-a898-65341d076af2",
   "metadata": {},
   "outputs": [
    {
     "data": {
      "text/plain": [
       "'big data'"
      ]
     },
     "execution_count": 15,
     "metadata": {},
     "output_type": "execute_result"
    }
   ],
   "source": [
    "data1['subject'][1]"
   ]
  },
  {
   "cell_type": "code",
   "execution_count": 16,
   "id": "73b23a25-ca12-4242-8dd6-b3c44353a377",
   "metadata": {},
   "outputs": [],
   "source": [
    "data = [[\"name\" , \"email_id\" , \"number\"],\n",
    "       [\"sudh\" , \"sudh@gmail.com\" , 92342342],\n",
    "        [\"krish\" , \"krish@gmail.com\" , 9324324242]\n",
    "       ]"
   ]
  },
  {
   "cell_type": "code",
   "execution_count": 17,
   "id": "867779c2-d87d-42f8-abb4-22b451add4fc",
   "metadata": {},
   "outputs": [],
   "source": [
    "import csv"
   ]
  },
  {
   "cell_type": "code",
   "execution_count": 18,
   "id": "ae05202e-80d3-4cef-89ad-45c21d55db5e",
   "metadata": {},
   "outputs": [
    {
     "data": {
      "text/plain": [
       "' In Python, import csv is an import statement that allows you to use the csv module. The csv module is part of the Python standard library and provides functionality for reading and writing CSV (Comma-Separated Values) files.\\n\\nCSV is a common file format used for storing tabular data, where each line of the file represents a row of data, and values within each row are separated by commas (or other delimiters).\\n\\nThe csv module in Python allows you to:\\n\\nRead CSV files: You can use the csv.reader class to read data from CSV files and iterate through the rows and columns of the data.\\n\\nWrite CSV files: You can use the csv.writer class to write data to CSV files, creating or updating CSV files with your Python code.'"
      ]
     },
     "execution_count": 18,
     "metadata": {},
     "output_type": "execute_result"
    }
   ],
   "source": [
    "\"\"\" In Python, import csv is an import statement that allows you to use the csv module. The csv module is part of the Python standard library and provides functionality for reading and writing CSV (Comma-Separated Values) files.\n",
    "\n",
    "CSV is a common file format used for storing tabular data, where each line of the file represents a row of data, and values within each row are separated by commas (or other delimiters).\n",
    "\n",
    "The csv module in Python allows you to:\n",
    "\n",
    "Read CSV files: You can use the csv.reader class to read data from CSV files and iterate through the rows and columns of the data.\n",
    "\n",
    "Write CSV files: You can use the csv.writer class to write data to CSV files, creating or updating CSV files with your Python code.\"\"\""
   ]
  },
  {
   "cell_type": "code",
   "execution_count": 21,
   "id": "ceb83b82-4ccb-4ea6-90e8-3f210a7409ca",
   "metadata": {},
   "outputs": [],
   "source": [
    "with open(\"test3.csv\",\"w\") as f:\n",
    "    w = csv.writer(f)\n",
    "    for i in data:\n",
    "        w.writerow(i)"
   ]
  },
  {
   "cell_type": "code",
   "execution_count": 22,
   "id": "78813acd-5415-4041-8234-898b8dcc582e",
   "metadata": {},
   "outputs": [
    {
     "name": "stdout",
     "output_type": "stream",
     "text": [
      "['name', 'email_id', 'number']\n",
      "['sudh', 'sudh@gmail.com', '92342342']\n",
      "['krish', 'krish@gmail.com', '9324324242']\n"
     ]
    }
   ],
   "source": [
    "with open(\"test3.csv\" , 'r') as f :\n",
    "    read = csv.reader(f)\n",
    "    for i in read:\n",
    "        print(i)\n",
    "    "
   ]
  },
  {
   "cell_type": "code",
   "execution_count": 23,
   "id": "16877a0a-a7f3-4238-8041-3086ade60b7f",
   "metadata": {},
   "outputs": [],
   "source": [
    "with open(\"test4.bin\", 'wb') as f :\n",
    "    f.write(b\"\\x01\\x02\\x03\")"
   ]
  },
  {
   "cell_type": "code",
   "execution_count": 24,
   "id": "b0257078-1921-46f8-ad5a-c6cff7f866d8",
   "metadata": {},
   "outputs": [
    {
     "name": "stdout",
     "output_type": "stream",
     "text": [
      "b'\\x01\\x02\\x03'\n"
     ]
    }
   ],
   "source": [
    "with open(\"test4.bin\" , \"rb\") as f :\n",
    "    print(f.read())"
   ]
  },
  {
   "cell_type": "code",
   "execution_count": null,
   "id": "818fa7cf-799e-4ba1-abdf-77b8a2432c56",
   "metadata": {},
   "outputs": [],
   "source": []
  }
 ],
 "metadata": {
  "kernelspec": {
   "display_name": "Python 3 (ipykernel)",
   "language": "python",
   "name": "python3"
  },
  "language_info": {
   "codemirror_mode": {
    "name": "ipython",
    "version": 3
   },
   "file_extension": ".py",
   "mimetype": "text/x-python",
   "name": "python",
   "nbconvert_exporter": "python",
   "pygments_lexer": "ipython3",
   "version": "3.10.8"
  }
 },
 "nbformat": 4,
 "nbformat_minor": 5
}
