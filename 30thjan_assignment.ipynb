{
  "nbformat": 4,
  "nbformat_minor": 0,
  "metadata": {
    "colab": {
      "provenance": []
    },
    "kernelspec": {
      "name": "python3",
      "display_name": "Python 3"
    },
    "language_info": {
      "name": "python"
    }
  },
  "cells": [
    {
      "cell_type": "markdown",
      "source": [
        "Python task"
      ],
      "metadata": {
        "id": "6oahRz89GrNg"
      }
    },
    {
      "cell_type": "code",
      "execution_count": 1,
      "metadata": {
        "colab": {
          "base_uri": "https://localhost:8080/"
        },
        "id": "vS-AvEY0Gp36",
        "outputId": "0d4ff0a2-f009-4e1d-9408-418010caf77d"
      },
      "outputs": [
        {
          "output_type": "stream",
          "name": "stdout",
          "text": [
            "Enter your Percentage78\n",
            "Grade C\n"
          ]
        }
      ],
      "source": [
        "# Q1\n",
        "num=float(input('Enter your Percentage'))\n",
        "if num>90:\n",
        "    print(\"Gaade A\")\n",
        "elif num>80 and num<=90:\n",
        "    print(\"Grade B\")\n",
        "elif num>60 and num<=80:\n",
        "    print(\"Grade C\")\n",
        "elif num<60:\n",
        "     print(\"Grade D\")"
      ]
    },
    {
      "cell_type": "code",
      "source": [
        "# Q2\n",
        "cost_of_bike=int(input(\"Enter your bike cost: \"))\n",
        "if cost_of_bike>100000:\n",
        "    print(\"You have to pay 15% road tax. \")\n",
        "elif cost_of_bike>50000 and cost_of_bike<=100000:\n",
        "    print(\"You have to pay 10% road tax. \")\n",
        "elif cost_of_bike<=50000:\n",
        "     print(\"You have to pay 5% road tax. \")"
      ],
      "metadata": {
        "colab": {
          "base_uri": "https://localhost:8080/"
        },
        "id": "8pZt1-MBGtXp",
        "outputId": "1fcccee4-9b68-41f2-85db-5c870df5a1be"
      },
      "execution_count": 2,
      "outputs": [
        {
          "output_type": "stream",
          "name": "stdout",
          "text": [
            "Enter your bike cost: 200000\n",
            "You have to pay 15% road tax. \n"
          ]
        }
      ]
    },
    {
      "cell_type": "code",
      "source": [
        "# Q3\n",
        "city = input('Enter the city name')\n",
        "if city == 'Agra' or city =='agra':\n",
        "    print(\"Taj Mahal\")\n",
        "elif city == 'Delhi'or city =='delhi':\n",
        "    print(\"Red Fort\")\n",
        "elif city == 'Jaipur' or city == 'jaipur':\n",
        "    print('Jai Mahal')\n",
        "else:\n",
        "    print(\"City not found\")"
      ],
      "metadata": {
        "colab": {
          "base_uri": "https://localhost:8080/"
        },
        "id": "vVr6-FjWHUGv",
        "outputId": "98dfebef-36ae-4e50-8a27-6ff9ca3ca9b5"
      },
      "execution_count": 3,
      "outputs": [
        {
          "output_type": "stream",
          "name": "stdout",
          "text": [
            "Enter the city nameDelhi\n",
            "Red Fort\n"
          ]
        }
      ]
    },
    {
      "cell_type": "code",
      "source": [
        "# Q4\n",
        "number = int(input('Enter a number: '))\n",
        "number1= number\n",
        "count = 0\n",
        "while(number1>10):\n",
        "    if number1 %3 != 0:\n",
        "        break;\n",
        "    elif number1 %3 ==0:\n",
        "        count+= 1\n",
        "    number1 = number1/3\n",
        "print(f'{number} is exactly {count} times divisible by 3 before it is less than 10. ')"
      ],
      "metadata": {
        "colab": {
          "base_uri": "https://localhost:8080/"
        },
        "id": "1aGco0BSHfWU",
        "outputId": "7e8a12c3-5353-4c69-a9b3-a2e34e729809"
      },
      "execution_count": 7,
      "outputs": [
        {
          "output_type": "stream",
          "name": "stdout",
          "text": [
            "Enter a number: 666\n",
            "666 is exactly 2 times divisible by 3 before it is less than 10. \n"
          ]
        }
      ]
    },
    {
      "cell_type": "markdown",
      "source": [
        "Q5)\n",
        "While loop is used to iterate over the list of elements. This is useful for excecution of repeatitive code which is\n",
        "irritating for an user. Suppose we have print the nos from 1 to 1000 , so basically for an user this is very time consuming task before loops so with the help of while loop we can do this in seconds. eg; i = 1 while i <= 1000: print(i)"
      ],
      "metadata": {
        "id": "t8eX_DbeIDjc"
      }
    },
    {
      "cell_type": "markdown",
      "source": [
        "Q6)"
      ],
      "metadata": {
        "id": "Xm-4Qqc7ILov"
      }
    },
    {
      "cell_type": "code",
      "source": [
        "# Pattern 1\n",
        "n=7\n",
        "i=1\n",
        "while i<=n:\n",
        "    j=1\n",
        "    while j<=n:\n",
        "        if j<=i:\n",
        "            print('*',end=\" \")\n",
        "        j+=1\n",
        "    print()\n",
        "    i+=1"
      ],
      "metadata": {
        "colab": {
          "base_uri": "https://localhost:8080/"
        },
        "id": "zqS1NijEIBgX",
        "outputId": "12194caf-a304-4b51-bdab-2717ef20ecca"
      },
      "execution_count": 8,
      "outputs": [
        {
          "output_type": "stream",
          "name": "stdout",
          "text": [
            "* \n",
            "* * \n",
            "* * * \n",
            "* * * * \n",
            "* * * * * \n",
            "* * * * * * \n",
            "* * * * * * * \n"
          ]
        }
      ]
    },
    {
      "cell_type": "code",
      "source": [
        "# Pattern 2\n",
        "n = 5\n",
        "i = 1\n",
        "while i <= n:\n",
        "    j = 1\n",
        "    while j<=n:\n",
        "        if j <= 6-i:\n",
        "            print(\"*\", end=\" \")\n",
        "        j += 1\n",
        "    print()\n",
        "    i += 1"
      ],
      "metadata": {
        "colab": {
          "base_uri": "https://localhost:8080/"
        },
        "id": "IGxJ6rpBINLK",
        "outputId": "b96c19f7-6f4c-4c7d-c9c9-ee67282f267b"
      },
      "execution_count": 9,
      "outputs": [
        {
          "output_type": "stream",
          "name": "stdout",
          "text": [
            "* * * * * \n",
            "* * * * \n",
            "* * * \n",
            "* * \n",
            "* \n"
          ]
        }
      ]
    },
    {
      "cell_type": "code",
      "source": [
        "# Pattern 3\n",
        "n = 5\n",
        "i = 1\n",
        "while i <= n:\n",
        "    j = 1\n",
        "    while j <=n :\n",
        "        if j <= n-i:\n",
        "            print('',end=' ')\n",
        "        else:\n",
        "           print('*',end=' ')\n",
        "        j=j+1\n",
        "    print()\n",
        "    i=i+1"
      ],
      "metadata": {
        "colab": {
          "base_uri": "https://localhost:8080/"
        },
        "id": "I6lhPTtfIdSe",
        "outputId": "41d8d23d-3b94-4cce-d747-3ef3a17e8e70"
      },
      "execution_count": 10,
      "outputs": [
        {
          "output_type": "stream",
          "name": "stdout",
          "text": [
            "    * \n",
            "   * * \n",
            "  * * * \n",
            " * * * * \n",
            "* * * * * \n"
          ]
        }
      ]
    },
    {
      "cell_type": "code",
      "source": [],
      "metadata": {
        "id": "Y29HIbggIkGD"
      },
      "execution_count": null,
      "outputs": []
    }
  ]
}