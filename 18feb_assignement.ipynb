{
 "cells": [
  {
   "cell_type": "markdown",
   "id": "d9c1b5e9-c427-4c9a-bebf-b2c5777c9a41",
   "metadata": {},
   "source": [
    "# 1\n",
    "API stands for Application Programming Interface,It is a set of protocols, routines, and tools for building software applications.\n",
    "\n",
    "An API specifies how software components should interact and communicate with each other.\n",
    "\n",
    "Real life use of API:\n",
    "In any payment getway system, weather apps, authentication systems, social media platforms etc..."
   ]
  },
  {
   "cell_type": "markdown",
   "id": "feb3423a-3022-4cbe-8845-9fbcc5307234",
   "metadata": {},
   "source": [
    "# 2\n",
    "\n",
    "## Advantages of API\n",
    "1.Easy Integration\n",
    "2.Improved Efficiency\n",
    "3.Platform Independent\n",
    "4.Customizaton\n",
    "\n",
    "## Disadvantages of API\n",
    "1.Security Risk\n",
    "2.Complexity\n",
    "3.Compability Issues\n",
    "4.Dependence on 3rd Party Services"
   ]
  },
  {
   "cell_type": "markdown",
   "id": "de927000-99f9-4072-a0ca-3795a0f4b71e",
   "metadata": {},
   "source": [
    "# 3\n",
    "Web API: It is type of API which is used specifically for designing web applications.It allows web based applications to communicate with each other or with other software appications using HTTP protocol,which is same protocol used for web browsing.It uses formats like JSON or XML to exchange data betwenn different applications.\n",
    "\n",
    "# Difference between API and Web API:\n",
    "    \n",
    "1.Scope:APIs can used for any kind of software application, not just web-bases application,While Web APIs are only used for designing web based applications.\n",
    "\n",
    "2.Transport Protocol:APIs can uses many trasport protocols,including HTTP,TCP and FTP. While Web APIs use only HTTP as their transport protocol.\n",
    "\n",
    "3.Data Format:APIs uses many data formats, including XML, JSON, and CSV. While Web APIs uses only JSON and XML formats for data exchange.\n",
    "4.Access Methods:APIs can be access through a variety of methods,including command-line interface, libraries and web-based interfaces, While Web APIs are accessed through only HTTP requests sent over the web."
   ]
  },
  {
   "cell_type": "markdown",
   "id": "184b30d3-b0d5-45ec-9749-74f9676ca1c6",
   "metadata": {},
   "source": [
    "# 4\n",
    "# REST (Representational State Transfer)\n",
    "\n",
    "It is lightweight, client-server architecture that uses HTTP (Hyptertext Transfer Protocol) to exchage data between clients and servers. REST is based on the concept of resources, which are identified by URIs (Uniform REsource Identifiers), and clients interact with these resources by sending HTTP requests to their URIs. REST also used standard HTTP methods such as GET, POST, PUT and DELETE to perform operations on these resources. The data exchange format used in REST is JSON (JavaScript Object Notation) or XML (Extensible Markup Language), but it can support other format as well.\n",
    "\n",
    "# SOAP (Simple Object Access Protocol)\n",
    "It is a more complex protocol that uses XML as its data exchange format. SOAP is based on the concept of messaging,where clients and servers echange messages containing data and instructions. SOAP messages are usually transmitted using HTTP, SMTP (Simple Mail Transfer Protocol) or JMS (Java Message Service). SOAP also defines a set of rules for message exchnage, such as using XML namespces, and it supports varous security and transactional fetaures.\n",
    "\n",
    "SOAP has several shortcomings that have led to its decreased use and popularity in past few years.Some of the main shortcomes are its complexity, poor performance, limited browser support etc..."
   ]
  },
  {
   "cell_type": "markdown",
   "id": "c3539307-8638-4b3c-95c9-a44783779cbb",
   "metadata": {},
   "source": [
    "# 5\n",
    "# Difference between REST and SOAP:\n",
    "1.Complexity: SOAP is more complex architecture as compared to REST due to its message-based nature and the number of rules. While, REST is a simpler architecture that uses basic HTTP methods for data exchange.\n",
    "\n",
    "2.Data Format: SOAP uses XML as its primary data exchage format, whereas REST can use many formats such as JSON, XML and plain text also.\n",
    "\n",
    "3.Protocol:SOAP can use various protocols for message exchange, including HTTP, SMTP, and JMS,While REST uses only HTTP.\n",
    "\n",
    "4.Caching:REST supports caching, which can improve the performance of web services, but SOAP does not have a built-in caching mechanism.\n",
    "\n",
    "5.Scalability: REST is more scalable as compared to SOAP, since it does not require any session information to be stored on the server.\n",
    "Both architecture have their own strengths and weaknesses and can be used depending on their requirements of a particual project."
   ]
  },
  {
   "cell_type": "code",
   "execution_count": null,
   "id": "e3d20e43-b068-4df7-bf91-087e976c3445",
   "metadata": {},
   "outputs": [],
   "source": []
  }
 ],
 "metadata": {
  "kernelspec": {
   "display_name": "Python 3 (ipykernel)",
   "language": "python",
   "name": "python3"
  },
  "language_info": {
   "codemirror_mode": {
    "name": "ipython",
    "version": 3
   },
   "file_extension": ".py",
   "mimetype": "text/x-python",
   "name": "python",
   "nbconvert_exporter": "python",
   "pygments_lexer": "ipython3",
   "version": "3.10.8"
  }
 },
 "nbformat": 4,
 "nbformat_minor": 5
}
