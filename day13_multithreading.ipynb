{
 "cells": [
  {
   "cell_type": "code",
   "execution_count": 1,
   "id": "5ca9b5f7-6c3c-433f-ab44-b6a21131d998",
   "metadata": {},
   "outputs": [],
   "source": [
    "import threading"
   ]
  },
  {
   "cell_type": "code",
   "execution_count": 6,
   "id": "1a93ca3f-57e4-4b73-8604-ce49be7732ee",
   "metadata": {},
   "outputs": [],
   "source": [
    "def test(id):\n",
    "    print(\"this is my test id %d\" % id)"
   ]
  },
  {
   "cell_type": "code",
   "execution_count": 7,
   "id": "e797bae7-1663-4daa-ba24-e50dda65e719",
   "metadata": {},
   "outputs": [
    {
     "name": "stdout",
     "output_type": "stream",
     "text": [
      "this is my test id 10\n"
     ]
    }
   ],
   "source": [
    "test(10)"
   ]
  },
  {
   "cell_type": "code",
   "execution_count": 8,
   "id": "d2aa0758-ad50-4d21-972a-8acf4d22fb3c",
   "metadata": {},
   "outputs": [
    {
     "name": "stdout",
     "output_type": "stream",
     "text": [
      "this is my test id 1\n"
     ]
    }
   ],
   "source": [
    "test(1)"
   ]
  },
  {
   "cell_type": "code",
   "execution_count": 9,
   "id": "7e63b960-363d-4713-971b-7a8a1adf72a0",
   "metadata": {},
   "outputs": [
    {
     "name": "stdout",
     "output_type": "stream",
     "text": [
      "this is my test id 3\n"
     ]
    }
   ],
   "source": [
    "test(3)"
   ]
  },
  {
   "cell_type": "code",
   "execution_count": 10,
   "id": "5bd73328-822d-41bc-afd1-9154ac6a831a",
   "metadata": {},
   "outputs": [],
   "source": [
    "thread = [threading.Thread(target=test, args =(i,)) for i in [10,1,3]]"
   ]
  },
  {
   "cell_type": "code",
   "execution_count": 11,
   "id": "38d8f894-8ccd-4fac-9793-a4cbdb6e4111",
   "metadata": {},
   "outputs": [
    {
     "data": {
      "text/plain": [
       "[<Thread(Thread-5 (test), initial)>,\n",
       " <Thread(Thread-6 (test), initial)>,\n",
       " <Thread(Thread-7 (test), initial)>]"
      ]
     },
     "execution_count": 11,
     "metadata": {},
     "output_type": "execute_result"
    }
   ],
   "source": [
    "thread"
   ]
  },
  {
   "cell_type": "code",
   "execution_count": 12,
   "id": "ab811dda-f4ac-4d59-a774-61ed87003ff6",
   "metadata": {},
   "outputs": [
    {
     "name": "stdout",
     "output_type": "stream",
     "text": [
      "this is my test id 10\n",
      "this is my test id 1\n",
      "this is my test id 3\n"
     ]
    }
   ],
   "source": [
    "for t in thread:\n",
    "    t.start()"
   ]
  },
  {
   "cell_type": "code",
   "execution_count": 14,
   "id": "885b0c42-55c9-4657-a477-5ce16ebdd1b0",
   "metadata": {},
   "outputs": [],
   "source": [
    "import urllib.request\n",
    "def file_download(url , filename):\n",
    "    urllib.request.urlretrieve(url, filename)"
   ]
  },
  {
   "cell_type": "code",
   "execution_count": 15,
   "id": "864e5e8f-f6ed-44de-b9e7-c6d0fd81fc93",
   "metadata": {},
   "outputs": [],
   "source": [
    "file_download('https://raw.githubusercontent.com/itsfoss/text-files/master/agatha.txt' , \"test1.txt\")"
   ]
  },
  {
   "cell_type": "code",
   "execution_count": 16,
   "id": "77e3e8dd-be91-4f9f-8a95-def5e7fb1ab1",
   "metadata": {},
   "outputs": [],
   "source": [
    "url_list = ['https://raw.githubusercontent.com/itsfoss/text-files/master/agatha.txt' , 'https://raw.githubusercontent.com/itsfoss/text-files/master/sherlock.txt' ,'https://raw.githubusercontent.com/itsfoss/text-files/master/sample_log_file.txt' ]"
   ]
  },
  {
   "cell_type": "code",
   "execution_count": 17,
   "id": "2c25e999-344d-438a-9eaa-ef21104bec2f",
   "metadata": {},
   "outputs": [
    {
     "data": {
      "text/plain": [
       "['https://raw.githubusercontent.com/itsfoss/text-files/master/agatha.txt',\n",
       " 'https://raw.githubusercontent.com/itsfoss/text-files/master/sherlock.txt',\n",
       " 'https://raw.githubusercontent.com/itsfoss/text-files/master/sample_log_file.txt']"
      ]
     },
     "execution_count": 17,
     "metadata": {},
     "output_type": "execute_result"
    }
   ],
   "source": [
    "url_list"
   ]
  },
  {
   "cell_type": "code",
   "execution_count": 18,
   "id": "36d4ef7b-7d80-4890-84eb-6e2b5db46845",
   "metadata": {},
   "outputs": [],
   "source": [
    "data_file_list = ['data1.txt','data2.text','data3.txt']"
   ]
  },
  {
   "cell_type": "code",
   "execution_count": 19,
   "id": "cbfb361b-df0d-46ea-aad3-97a66f9a55a4",
   "metadata": {},
   "outputs": [
    {
     "data": {
      "text/plain": [
       "['data1.txt', 'data2.text', 'data3.txt']"
      ]
     },
     "execution_count": 19,
     "metadata": {},
     "output_type": "execute_result"
    }
   ],
   "source": [
    "data_file_list"
   ]
  },
  {
   "cell_type": "code",
   "execution_count": 20,
   "id": "52f95fda-10a8-463a-9068-d20c35c874ac",
   "metadata": {},
   "outputs": [],
   "source": [
    "thread1 = [threading.Thread(target=file_download , args=(url_list[i],data_file_list[i])) for i in range(len(url_list))]"
   ]
  },
  {
   "cell_type": "code",
   "execution_count": 21,
   "id": "20917d67-5c60-452d-8132-9ba2d0e972f9",
   "metadata": {},
   "outputs": [],
   "source": [
    "for t in thread1:\n",
    "    t.start()"
   ]
  },
  {
   "cell_type": "code",
   "execution_count": 22,
   "id": "81d0414e-32e3-4b34-96fc-215c1eae112e",
   "metadata": {},
   "outputs": [
    {
     "data": {
      "text/plain": [
       "[<Thread(Thread-8 (file_download), stopped 140252886853184)>,\n",
       " <Thread(Thread-9 (file_download), stopped 140252878460480)>,\n",
       " <Thread(Thread-10 (file_download), stopped 140252870067776)>]"
      ]
     },
     "execution_count": 22,
     "metadata": {},
     "output_type": "execute_result"
    }
   ],
   "source": [
    "thread1"
   ]
  },
  {
   "cell_type": "code",
   "execution_count": 23,
   "id": "c2770365-98c0-4af3-bae4-a7fdf800e476",
   "metadata": {},
   "outputs": [],
   "source": [
    "import time"
   ]
  },
  {
   "cell_type": "code",
   "execution_count": 26,
   "id": "dfbe7d5c-a760-4325-8dfa-689d68617edb",
   "metadata": {},
   "outputs": [],
   "source": [
    "def test2(x):\n",
    "    for i in range(10):\n",
    "        print(\"test1 print the value of x %d and print the value of i %d\"  %(x,i))\n",
    "        time.sleep(1)"
   ]
  },
  {
   "cell_type": "code",
   "execution_count": 27,
   "id": "125f4fe5-8968-44f8-a40a-174d1f00af71",
   "metadata": {},
   "outputs": [],
   "source": [
    "thread2 = [threading.Thread(target=test2 , args=(i,)) for i in [100 , 10,20,5]]"
   ]
  },
  {
   "cell_type": "code",
   "execution_count": 28,
   "id": "626c5a03-70cf-4566-a22b-2d53e5d9f7f9",
   "metadata": {},
   "outputs": [
    {
     "name": "stdout",
     "output_type": "stream",
     "text": [
      "test1 print the value of x 100 and print the value of i 0\n",
      "test1 print the value of x 10 and print the value of i 0\n",
      "test1 print the value of x 20 and print the value of i 0\n",
      "test1 print the value of x 5 and print the value of i 0\n",
      "test1 print the value of x 10 and print the value of i 1\n",
      "test1 print the value of x 5 and print the value of i 1\n",
      "test1 print the value of x 100 and print the value of i 1\n",
      "test1 print the value of x 20 and print the value of i 1\n",
      "test1 print the value of x 10 and print the value of i 2test1 print the value of x 5 and print the value of i 2\n",
      "test1 print the value of x 20 and print the value of i 2\n",
      "test1 print the value of x 100 and print the value of i 2\n",
      "\n",
      "test1 print the value of x 5 and print the value of i 3\n",
      "test1 print the value of x 100 and print the value of i 3\n",
      "test1 print the value of x 10 and print the value of i 3\n",
      "test1 print the value of x 20 and print the value of i 3\n",
      "test1 print the value of x 5 and print the value of i 4test1 print the value of x 20 and print the value of i 4\n",
      "test1 print the value of x 100 and print the value of i 4\n",
      "test1 print the value of x 10 and print the value of i 4\n",
      "\n",
      "test1 print the value of x 20 and print the value of i 5\n",
      "test1 print the value of x 10 and print the value of i 5\n",
      "test1 print the value of x 5 and print the value of i 5\n",
      "test1 print the value of x 100 and print the value of i 5\n",
      "test1 print the value of x 20 and print the value of i 6test1 print the value of x 10 and print the value of i 6\n",
      "test1 print the value of x 5 and print the value of i 6\n",
      "test1 print the value of x 100 and print the value of i 6\n",
      "\n",
      "test1 print the value of x 10 and print the value of i 7test1 print the value of x 5 and print the value of i 7\n",
      "test1 print the value of x 100 and print the value of i 7\n",
      "test1 print the value of x 20 and print the value of i 7\n",
      "\n",
      "test1 print the value of x 5 and print the value of i 8test1 print the value of x 100 and print the value of i 8\n",
      "\n",
      "test1 print the value of x 20 and print the value of i 8\n",
      "test1 print the value of x 10 and print the value of i 8\n",
      "test1 print the value of x 20 and print the value of i 9\n",
      "test1 print the value of x 100 and print the value of i 9\n",
      "test1 print the value of x 5 and print the value of i 9\n",
      "test1 print the value of x 10 and print the value of i 9\n"
     ]
    }
   ],
   "source": [
    "for t in thread2:\n",
    "    t.start()"
   ]
  },
  {
   "cell_type": "code",
   "execution_count": 29,
   "id": "7c1d428f-342b-41a5-9a0d-693f485fc962",
   "metadata": {},
   "outputs": [
    {
     "name": "stdout",
     "output_type": "stream",
     "text": [
      "test1 print the value of x 10 and print the value of i 0\n",
      "test1 print the value of x 10 and print the value of i 1\n",
      "test1 print the value of x 10 and print the value of i 2\n",
      "test1 print the value of x 10 and print the value of i 3\n",
      "test1 print the value of x 10 and print the value of i 4\n",
      "test1 print the value of x 10 and print the value of i 5\n",
      "test1 print the value of x 10 and print the value of i 6\n",
      "test1 print the value of x 10 and print the value of i 7\n",
      "test1 print the value of x 10 and print the value of i 8\n",
      "test1 print the value of x 10 and print the value of i 9\n"
     ]
    }
   ],
   "source": [
    "test2(10)"
   ]
  },
  {
   "cell_type": "code",
   "execution_count": 30,
   "id": "bc519043-a99b-4142-91e4-403b31a723ad",
   "metadata": {},
   "outputs": [
    {
     "name": "stdout",
     "output_type": "stream",
     "text": [
      "test1 print the value of x 2 and print the value of i 0\n",
      "test1 print the value of x 2 and print the value of i 1\n",
      "test1 print the value of x 2 and print the value of i 2\n",
      "test1 print the value of x 2 and print the value of i 3\n",
      "test1 print the value of x 2 and print the value of i 4\n",
      "test1 print the value of x 2 and print the value of i 5\n",
      "test1 print the value of x 2 and print the value of i 6\n",
      "test1 print the value of x 2 and print the value of i 7\n",
      "test1 print the value of x 2 and print the value of i 8\n",
      "test1 print the value of x 2 and print the value of i 9\n"
     ]
    }
   ],
   "source": [
    "test2(2)"
   ]
  },
  {
   "cell_type": "code",
   "execution_count": 37,
   "id": "82cd0d72-9ece-431e-8920-b6b2244e6c7b",
   "metadata": {},
   "outputs": [
    {
     "name": "stdout",
     "output_type": "stream",
     "text": [
      "value of x 1 and value of shareed_var 1 \n",
      "value of x 2 and value of shareed_var 2 \n",
      "value of x 3 and value of shareed_var 3 \n",
      "value of x 4 and value of shareed_var 4 \n",
      "value of x 4 and value of shareed_var 5 \n",
      "value of x 5 and value of shareed_var 6 \n"
     ]
    }
   ],
   "source": [
    "shared_var = 0 \n",
    "lock_var = threading.Lock()\n",
    "def test4(x) : \n",
    "    global shared_var\n",
    "    with lock_var : \n",
    "        shared_var = shared_var + 1\n",
    "        print(\"value of x %d and value of shareed_var %d \" %(x, shared_var))\n",
    "        time.sleep(1)\n",
    " \n",
    "thread5  = [threading.Thread(target=test4 , args = (i,)) for i in [1,2,3,4,4,5]]\n",
    "for t in thread5 : \n",
    "    t.start()"
   ]
  },
  {
   "cell_type": "code",
   "execution_count": 38,
   "id": "a75f61e5-f987-48a9-839a-93a4530469f4",
   "metadata": {},
   "outputs": [
    {
     "name": "stdout",
     "output_type": "stream",
     "text": [
      "value of x 1 and value of shareed_var 7 \n"
     ]
    }
   ],
   "source": [
    "test3(1)"
   ]
  },
  {
   "cell_type": "code",
   "execution_count": 39,
   "id": "97bfe94a-bd18-4259-8d84-523b3acfa417",
   "metadata": {},
   "outputs": [
    {
     "name": "stdout",
     "output_type": "stream",
     "text": [
      "value of x 2 and value of shareed_var 8 \n"
     ]
    }
   ],
   "source": [
    "test3(2)"
   ]
  },
  {
   "cell_type": "code",
   "execution_count": null,
   "id": "595567cd-1928-4da2-adb4-234b88d42f8f",
   "metadata": {},
   "outputs": [],
   "source": []
  }
 ],
 "metadata": {
  "kernelspec": {
   "display_name": "Python 3 (ipykernel)",
   "language": "python",
   "name": "python3"
  },
  "language_info": {
   "codemirror_mode": {
    "name": "ipython",
    "version": 3
   },
   "file_extension": ".py",
   "mimetype": "text/x-python",
   "name": "python",
   "nbconvert_exporter": "python",
   "pygments_lexer": "ipython3",
   "version": "3.10.8"
  }
 },
 "nbformat": 4,
 "nbformat_minor": 5
}
