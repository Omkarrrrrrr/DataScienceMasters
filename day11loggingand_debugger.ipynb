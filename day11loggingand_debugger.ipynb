{
 "cells": [
  {
   "cell_type": "code",
   "execution_count": 1,
   "id": "c17f3c1f-7740-4806-a457-58e08ca7854d",
   "metadata": {},
   "outputs": [
    {
     "name": "stdout",
     "output_type": "stream",
     "text": [
      "this is my print stamt\n"
     ]
    }
   ],
   "source": [
    "print(\"this is my print stamt\")"
   ]
  },
  {
   "cell_type": "code",
   "execution_count": 2,
   "id": "bd1274b1-5910-42f9-9e8e-948e83533499",
   "metadata": {},
   "outputs": [],
   "source": [
    "import logging"
   ]
  },
  {
   "cell_type": "code",
   "execution_count": 3,
   "id": "6649e014-6416-4a32-9b6e-f56a8b78a321",
   "metadata": {},
   "outputs": [
    {
     "data": {
      "text/plain": [
       "\" In Python, import logging is a way to include the Python Standard Library's logging module in your code. The logging module provides a flexible and powerful framework for emitting log messages from your Python applications. It is a standard way to record messages at various levels of severity or importance during the execution of your program. This is particularly useful for debugging, monitoring, and maintaining your code.\\n\\nHere's a brief overview of how the logging module works:\\n\\nLogging Levels: The logging module defines several logging levels, including DEBUG, INFO, WARNING, ERROR, and CRITICAL, which correspond to different levels of severity for log messages. You can choose the appropriate level for each log message based on its importance.\\n\\nLoggers: You create logger objects using the logging.getLogger() method. Each logger has a name, which allows you to organize your log messages into different categories or modules within your application.\\n\\nHandlers: Handlers are responsible for taking log messages and directing them to the appropriate output destinations. Common output destinations include the console, files, or even external services. The logging module provides various built-in handlers.\\n\\nFormatters: Formatters allow you to specify the format of the log messages. You can customize how log messages are presented, including timestamp format, log level, and the message itself.\""
      ]
     },
     "execution_count": 3,
     "metadata": {},
     "output_type": "execute_result"
    }
   ],
   "source": [
    "\"\"\" In Python, import logging is a way to include the Python Standard Library's logging module in your code. The logging module provides a flexible and powerful framework for emitting log messages from your Python applications. It is a standard way to record messages at various levels of severity or importance during the execution of your program. This is particularly useful for debugging, monitoring, and maintaining your code.\n",
    "\n",
    "Here's a brief overview of how the logging module works:\n",
    "\n",
    "Logging Levels: The logging module defines several logging levels, including DEBUG, INFO, WARNING, ERROR, and CRITICAL, which correspond to different levels of severity for log messages. You can choose the appropriate level for each log message based on its importance.\n",
    "\n",
    "Loggers: You create logger objects using the logging.getLogger() method. Each logger has a name, which allows you to organize your log messages into different categories or modules within your application.\n",
    "\n",
    "Handlers: Handlers are responsible for taking log messages and directing them to the appropriate output destinations. Common output destinations include the console, files, or even external services. The logging module provides various built-in handlers.\n",
    "\n",
    "Formatters: Formatters allow you to specify the format of the log messages. You can customize how log messages are presented, including timestamp format, log level, and the message itself.\"\"\""
   ]
  },
  {
   "cell_type": "code",
   "execution_count": 4,
   "id": "94b6eb15-98da-4649-a6b2-8b66f0632e76",
   "metadata": {},
   "outputs": [],
   "source": [
    "logging.info(\"this is my line of execution \")"
   ]
  },
  {
   "cell_type": "code",
   "execution_count": 5,
   "id": "3108baf9-df83-4530-85a3-397cfb67d4b7",
   "metadata": {},
   "outputs": [
    {
     "name": "stderr",
     "output_type": "stream",
     "text": [
      "ERROR:root:this is my error\n"
     ]
    }
   ],
   "source": [
    "logging.error(\"this is my error\")"
   ]
  },
  {
   "cell_type": "code",
   "execution_count": 6,
   "id": "636d6b53-b5e2-4e73-af14-5454239ff3e2",
   "metadata": {},
   "outputs": [
    {
     "name": "stderr",
     "output_type": "stream",
     "text": [
      "CRITICAL:root:this is my critical\n"
     ]
    }
   ],
   "source": [
    "logging.critical(\"this is my critical\")"
   ]
  },
  {
   "cell_type": "code",
   "execution_count": 7,
   "id": "a4a6e98c-4ca8-418c-b976-7029bc150d5f",
   "metadata": {},
   "outputs": [
    {
     "name": "stderr",
     "output_type": "stream",
     "text": [
      "WARNING:root:this is my warning \n"
     ]
    }
   ],
   "source": [
    "logging.warning(\"this is my warning \")"
   ]
  },
  {
   "cell_type": "code",
   "execution_count": 8,
   "id": "7c2f5b7a-65e6-41fa-9267-8a847aafe938",
   "metadata": {},
   "outputs": [],
   "source": [
    "logging.debug(\"this is my info related to debug\")"
   ]
  },
  {
   "cell_type": "code",
   "execution_count": 9,
   "id": "986e159d-557e-474d-8104-29bc82e6d553",
   "metadata": {},
   "outputs": [
    {
     "ename": "AttributeError",
     "evalue": "module 'logging' has no attribute 'noset'",
     "output_type": "error",
     "traceback": [
      "\u001b[0;31m---------------------------------------------------------------------------\u001b[0m",
      "\u001b[0;31mAttributeError\u001b[0m                            Traceback (most recent call last)",
      "Cell \u001b[0;32mIn[9], line 1\u001b[0m\n\u001b[0;32m----> 1\u001b[0m \u001b[43mlogging\u001b[49m\u001b[38;5;241;43m.\u001b[39;49m\u001b[43mnoset\u001b[49m(\u001b[38;5;124m\"\u001b[39m\u001b[38;5;124mthis is my noset related log\u001b[39m\u001b[38;5;124m\"\u001b[39m)\n",
      "\u001b[0;31mAttributeError\u001b[0m: module 'logging' has no attribute 'noset'"
     ]
    }
   ],
   "source": [
    "logging.noset(\"this is my noset related log\")"
   ]
  },
  {
   "cell_type": "code",
   "execution_count": 10,
   "id": "97b5e44a-a533-4f75-b805-c22fe4e6c41f",
   "metadata": {},
   "outputs": [],
   "source": [
    "## it is giving error because level is set to info"
   ]
  },
  {
   "cell_type": "code",
   "execution_count": 11,
   "id": "5f91212e-ee60-4e3f-bd91-b7666fe8b445",
   "metadata": {},
   "outputs": [],
   "source": [
    "logging.shutdown()"
   ]
  },
  {
   "cell_type": "markdown",
   "id": "94608c10-2721-4abb-b67c-91f075d8144a",
   "metadata": {},
   "source": [
    "1. NOSET\n",
    "2. DEBUG\n",
    "3. INFO\n",
    "4. WARNING\n",
    "5. ERROR\n",
    "6. CRITICAL"
   ]
  },
  {
   "cell_type": "code",
   "execution_count": 14,
   "id": "8e365345-fe0c-4a8d-b5b5-945d3ca6c98d",
   "metadata": {},
   "outputs": [],
   "source": [
    "## here above: heirarchy of levels "
   ]
  },
  {
   "cell_type": "code",
   "execution_count": 15,
   "id": "e257f8c0-6400-4e2e-8d47-78ec0f246d41",
   "metadata": {},
   "outputs": [],
   "source": [
    "logging.basicConfig(filename = \"test1.log\" , level = logging.DEBUG ,format = '%(asctime)s %(message)s'  )"
   ]
  },
  {
   "cell_type": "code",
   "execution_count": 16,
   "id": "76b7518a-a1f3-485a-8f7f-e0f4404bc3c7",
   "metadata": {},
   "outputs": [],
   "source": [
    "logging.info(\"this is my info log\")"
   ]
  },
  {
   "cell_type": "code",
   "execution_count": 17,
   "id": "329e238f-2662-40a7-a7a1-fca2f538e40e",
   "metadata": {},
   "outputs": [],
   "source": [
    "logging.debug(\"this is my debug log\")"
   ]
  },
  {
   "cell_type": "code",
   "execution_count": 18,
   "id": "e8cc8762-78f3-42b6-a245-6749e5f9c74e",
   "metadata": {},
   "outputs": [
    {
     "name": "stderr",
     "output_type": "stream",
     "text": [
      "WARNING:root:this is my warning \n"
     ]
    }
   ],
   "source": [
    "logging.warning(\"this is my warning \")"
   ]
  },
  {
   "cell_type": "code",
   "execution_count": 20,
   "id": "f0f55fc8-3ae0-4890-a751-c890183ba220",
   "metadata": {},
   "outputs": [],
   "source": [
    "logging.shutdown()"
   ]
  },
  {
   "cell_type": "code",
   "execution_count": 21,
   "id": "61627829-c5f7-42b6-b7b5-d734c529bf02",
   "metadata": {},
   "outputs": [],
   "source": [
    "logging.basicConfig(filename = \"test3.log\" , level = logging.DEBUG, format = '%(asctime)s %(name)s %(levelname)s  %(message)s')"
   ]
  },
  {
   "cell_type": "code",
   "execution_count": 22,
   "id": "1637b11a-de66-47bd-8d6d-7f228532f999",
   "metadata": {},
   "outputs": [],
   "source": [
    "logging.info(\"this is my info log\")"
   ]
  },
  {
   "cell_type": "code",
   "execution_count": 23,
   "id": "ceff52e1-71c2-4f44-aee4-bb3e1851e665",
   "metadata": {},
   "outputs": [],
   "source": [
    "l = [1,2,3,4,[4,5,6] , \"sudh\" ,\"kumar\"]"
   ]
  },
  {
   "cell_type": "code",
   "execution_count": 24,
   "id": "d4102be5-1ca0-4b5d-89bb-73de25fe286f",
   "metadata": {},
   "outputs": [],
   "source": [
    "l1_int = []\n",
    "l2_str = []\n",
    "for i in l : \n",
    "    logging.info(\"this is the start of my first for loop {}\".format(l))\n",
    "    logging.info(\"this is the value of i am logging {}\".format(i))\n",
    "    if type(i) == list:\n",
    "        for j in i :\n",
    "            logging.info(\"logggin my j {j} and i is {i}\".format(i = i ,j = j))\n",
    "            if type(j) == int :\n",
    "                l1_int.append(j)\n",
    "    elif type(i) == int :\n",
    "        l1_int.append(i)\n",
    "        \n",
    "    else :\n",
    "        if type(i) == str:\n",
    "            l2_str.append(i)\n",
    "logging.info(\"this is my final result  with all int {l1} ,with all str{l2}\".format(l1 =l1_int ,l2 =l2_str ))"
   ]
  },
  {
   "cell_type": "code",
   "execution_count": 25,
   "id": "a44e67ea-1f24-4ef4-80b8-8cc06d75d657",
   "metadata": {},
   "outputs": [
    {
     "data": {
      "text/plain": [
       "[1, 2, 3, 4, 4, 5, 6]"
      ]
     },
     "execution_count": 25,
     "metadata": {},
     "output_type": "execute_result"
    }
   ],
   "source": [
    "l1_int"
   ]
  },
  {
   "cell_type": "code",
   "execution_count": 26,
   "id": "8b4eb259-cc7a-416a-b572-3b920f920521",
   "metadata": {},
   "outputs": [
    {
     "data": {
      "text/plain": [
       "['sudh', 'kumar']"
      ]
     },
     "execution_count": 26,
     "metadata": {},
     "output_type": "execute_result"
    }
   ],
   "source": [
    "l2_str"
   ]
  },
  {
   "cell_type": "code",
   "execution_count": null,
   "id": "cf9c6c29-978c-450f-b93c-40f1f0b68f80",
   "metadata": {},
   "outputs": [],
   "source": []
  }
 ],
 "metadata": {
  "kernelspec": {
   "display_name": "Python 3 (ipykernel)",
   "language": "python",
   "name": "python3"
  },
  "language_info": {
   "codemirror_mode": {
    "name": "ipython",
    "version": 3
   },
   "file_extension": ".py",
   "mimetype": "text/x-python",
   "name": "python",
   "nbconvert_exporter": "python",
   "pygments_lexer": "ipython3",
   "version": "3.10.8"
  }
 },
 "nbformat": 4,
 "nbformat_minor": 5
}
