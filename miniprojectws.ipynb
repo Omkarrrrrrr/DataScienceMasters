{
 "cells": [
  {
   "cell_type": "code",
   "execution_count": 1,
   "id": "8f1c006a-d167-43ba-bee3-8e861e6c44aa",
   "metadata": {},
   "outputs": [],
   "source": [
    "import requests\n",
    "from bs4 import BeautifulSoup as bs\n",
    "from urllib.request import urlopen\n",
    "import logging"
   ]
  },
  {
   "cell_type": "code",
   "execution_count": 1,
   "id": "e276a849-d9c6-42c9-9267-e9c4247eb1ce",
   "metadata": {},
   "outputs": [],
   "source": [
    "flipcart_url = \"https://www.flipkart.com/search?q=\" + \"tv\""
   ]
  },
  {
   "cell_type": "code",
   "execution_count": 2,
   "id": "c6b1782c-a5aa-4b3d-b8ee-c41933ecc389",
   "metadata": {},
   "outputs": [
    {
     "data": {
      "text/plain": [
       "'https://www.flipkart.com/search?q=tv'"
      ]
     },
     "execution_count": 2,
     "metadata": {},
     "output_type": "execute_result"
    }
   ],
   "source": [
    "flipcart_url"
   ]
  },
  {
   "cell_type": "code",
   "execution_count": 4,
   "id": "e238356c-faf6-4105-a41f-e842efc506d1",
   "metadata": {},
   "outputs": [],
   "source": [
    "urlclient = urlopen(flipcart_url)"
   ]
  },
  {
   "cell_type": "code",
   "execution_count": 5,
   "id": "7c1381c4-c995-4af8-a163-a58e09db65e4",
   "metadata": {},
   "outputs": [],
   "source": [
    "flipcart_page = urlclient.read()"
   ]
  },
  {
   "cell_type": "code",
   "execution_count": 6,
   "id": "114a841f-7220-4d20-8985-ebc44639ea02",
   "metadata": {},
   "outputs": [],
   "source": [
    "flipcart_html = bs(flipcart_page , 'html.parser')"
   ]
  },
  {
   "cell_type": "code",
   "execution_count": 7,
   "id": "80701f46-4602-4922-9955-bad101a5be68",
   "metadata": {},
   "outputs": [
    {
     "data": {
      "text/plain": [
       "'https://www.flipkart.com/lg-80-cm-32-inch-hd-ready-led-smart-webos-tv/p/itm6207e6d122567?pid=TVSFTW4CSRW8PGDQ&lid=LSTTVSFTW4CSRW8PGDQSZQIO6&marketplace=FLIPKART&q=tv&store=ckf%2Fczl&srno=s_1_1&otracker=search&fm=organic&iid=a7b5104f-ead8-4380-965f-0fceded78ee8.TVSFTW4CSRW8PGDQ.SEARCH&ppt=None&ppn=None&ssid=7zn4x8lj0w0000001685044308725&qH=c9a1fdac6e082dd8'"
      ]
     },
     "execution_count": 7,
     "metadata": {},
     "output_type": "execute_result"
    }
   ],
   "source": [
    "\"https://www.flipkart.com\"+\"/lg-80-cm-32-inch-hd-ready-led-smart-webos-tv/p/itm6207e6d122567?pid=TVSFTW4CSRW8PGDQ&lid=LSTTVSFTW4CSRW8PGDQSZQIO6&marketplace=FLIPKART&q=tv&store=ckf%2Fczl&srno=s_1_1&otracker=search&fm=organic&iid=a7b5104f-ead8-4380-965f-0fceded78ee8.TVSFTW4CSRW8PGDQ.SEARCH&ppt=None&ppn=None&ssid=7zn4x8lj0w0000001685044308725&qH=c9a1fdac6e082dd8\""
   ]
  },
  {
   "cell_type": "code",
   "execution_count": 8,
   "id": "a0acfab2-cd19-4255-84ec-433dfa7c6c02",
   "metadata": {},
   "outputs": [],
   "source": [
    "bigbox = flipcart_html.find_all(\"div\" ,{\"class\":\"_1AtVbE col-12-12\"} )"
   ]
  },
  {
   "cell_type": "code",
   "execution_count": 9,
   "id": "f3cfe56b-07d2-47a5-94e7-a21895db822c",
   "metadata": {},
   "outputs": [
    {
     "data": {
      "text/plain": [
       "30"
      ]
     },
     "execution_count": 9,
     "metadata": {},
     "output_type": "execute_result"
    }
   ],
   "source": [
    "len(bigbox)"
   ]
  },
  {
   "cell_type": "code",
   "execution_count": 10,
   "id": "4a326bf2-b386-4c87-b1cc-304f5eddd1bd",
   "metadata": {},
   "outputs": [],
   "source": [
    "del bigbox[0:3]"
   ]
  },
  {
   "cell_type": "code",
   "execution_count": 11,
   "id": "eb76b0fe-44aa-4531-b183-7c166612e15e",
   "metadata": {},
   "outputs": [],
   "source": [
    "productlink = \"https://www.flipkart.com\" + bigbox[0].div.div.div.a['href']"
   ]
  },
  {
   "cell_type": "code",
   "execution_count": 12,
   "id": "e601639a-7884-4a00-83fd-93c6f4cc3945",
   "metadata": {},
   "outputs": [
    {
     "name": "stdout",
     "output_type": "stream",
     "text": [
      "https://www.flipkart.com/motorola-envision-80-cm-32-inch-hd-ready-led-smart-android-tv-11-bezel-less-design-dolby-audio-2023/p/itm5a06cfa39ea7f?pid=TVSGNSUEAPVVWGHP&lid=LSTTVSGNSUEAPVVWGHPXRFOAU&marketplace=FLIPKART&q=tv&store=ckf%2Fczl&srno=s_1_2&otracker=search&fm=organic&iid=en_SGRbLQqf6xoP2QbPznaMrsc9MT%2BDrgzRYWz0FmSKHqEIEjrVY0gxI3XtUjPus1%2B3%2BJ4DiBU7NbkuLa25Doo%2FRA%3D%3D&ppt=None&ppn=None&ssid=3u39woerhs0000001685044326658&qH=c9a1fdac6e082dd8\n",
      "https://www.flipkart.com/lg-80-cm-32-inch-hd-ready-led-smart-webos-tv/p/itm6207e6d122567?pid=TVSFTW4CSRW8PGDQ&lid=LSTTVSFTW4CSRW8PGDQSZQIO6&marketplace=FLIPKART&q=tv&store=ckf%2Fczl&srno=s_1_3&otracker=search&fm=organic&iid=6a6692cf-61b0-4f8b-a678-b1dc96003819.TVSFTW4CSRW8PGDQ.SEARCH&ppt=None&ppn=None&ssid=3u39woerhs0000001685044326658&qH=c9a1fdac6e082dd8\n",
      "https://www.flipkart.com/oneplus-y1s-80-cm-32-inch-hd-ready-led-smart-android-tv-11-bezel-less-frame/p/itm0a39edd7df236?pid=TVSGAXEVXNG9YBUM&lid=LSTTVSGAXEVXNG9YBUMNFXTWO&marketplace=FLIPKART&q=tv&store=ckf%2Fczl&srno=s_1_4&otracker=search&fm=organic&iid=6a6692cf-61b0-4f8b-a678-b1dc96003819.TVSGAXEVXNG9YBUM.SEARCH&ppt=None&ppn=None&ssid=3u39woerhs0000001685044326658&qH=c9a1fdac6e082dd8\n",
      "https://www.flipkart.com/infinix-y1-80-cm-32-inch-hd-ready-led-smart-linux-tv-wall-mount/p/itme5476ca89d1b0?pid=TVSGFGF34GMTB9KF&lid=LSTTVSGFGF34GMTB9KFNOEUDG&marketplace=FLIPKART&q=tv&store=ckf%2Fczl&spotlightTagId=BestsellerId_ckf%2Fczl&srno=s_1_5&otracker=search&fm=organic&iid=6a6692cf-61b0-4f8b-a678-b1dc96003819.TVSGFGF34GMTB9KF.SEARCH&ppt=None&ppn=None&ssid=3u39woerhs0000001685044326658&qH=c9a1fdac6e082dd8\n",
      "https://www.flipkart.com/realme-80-cm-32-inch-hd-ready-led-smart-android-tv/p/itm56d1cf16da75b?pid=TVSFRTJQTZVKTF6Y&lid=LSTTVSFRTJQTZVKTF6YTYQNP6&marketplace=FLIPKART&q=tv&store=ckf%2Fczl&spotlightTagId=BestsellerId_ckf%2Fczl&srno=s_1_6&otracker=search&fm=organic&iid=6a6692cf-61b0-4f8b-a678-b1dc96003819.TVSFRTJQTZVKTF6Y.SEARCH&ppt=None&ppn=None&ssid=3u39woerhs0000001685044326658&qH=c9a1fdac6e082dd8\n",
      "https://www.flipkart.com/thomson-alpha-80-cm-32-inch-hd-ready-led-smart-linux-tv-30-w-sound-output-bezel-less-design/p/itm0e90bcdadb9c9?pid=TVSGEMQV7R4CMTGA&lid=LSTTVSGEMQV7R4CMTGAODWDFI&marketplace=FLIPKART&q=tv&store=ckf%2Fczl&srno=s_1_7&otracker=search&fm=organic&iid=6a6692cf-61b0-4f8b-a678-b1dc96003819.TVSGEMQV7R4CMTGA.SEARCH&ppt=None&ppn=None&ssid=3u39woerhs0000001685044326658&qH=c9a1fdac6e082dd8\n",
      "https://www.flipkart.com/huidi-80-cm-32-inch-hd-ready-led-tv-bezel-less-display/p/itm980181eae4bd7?pid=TVSG5FP3VQXJJZBS&lid=LSTTVSG5FP3VQXJJZBSUEN4NU&marketplace=FLIPKART&q=tv&store=ckf%2Fczl&srno=s_1_8&otracker=search&fm=organic&iid=en_SGRbLQqf6xoP2QbPznaMrsc9MT%2BDrgzRYWz0FmSKHqGt3cqrJpBJgLdFk7PJTpzKUatiwwUc9%2FUR8jMFKb50aQ%3D%3D&ppt=None&ppn=None&ssid=3u39woerhs0000001685044326658&qH=c9a1fdac6e082dd8\n",
      "https://www.flipkart.com/acer-series-80-cm-32-inch-hd-ready-led-smart-android-tv-11-1-5gb-ram-2022-model/p/itm5767c4e3d5359?pid=TVSGEYD98YRZGSRU&lid=LSTTVSGEYD98YRZGSRUPETPT6&marketplace=FLIPKART&q=tv&store=ckf%2Fczl&srno=s_1_9&otracker=search&fm=organic&iid=6a6692cf-61b0-4f8b-a678-b1dc96003819.TVSGEYD98YRZGSRU.SEARCH&ppt=None&ppn=None&ssid=3u39woerhs0000001685044326658&qH=c9a1fdac6e082dd8\n",
      "https://www.flipkart.com/iffalcon-tcl-80-04-cm-32-inch-hd-ready-led-smart-android-tv-bezel-less-design-24w-speaker/p/itm82d22461c3761?pid=TVSGKNZGHCZRNEDW&lid=LSTTVSGKNZGHCZRNEDWPKDF2X&marketplace=FLIPKART&q=tv&store=ckf%2Fczl&srno=s_1_10&otracker=search&fm=organic&iid=6a6692cf-61b0-4f8b-a678-b1dc96003819.TVSGKNZGHCZRNEDW.SEARCH&ppt=None&ppn=None&ssid=3u39woerhs0000001685044326658&qH=c9a1fdac6e082dd8\n",
      "https://www.flipkart.com/qva-100-33-cm-40-inch-full-hd-led-smart-android-tv/p/itm689c217e77983?pid=TVSGMFVSVDYKWEZG&lid=LSTTVSGMFVSVDYKWEZGD6YETZ&marketplace=FLIPKART&q=tv&store=ckf%2Fczl&srno=s_1_11&otracker=search&fm=organic&iid=en_SGRbLQqf6xoP2QbPznaMrsc9MT%2BDrgzRYWz0FmSKHqGXuAKz8WkuEvtDBrG9%2FiX5fUnFodusfnQay5XqekbutQ%3D%3D&ppt=None&ppn=None&ssid=3u39woerhs0000001685044326658&qH=c9a1fdac6e082dd8\n",
      "https://www.flipkart.com/mi-x-series-108-cm-43-inch-ultra-hd-4k-led-smart-android-tv-dolby-vision-30w-audio-2022-model/p/itm39b39b602f81a?pid=TVSGHEQVGZVTSEBT&lid=LSTTVSGHEQVGZVTSEBT6BSNVA&marketplace=FLIPKART&q=tv&store=ckf%2Fczl&srno=s_1_12&otracker=search&fm=organic&iid=en_SGRbLQqf6xoP2QbPznaMrsc9MT%2BDrgzRYWz0FmSKHqHIk7vRNWHvaEMDbvcC8oTK%2BSctwvOpz3vWIYhbS%2F11yg%3D%3D&ppt=None&ppn=None&ssid=3u39woerhs0000001685044326658&qH=c9a1fdac6e082dd8\n",
      "https://www.flipkart.com/lg-uq7500-108-cm-43-inch-ultra-hd-4k-led-smart-webos-tv-2022/p/itm39fd5782b27ed?pid=TVSGFGYS5TJRUJNV&lid=LSTTVSGFGYS5TJRUJNVLCTYNB&marketplace=FLIPKART&q=tv&store=ckf%2Fczl&srno=s_1_13&otracker=search&fm=organic&iid=6a6692cf-61b0-4f8b-a678-b1dc96003819.TVSGFGYS5TJRUJNV.SEARCH&ppt=None&ppn=None&ssid=3u39woerhs0000001685044326658&qH=c9a1fdac6e082dd8\n",
      "https://www.flipkart.com/tcl-80-04-cm-32-inch-hd-ready-led-smart-android-tv-bezel-less-extra-brightness/p/itm1f6df5a8ab267?pid=TVSGKNZGMFPRKQJZ&lid=LSTTVSGKNZGMFPRKQJZS5GUN6&marketplace=FLIPKART&q=tv&store=ckf%2Fczl&srno=s_1_14&otracker=search&fm=organic&iid=6a6692cf-61b0-4f8b-a678-b1dc96003819.TVSGKNZGMFPRKQJZ.SEARCH&ppt=None&ppn=None&ssid=3u39woerhs0000001685044326658&qH=c9a1fdac6e082dd8\n",
      "https://www.flipkart.com/oneplus-y1s-101-cm-40-inch-full-hd-led-smart-android-tv-11-bezel-less-frame/p/itmdcbd9784403b2?pid=TVSGZ3WB6GBTZVGG&lid=LSTTVSGZ3WB6GBTZVGGEXDZ19&marketplace=FLIPKART&q=tv&store=ckf%2Fczl&srno=s_1_15&otracker=search&fm=organic&iid=6a6692cf-61b0-4f8b-a678-b1dc96003819.TVSGZ3WB6GBTZVGG.SEARCH&ppt=None&ppn=None&ssid=3u39woerhs0000001685044326658&qH=c9a1fdac6e082dd8\n",
      "https://www.flipkart.com/mi-5a-100-cm-40-inch-full-hd-led-smart-android-tv-dolby-audio-2022-model/p/itm6be60be56f52d?pid=TVSGD5CS4N7NWFZD&lid=LSTTVSGD5CS4N7NWFZDCMWLRV&marketplace=FLIPKART&q=tv&store=ckf%2Fczl&srno=s_1_16&otracker=search&fm=organic&iid=6a6692cf-61b0-4f8b-a678-b1dc96003819.TVSGD5CS4N7NWFZD.SEARCH&ppt=None&ppn=None&ssid=3u39woerhs0000001685044326658&qH=c9a1fdac6e082dd8\n",
      "https://www.flipkart.com/beethosol-80-cm-32-inch-hd-ready-led-tv/p/itmbc44ca58989cf?pid=TVSGG79MDS8CXWGD&lid=LSTTVSGG79MDS8CXWGD8P6NUB&marketplace=FLIPKART&q=tv&store=ckf%2Fczl&srno=s_1_17&otracker=search&fm=organic&iid=en_SGRbLQqf6xoP2QbPznaMrsc9MT%2BDrgzRYWz0FmSKHqHmh22GbQ3bzdUh1IyfITf1yoBpPHLrxYZtCL7WPqYI6g%3D%3D&ppt=None&ppn=None&ssid=3u39woerhs0000001685044326658&qH=c9a1fdac6e082dd8\n",
      "https://www.flipkart.com/oneplus-y1-80-cm-32-inch-hd-ready-led-smart-android-tv-dolby-audio/p/itme650a6bb8cee3?pid=TVSFVWD2ENXYGEJY&lid=LSTTVSFVWD2ENXYGEJY9U6ROG&marketplace=FLIPKART&q=tv&store=ckf%2Fczl&srno=s_1_18&otracker=search&fm=organic&iid=en_SGRbLQqf6xoP2QbPznaMrsc9MT%2BDrgzRYWz0FmSKHqGT2DRTQV%2FoyZ%2F1bprGtPFuCrEH1IDsH71B5t3gmceOsg%3D%3D&ppt=None&ppn=None&ssid=3u39woerhs0000001685044326658&qH=c9a1fdac6e082dd8\n",
      "https://www.flipkart.com/mi-x-series-125-cm-50-inch-ultra-hd-4k-led-smart-android-tv-dolby-vision-30w-audio-2022-model/p/itm85c3a9fbf7ed0?pid=TVSGHEQV4NQPS6EH&lid=LSTTVSGHEQV4NQPS6EHSZR7FS&marketplace=FLIPKART&q=tv&store=ckf%2Fczl&srno=s_1_19&otracker=search&fm=organic&iid=6a6692cf-61b0-4f8b-a678-b1dc96003819.TVSGHEQV4NQPS6EH.SEARCH&ppt=None&ppn=None&ssid=3u39woerhs0000001685044326658&qH=c9a1fdac6e082dd8\n",
      "https://www.flipkart.com/lg-uq7500-139-cm-55-inch-ultra-hd-4k-led-smart-webos-tv-2022/p/itm883b579f9fd9a?pid=TVSGFGYS52G4JWQM&lid=LSTTVSGFGYS52G4JWQM3QA9DK&marketplace=FLIPKART&q=tv&store=ckf%2Fczl&srno=s_1_20&otracker=search&fm=organic&iid=6a6692cf-61b0-4f8b-a678-b1dc96003819.TVSGFGYS52G4JWQM.SEARCH&ppt=None&ppn=None&ssid=3u39woerhs0000001685044326658&qH=c9a1fdac6e082dd8\n",
      "https://www.flipkart.com/qva-80-cm-32-inch-hd-ready-led-smart-android-tv/p/itm87f60daf21f36?pid=TVSGMFVSXPHFZSQH&lid=LSTTVSGMFVSXPHFZSQHLSGSRD&marketplace=FLIPKART&q=tv&store=ckf%2Fczl&srno=s_1_21&otracker=search&fm=organic&iid=en_SGRbLQqf6xoP2QbPznaMrsc9MT%2BDrgzRYWz0FmSKHqFvJLqVSi%2BBc9vfD3p4h7T4tj84N4A4JOEVHqZxDvOj5g%3D%3D&ppt=None&ppn=None&ssid=3u39woerhs0000001685044326658&qH=c9a1fdac6e082dd8\n",
      "https://www.flipkart.com/sony-108-cm-43-inch-ultra-hd-4k-led-smart-google-tv/p/itm1998cfc119697?pid=TVSGZF5DUBHEVWHT&lid=LSTTVSGZF5DUBHEVWHTXQVYFY&marketplace=FLIPKART&q=tv&store=ckf%2Fczl&srno=s_1_22&otracker=search&fm=organic&iid=en_SGRbLQqf6xoP2QbPznaMrsc9MT%2BDrgzRYWz0FmSKHqFJ39YaLPPxlN%2FO0%2BP5PHV6JHijli2HPGExWdYvaFZq2w%3D%3D&ppt=None&ppn=None&ssid=3u39woerhs0000001685044326658&qH=c9a1fdac6e082dd8\n",
      "https://www.flipkart.com/oneplus-y1-100-cm-40-inch-full-hd-led-smart-android-tv-dolby-audio/p/itm56416c21fbb28?pid=TVSG25MMGB8NKFD8&lid=LSTTVSG25MMGB8NKFD8MWAMJF&marketplace=FLIPKART&q=tv&store=ckf%2Fczl&srno=s_1_23&otracker=search&fm=organic&iid=6a6692cf-61b0-4f8b-a678-b1dc96003819.TVSG25MMGB8NKFD8.SEARCH&ppt=None&ppn=None&ssid=3u39woerhs0000001685044326658&qH=c9a1fdac6e082dd8\n",
      "https://www.flipkart.com/thomson-alpha-100-cm-40-inch-full-hd-led-smart-linux-tv-30-w-sound-output-bezel-less-design/p/itmdc7dd44cc7e5b?pid=TVSGMGWWMFGBU8FF&lid=LSTTVSGMGWWMFGBU8FFHXANCO&marketplace=FLIPKART&q=tv&store=ckf%2Fczl&srno=s_1_24&otracker=search&fm=organic&iid=6a6692cf-61b0-4f8b-a678-b1dc96003819.TVSGMGWWMFGBU8FF.SEARCH&ppt=None&ppn=None&ssid=3u39woerhs0000001685044326658&qH=c9a1fdac6e082dd8\n"
     ]
    },
    {
     "ename": "AttributeError",
     "evalue": "'NoneType' object has no attribute 'a'",
     "output_type": "error",
     "traceback": [
      "\u001b[0;31m---------------------------------------------------------------------------\u001b[0m",
      "\u001b[0;31mAttributeError\u001b[0m                            Traceback (most recent call last)",
      "Cell \u001b[0;32mIn[12], line 2\u001b[0m\n\u001b[1;32m      1\u001b[0m \u001b[38;5;28;01mfor\u001b[39;00m i \u001b[38;5;129;01min\u001b[39;00m bigbox:\n\u001b[0;32m----> 2\u001b[0m     \u001b[38;5;28mprint\u001b[39m(\u001b[38;5;124m\"\u001b[39m\u001b[38;5;124mhttps://www.flipkart.com\u001b[39m\u001b[38;5;124m\"\u001b[39m \u001b[38;5;241m+\u001b[39m \u001b[43mi\u001b[49m\u001b[38;5;241;43m.\u001b[39;49m\u001b[43mdiv\u001b[49m\u001b[38;5;241;43m.\u001b[39;49m\u001b[43mdiv\u001b[49m\u001b[38;5;241;43m.\u001b[39;49m\u001b[43mdiv\u001b[49m\u001b[38;5;241;43m.\u001b[39;49m\u001b[43ma\u001b[49m[\u001b[38;5;124m'\u001b[39m\u001b[38;5;124mhref\u001b[39m\u001b[38;5;124m'\u001b[39m])\n",
      "\u001b[0;31mAttributeError\u001b[0m: 'NoneType' object has no attribute 'a'"
     ]
    }
   ],
   "source": [
    "for i in bigbox:\n",
    "    print(\"https://www.flipkart.com\" + i.div.div.div.a['href'])"
   ]
  },
  {
   "cell_type": "code",
   "execution_count": 13,
   "id": "a7199aa7-4efd-4989-a8b0-581e06621b95",
   "metadata": {},
   "outputs": [
    {
     "data": {
      "text/plain": [
       "'https://www.flipkart.com/motorola-envision-80-cm-32-inch-hd-ready-led-smart-android-tv-11-bezel-less-design-dolby-audio-2023/p/itm5a06cfa39ea7f?pid=TVSGNSUEAPVVWGHP&lid=LSTTVSGNSUEAPVVWGHPXRFOAU&marketplace=FLIPKART&q=tv&store=ckf%2Fczl&srno=s_1_2&otracker=search&fm=organic&iid=en_SGRbLQqf6xoP2QbPznaMrsc9MT%2BDrgzRYWz0FmSKHqEIEjrVY0gxI3XtUjPus1%2B3%2BJ4DiBU7NbkuLa25Doo%2FRA%3D%3D&ppt=None&ppn=None&ssid=3u39woerhs0000001685044326658&qH=c9a1fdac6e082dd8'"
      ]
     },
     "execution_count": 13,
     "metadata": {},
     "output_type": "execute_result"
    }
   ],
   "source": [
    "productlink"
   ]
  },
  {
   "cell_type": "code",
   "execution_count": 14,
   "id": "83c48a26-db62-4275-a663-04bbd3ff15ba",
   "metadata": {},
   "outputs": [],
   "source": [
    "procuct_req = requests.get(productlink)"
   ]
  },
  {
   "cell_type": "code",
   "execution_count": 15,
   "id": "289221bb-6112-4415-9cc5-896c99884bb2",
   "metadata": {},
   "outputs": [],
   "source": [
    "product_html = bs(procuct_req.text,'html.parser')"
   ]
  },
  {
   "cell_type": "code",
   "execution_count": 16,
   "id": "8929fafe-5503-4847-9381-a6069eb7b491",
   "metadata": {},
   "outputs": [],
   "source": [
    "coment_box = product_html.find_all(\"div\",{\"class\":\"_16PBlm\"})"
   ]
  },
  {
   "cell_type": "code",
   "execution_count": 17,
   "id": "184cc3e7-223f-43cf-95b2-494c55f28c28",
   "metadata": {},
   "outputs": [
    {
     "data": {
      "text/plain": [
       "11"
      ]
     },
     "execution_count": 17,
     "metadata": {},
     "output_type": "execute_result"
    }
   ],
   "source": [
    "len(coment_box)"
   ]
  },
  {
   "cell_type": "code",
   "execution_count": 19,
   "id": "38a874c5-4e5c-4d66-ad49-e73919e3e40a",
   "metadata": {},
   "outputs": [
    {
     "data": {
      "text/plain": [
       "'Sivanandhan Karthikeyan'"
      ]
     },
     "execution_count": 19,
     "metadata": {},
     "output_type": "execute_result"
    }
   ],
   "source": [
    "coment_box[0].div.div.find_all(\"p\",{\"class\":\"_2sc7ZR _2V5EHH\"})[0].text"
   ]
  },
  {
   "cell_type": "code",
   "execution_count": 20,
   "id": "08c55087-fa2c-4451-a365-096578ff8e64",
   "metadata": {},
   "outputs": [
    {
     "name": "stdout",
     "output_type": "stream",
     "text": [
      "Sivanandhan Karthikeyan\n",
      "Ganesh Mohan\n",
      "Reggie Gomez\n",
      "Tushar Ambuskar\n",
      "Sagar Mali\n",
      "chanda Nikhar\n",
      "NAVNEET  KUMAR\n",
      "Dhruvin Ahir\n",
      "Noor  Alam\n",
      "Boya Ramakrishna25 Ramakrishna\n"
     ]
    },
    {
     "ename": "AttributeError",
     "evalue": "'NoneType' object has no attribute 'div'",
     "output_type": "error",
     "traceback": [
      "\u001b[0;31m---------------------------------------------------------------------------\u001b[0m",
      "\u001b[0;31mAttributeError\u001b[0m                            Traceback (most recent call last)",
      "Cell \u001b[0;32mIn[20], line 2\u001b[0m\n\u001b[1;32m      1\u001b[0m \u001b[38;5;28;01mfor\u001b[39;00m i \u001b[38;5;129;01min\u001b[39;00m coment_box:\n\u001b[0;32m----> 2\u001b[0m     \u001b[38;5;28mprint\u001b[39m(\u001b[43mi\u001b[49m\u001b[38;5;241;43m.\u001b[39;49m\u001b[43mdiv\u001b[49m\u001b[38;5;241;43m.\u001b[39;49m\u001b[43mdiv\u001b[49m\u001b[38;5;241m.\u001b[39mfind_all(\u001b[38;5;124m\"\u001b[39m\u001b[38;5;124mp\u001b[39m\u001b[38;5;124m\"\u001b[39m,{\u001b[38;5;124m\"\u001b[39m\u001b[38;5;124mclass\u001b[39m\u001b[38;5;124m\"\u001b[39m:\u001b[38;5;124m\"\u001b[39m\u001b[38;5;124m_2sc7ZR _2V5EHH\u001b[39m\u001b[38;5;124m\"\u001b[39m})[\u001b[38;5;241m0\u001b[39m]\u001b[38;5;241m.\u001b[39mtext)\n",
      "\u001b[0;31mAttributeError\u001b[0m: 'NoneType' object has no attribute 'div'"
     ]
    }
   ],
   "source": [
    "for i in coment_box:\n",
    "    print(i.div.div.find_all(\"p\",{\"class\":\"_2sc7ZR _2V5EHH\"})[0].text)"
   ]
  },
  {
   "cell_type": "code",
   "execution_count": 21,
   "id": "82aef5f1-bb07-4e99-8f07-44371e3739bf",
   "metadata": {},
   "outputs": [
    {
     "name": "stdout",
     "output_type": "stream",
     "text": [
      "4\n",
      "5\n",
      "5\n",
      "4\n",
      "5\n",
      "4\n",
      "5\n",
      "5\n",
      "5\n",
      "5\n"
     ]
    },
    {
     "ename": "AttributeError",
     "evalue": "'NoneType' object has no attribute 'div'",
     "output_type": "error",
     "traceback": [
      "\u001b[0;31m---------------------------------------------------------------------------\u001b[0m",
      "\u001b[0;31mAttributeError\u001b[0m                            Traceback (most recent call last)",
      "Cell \u001b[0;32mIn[21], line 2\u001b[0m\n\u001b[1;32m      1\u001b[0m \u001b[38;5;28;01mfor\u001b[39;00m i \u001b[38;5;129;01min\u001b[39;00m coment_box:\n\u001b[0;32m----> 2\u001b[0m     \u001b[38;5;28mprint\u001b[39m(\u001b[43mi\u001b[49m\u001b[38;5;241;43m.\u001b[39;49m\u001b[43mdiv\u001b[49m\u001b[38;5;241;43m.\u001b[39;49m\u001b[43mdiv\u001b[49m\u001b[38;5;241m.\u001b[39mdiv\u001b[38;5;241m.\u001b[39mdiv\u001b[38;5;241m.\u001b[39mtext)\n",
      "\u001b[0;31mAttributeError\u001b[0m: 'NoneType' object has no attribute 'div'"
     ]
    }
   ],
   "source": [
    "for i in coment_box:\n",
    "    print(i.div.div.div.div.text)"
   ]
  },
  {
   "cell_type": "code",
   "execution_count": 22,
   "id": "5bd1dff5-387c-4796-8e7e-7f2a79d32ea5",
   "metadata": {},
   "outputs": [
    {
     "data": {
      "text/plain": [
       "'Value-for-money'"
      ]
     },
     "execution_count": 22,
     "metadata": {},
     "output_type": "execute_result"
    }
   ],
   "source": [
    "coment_box[0].div.div.div.p.text\n"
   ]
  },
  {
   "cell_type": "code",
   "execution_count": 23,
   "id": "ce0fbcf9-f33b-459c-8b44-e3467a71ea2a",
   "metadata": {},
   "outputs": [
    {
     "name": "stdout",
     "output_type": "stream",
     "text": [
      "Value-for-money\n",
      "Classy product\n",
      "Worth every penny\n",
      "Delightful\n",
      "Super!\n",
      "Good choice\n",
      "Classy product\n",
      "Must buy!\n",
      "Simply awesome\n",
      "Highly recommended\n"
     ]
    },
    {
     "ename": "AttributeError",
     "evalue": "'NoneType' object has no attribute 'div'",
     "output_type": "error",
     "traceback": [
      "\u001b[0;31m---------------------------------------------------------------------------\u001b[0m",
      "\u001b[0;31mAttributeError\u001b[0m                            Traceback (most recent call last)",
      "Cell \u001b[0;32mIn[23], line 2\u001b[0m\n\u001b[1;32m      1\u001b[0m \u001b[38;5;28;01mfor\u001b[39;00m i \u001b[38;5;129;01min\u001b[39;00m coment_box:\n\u001b[0;32m----> 2\u001b[0m     \u001b[38;5;28mprint\u001b[39m(\u001b[43mi\u001b[49m\u001b[38;5;241;43m.\u001b[39;49m\u001b[43mdiv\u001b[49m\u001b[38;5;241;43m.\u001b[39;49m\u001b[43mdiv\u001b[49m\u001b[38;5;241m.\u001b[39mdiv\u001b[38;5;241m.\u001b[39mp\u001b[38;5;241m.\u001b[39mtext )\n",
      "\u001b[0;31mAttributeError\u001b[0m: 'NoneType' object has no attribute 'div'"
     ]
    }
   ],
   "source": [
    "for i in coment_box:\n",
    "    print(i.div.div.div.p.text )"
   ]
  },
  {
   "cell_type": "code",
   "execution_count": 24,
   "id": "3d1818d7-2ca6-492c-9d70-d01dd81d5095",
   "metadata": {},
   "outputs": [
    {
     "data": {
      "text/plain": [
       "\"Bought it after my friend suggested it. It's really a good one. UHD at this price and it's a 2022 version. it connects like a charm.Switching between cable connection and net is very easy. It has eARC hdmi version 2.  Coming to TV inam really impressed by the performance. Dolby sound i heard in Disney hotstar (Movie Vikram) it was really super experience.READ MORE\""
      ]
     },
     "execution_count": 24,
     "metadata": {},
     "output_type": "execute_result"
    }
   ],
   "source": [
    "coment_box[0].div.div.find_all(\"div\",{\"class\":\"\"})[0].text"
   ]
  },
  {
   "cell_type": "code",
   "execution_count": 25,
   "id": "6a9f21d5-d06f-4722-ab55-d47ab82018c6",
   "metadata": {},
   "outputs": [
    {
     "name": "stdout",
     "output_type": "stream",
     "text": [
      "Bought it after my friend suggested it. It's really a good one. UHD at this price and it's a 2022 version. it connects like a charm.Switching between cable connection and net is very easy. It has eARC hdmi version 2.  Coming to TV inam really impressed by the performance. Dolby sound i heard in Disney hotstar (Movie Vikram) it was really super experience.READ MORE\n",
      "After 10 Days of review. Sounds are pretty good and Clean. Dont expect bass not only motorola but in any brands of television. It will be awesome when you have decent soundbar with woofer. I am using Blaupunkt. Picture quality is more perfect than thomson, TCL, VU while comparing at this price range. I happy with the product. 4K contents are buttery smooth. I didnt find any color or light bleeds at the corners of the screen. With the few color adjustments you will feel good quality. My Rati...READ MORE\n",
      "It's a good product at this price. I got it for 13999 and bought it a month ago right after it was launched. Picture quality is great. Vivid colours with a variety of settings to match your colour preferences. Sound quality is good not great.. it's loud enough but il need a sound bar for more effective quality.. The only con is the remote sensor. It requires more than one attempt to switch it on.But other than that it's a really wonderful product with the latest features in this range.READ MORE\n",
      "Using 32 inch TV since 3 weeks overall Good TV , Value for money, picture quality is good for HD channels, SD channel are not very clear like HD.Quite disappointed with tv sound, if we increase the sound it's not audible clearly. Google assistant works properly.READ MORE\n",
      "Picture quality is great, dolby sound is also good, you will get a theatre experience while watching on netflix. Value for money tv, picture up scaling from USB device is also good, HD channel also have very good picture quality and colors. Very satisfied with Tv. Only one improvement needed in audio clarity. Otherwise picture quality is very good at this price point.READ MORE\n",
      "TV is just an average model,sound quality is not good as excepted, Picture quality is nice. It would have been better if Ram was a little more like upto 16gb.READ MORE\n",
      "Product is very nice and value for money.Picture quality is best and sound of TV is very good.Overall, very good decision for going to Motorola brand..READ MORE\n",
      "Best All-Rounder TV in This Price Range1 Stunning Picture Quality2 Superior Sound Quality feels like i Purchased Dedicated SoundBar3 Clean OS ExperienceNeed some improvements and bug fixes1 Some time OS running slow and lagy when TV starts2 Some time Apps opening delayin Conclusion This TV is Best, but need Some OS Optimisations in UpdateREAD MORE\n",
      "TV is very good especially at the time of offer I got it for good money The screen of the TV is cool and sound and the sound is good No problem in connectingREAD MORE\n",
      "Motorola revou tv 32 Inc 24 speaker best sound clarity best clarity best budget tv very good tv 2montha vadhuthuna very beautiful tvREAD MORE\n"
     ]
    },
    {
     "ename": "AttributeError",
     "evalue": "'NoneType' object has no attribute 'div'",
     "output_type": "error",
     "traceback": [
      "\u001b[0;31m---------------------------------------------------------------------------\u001b[0m",
      "\u001b[0;31mAttributeError\u001b[0m                            Traceback (most recent call last)",
      "Cell \u001b[0;32mIn[25], line 2\u001b[0m\n\u001b[1;32m      1\u001b[0m \u001b[38;5;28;01mfor\u001b[39;00m i \u001b[38;5;129;01min\u001b[39;00m coment_box:\n\u001b[0;32m----> 2\u001b[0m     \u001b[38;5;28mprint\u001b[39m(\u001b[43mi\u001b[49m\u001b[38;5;241;43m.\u001b[39;49m\u001b[43mdiv\u001b[49m\u001b[38;5;241;43m.\u001b[39;49m\u001b[43mdiv\u001b[49m\u001b[38;5;241m.\u001b[39mfind_all(\u001b[38;5;124m\"\u001b[39m\u001b[38;5;124mdiv\u001b[39m\u001b[38;5;124m\"\u001b[39m,{\u001b[38;5;124m\"\u001b[39m\u001b[38;5;124mclass\u001b[39m\u001b[38;5;124m\"\u001b[39m:\u001b[38;5;124m\"\u001b[39m\u001b[38;5;124m\"\u001b[39m})[\u001b[38;5;241m0\u001b[39m]\u001b[38;5;241m.\u001b[39mtext)\n",
      "\u001b[0;31mAttributeError\u001b[0m: 'NoneType' object has no attribute 'div'"
     ]
    }
   ],
   "source": [
    "for i in coment_box:\n",
    "    print(i.div.div.find_all(\"div\",{\"class\":\"\"})[0].text)"
   ]
  },
  {
   "cell_type": "code",
   "execution_count": null,
   "id": "d2180e0e-7cd3-4195-8327-2921c7915376",
   "metadata": {},
   "outputs": [],
   "source": []
  }
 ],
 "metadata": {
  "kernelspec": {
   "display_name": "Python 3 (ipykernel)",
   "language": "python",
   "name": "python3"
  },
  "language_info": {
   "codemirror_mode": {
    "name": "ipython",
    "version": 3
   },
   "file_extension": ".py",
   "mimetype": "text/x-python",
   "name": "python",
   "nbconvert_exporter": "python",
   "pygments_lexer": "ipython3",
   "version": "3.10.8"
  }
 },
 "nbformat": 4,
 "nbformat_minor": 5
}
