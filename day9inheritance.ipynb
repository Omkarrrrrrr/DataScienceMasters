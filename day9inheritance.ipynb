{
 "cells": [
  {
   "cell_type": "markdown",
   "id": "6e5b45a3-eccb-4304-93d4-09ecdfb903c5",
   "metadata": {},
   "source": [
    "### What is inheritance in Python with example?\n",
    "Inheritance relationship defines the classes that inherit from other classes as derived, subclass, or sub-type classes. Base class remains to be the source from which a subclass inherits. For example, you have a Base class of “Animal,” and a “Lion” is a Derived class. The inheritance will be Lion is an Animal."
   ]
  },
  {
   "cell_type": "code",
   "execution_count": 1,
   "id": "25433541-580d-415a-866e-d66919cab38a",
   "metadata": {},
   "outputs": [],
   "source": [
    "class parent:\n",
    "    \n",
    "    def test_parent(self) : \n",
    "        print(\"this is my parent class \")"
   ]
  },
  {
   "cell_type": "code",
   "execution_count": 2,
   "id": "5f034c3e-2d2b-4ee1-b0ad-fa0e8a30ddd8",
   "metadata": {},
   "outputs": [],
   "source": [
    "class child(parent):\n",
    "    pass"
   ]
  },
  {
   "cell_type": "code",
   "execution_count": 3,
   "id": "a8af646c-a3a1-45fc-a127-65707533971d",
   "metadata": {},
   "outputs": [],
   "source": [
    "child_obj = child()"
   ]
  },
  {
   "cell_type": "code",
   "execution_count": 4,
   "id": "465b674f-eaf0-4b1f-be97-dccb4ab65d4e",
   "metadata": {},
   "outputs": [
    {
     "name": "stdout",
     "output_type": "stream",
     "text": [
      "this is my parent class \n"
     ]
    }
   ],
   "source": [
    "child_obj.test_parent()"
   ]
  },
  {
   "cell_type": "code",
   "execution_count": 5,
   "id": "c9f935f7-0a53-4771-bf7b-6e83b247e48e",
   "metadata": {},
   "outputs": [],
   "source": [
    "class class1 :\n",
    "    def test_class1(self) : \n",
    "        print(\"this is my class1 \" )"
   ]
  },
  {
   "cell_type": "code",
   "execution_count": 6,
   "id": "a6a3e619-2014-4209-baa5-c24ce9c8162b",
   "metadata": {},
   "outputs": [],
   "source": [
    "class class2(class1) : \n",
    "    def test_class2(self) : \n",
    "        print(\"this is my class2\" )"
   ]
  },
  {
   "cell_type": "code",
   "execution_count": 7,
   "id": "197da6eb-608c-46eb-99d3-4afad519b3d2",
   "metadata": {},
   "outputs": [],
   "source": [
    "class class3(class2) : \n",
    "    def test_class3(self) : \n",
    "        print(\"this is my class3 \")"
   ]
  },
  {
   "cell_type": "code",
   "execution_count": 8,
   "id": "1ba94f6c-7552-40b6-a7e3-7d08831556e8",
   "metadata": {},
   "outputs": [],
   "source": [
    "obj_class3  = class3()"
   ]
  },
  {
   "cell_type": "code",
   "execution_count": 9,
   "id": "6cef5c14-fdb6-4a9e-bbaf-6038b640cd2f",
   "metadata": {},
   "outputs": [
    {
     "name": "stdout",
     "output_type": "stream",
     "text": [
      "this is my class1 \n"
     ]
    }
   ],
   "source": [
    "obj_class3.test_class1()"
   ]
  },
  {
   "cell_type": "code",
   "execution_count": 10,
   "id": "a6563945-0840-4d3a-9222-364d0aad0641",
   "metadata": {},
   "outputs": [
    {
     "name": "stdout",
     "output_type": "stream",
     "text": [
      "this is my class2\n"
     ]
    }
   ],
   "source": [
    "obj_class3.test_class2()"
   ]
  },
  {
   "cell_type": "code",
   "execution_count": 11,
   "id": "d35dd283-cf97-49e8-8acd-572d5865880f",
   "metadata": {},
   "outputs": [
    {
     "name": "stdout",
     "output_type": "stream",
     "text": [
      "this is my class3 \n"
     ]
    }
   ],
   "source": [
    "obj_class3.test_class3()"
   ]
  },
  {
   "cell_type": "code",
   "execution_count": 12,
   "id": "13cdf2ea-1d72-4077-80c4-2858af81033b",
   "metadata": {},
   "outputs": [],
   "source": [
    "class class1:\n",
    "    def test_class1(self) : \n",
    "        print(\"this is my class 1\" )"
   ]
  },
  {
   "cell_type": "code",
   "execution_count": 13,
   "id": "8a57b8d4-91aa-43ae-8683-57ae5e2e939d",
   "metadata": {},
   "outputs": [],
   "source": [
    "class class2 :\n",
    "    def test_class2(self) : \n",
    "        print(\"this is my class 2\")"
   ]
  },
  {
   "cell_type": "code",
   "execution_count": 14,
   "id": "5f6acc22-3214-4784-81cf-be33d5c6aa0e",
   "metadata": {},
   "outputs": [],
   "source": [
    "class class3 (class1 , class2) : \n",
    "    pass"
   ]
  },
  {
   "cell_type": "code",
   "execution_count": 15,
   "id": "f92229c1-9cf0-469f-8bcd-47dfe9868508",
   "metadata": {},
   "outputs": [],
   "source": [
    "obj_class3 = class3()"
   ]
  },
  {
   "cell_type": "code",
   "execution_count": 16,
   "id": "9000e7db-0e13-4da4-ac0e-345a577bb54b",
   "metadata": {},
   "outputs": [
    {
     "name": "stdout",
     "output_type": "stream",
     "text": [
      "this is my class 1\n"
     ]
    }
   ],
   "source": [
    "obj_class3.test_class1()"
   ]
  },
  {
   "cell_type": "code",
   "execution_count": 17,
   "id": "e037983f-c02f-44f9-996c-62ad72cebccc",
   "metadata": {},
   "outputs": [
    {
     "name": "stdout",
     "output_type": "stream",
     "text": [
      "this is my class 2\n"
     ]
    }
   ],
   "source": [
    "obj_class3.test_class2()"
   ]
  },
  {
   "cell_type": "code",
   "execution_count": null,
   "id": "4bc5a361-b149-4c85-b5ef-ca965e46abc6",
   "metadata": {},
   "outputs": [],
   "source": []
  }
 ],
 "metadata": {
  "kernelspec": {
   "display_name": "Python 3 (ipykernel)",
   "language": "python",
   "name": "python3"
  },
  "language_info": {
   "codemirror_mode": {
    "name": "ipython",
    "version": 3
   },
   "file_extension": ".py",
   "mimetype": "text/x-python",
   "name": "python",
   "nbconvert_exporter": "python",
   "pygments_lexer": "ipython3",
   "version": "3.10.8"
  }
 },
 "nbformat": 4,
 "nbformat_minor": 5
}
