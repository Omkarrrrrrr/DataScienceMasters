{
 "cells": [
  {
   "cell_type": "markdown",
   "id": "60922700-833e-427d-b030-d84ccc2bbfe9",
   "metadata": {},
   "source": [
    "# For adding two numbers"
   ]
  },
  {
   "cell_type": "code",
   "execution_count": 3,
   "id": "1cd1381a-fbc1-4746-bb40-29113928c002",
   "metadata": {},
   "outputs": [
    {
     "name": "stdout",
     "output_type": "stream",
     "text": [
      "11\n"
     ]
    }
   ],
   "source": [
    "def add_numbers(num1,num2):\n",
    "    return num1+num2\n",
    "\n",
    "result= add_numbers(5,6)\n",
    "print(result)"
   ]
  },
  {
   "cell_type": "markdown",
   "id": "0c6f266a-5308-4221-827e-f13b576d0e40",
   "metadata": {},
   "source": [
    "# Square root calculator"
   ]
  },
  {
   "cell_type": "code",
   "execution_count": 5,
   "id": "642cdd15-2a3b-4edf-8fa9-fb84fc5cf3e1",
   "metadata": {},
   "outputs": [
    {
     "name": "stdout",
     "output_type": "stream",
     "text": [
      "the square root of number 625 is 25.0\n"
     ]
    }
   ],
   "source": [
    "import math\n",
    "number = 625\n",
    "sqrt_number = math.sqrt(number)\n",
    "print(\"the square root of number\", number, \"is\", sqrt_number)"
   ]
  },
  {
   "cell_type": "markdown",
   "id": "7ec428a5-bb03-4684-ae9c-59b97baabbd8",
   "metadata": {},
   "source": [
    "# print prime number between 0 to 50"
   ]
  },
  {
   "cell_type": "code",
   "execution_count": 12,
   "id": "7ff84c82-6ef7-48cc-97eb-fdbc6260b1fd",
   "metadata": {},
   "outputs": [
    {
     "name": "stdout",
     "output_type": "stream",
     "text": [
      "2\n",
      "3\n",
      "5\n",
      "7\n",
      "11\n",
      "13\n",
      "17\n",
      "19\n",
      "23\n",
      "29\n",
      "31\n",
      "37\n",
      "41\n",
      "43\n",
      "47\n"
     ]
    }
   ],
   "source": [
    "for number in range(2, 51):\n",
    "    is_prime = True\n",
    "    for i in range(2, number):\n",
    "        if number % i == 0:\n",
    "            is_prime = False\n",
    "            break\n",
    "    if is_prime:\n",
    "        print(number)\n"
   ]
  },
  {
   "cell_type": "markdown",
   "id": "62f37c24-791f-4535-a9b9-33f080f1bd7e",
   "metadata": {},
   "source": [
    "# Swapping no examples"
   ]
  },
  {
   "cell_type": "code",
   "execution_count": 13,
   "id": "70567cdb-6f97-4de0-9f38-4716b167cef5",
   "metadata": {},
   "outputs": [
    {
     "name": "stdout",
     "output_type": "stream",
     "text": [
      "a 9\n",
      "b 5\n",
      "c 6\n"
     ]
    }
   ],
   "source": [
    "a = 5\n",
    "b = 6\n",
    "c = 9\n",
    "\n",
    "a,b,c = c,a,b\n",
    "\n",
    "print(\"a\", a)\n",
    "print(\"b\", b)\n",
    "print(\"c\", c)\n"
   ]
  },
  {
   "cell_type": "markdown",
   "id": "e0bd73ba-d893-4d9d-9c24-bf403aadd5e3",
   "metadata": {},
   "source": [
    "# For determining the nature of number"
   ]
  },
  {
   "cell_type": "code",
   "execution_count": 14,
   "id": "b0681205-51e5-416b-885b-deb5da521ad9",
   "metadata": {},
   "outputs": [
    {
     "name": "stdout",
     "output_type": "stream",
     "text": [
      "the number is positive\n"
     ]
    }
   ],
   "source": [
    "num = 87\n",
    "if num >0:\n",
    "    print(\"the number is positive\")\n",
    "elif num <0:\n",
    "     print(\"the number is negative\")\n",
    "else:\n",
    "    print(\"the number is zero\")\n",
    "    \n"
   ]
  },
  {
   "cell_type": "markdown",
   "id": "eb615caf-b31f-4d05-a4f9-4360329530ce",
   "metadata": {},
   "source": [
    "# For determining whether a given no is even or odd"
   ]
  },
  {
   "cell_type": "code",
   "execution_count": 15,
   "id": "e146d706-0ef9-4ad5-9bc3-43bf007c693f",
   "metadata": {},
   "outputs": [
    {
     "name": "stdout",
     "output_type": "stream",
     "text": [
      "the number is even\n"
     ]
    }
   ],
   "source": [
    "num = 98\n",
    "\n",
    "if num % 2 == 0:\n",
    "    print(\"the number is even\")\n",
    "else:\n",
    "    print(\"the number is odd\")"
   ]
  },
  {
   "cell_type": "markdown",
   "id": "c533af5e-94f6-4793-b205-ac84d7296ea6",
   "metadata": {},
   "source": [
    "# 7. Write a program for sum of digits.the digits are 76543 and the output should be  25.\n"
   ]
  },
  {
   "cell_type": "code",
   "execution_count": 17,
   "id": "d1068ada-462f-4cc0-968d-1c6fd7cbc90c",
   "metadata": {},
   "outputs": [
    {
     "name": "stdout",
     "output_type": "stream",
     "text": [
      "the sum of digits is 25\n"
     ]
    }
   ],
   "source": [
    "num = 76543\n",
    "sum_of_digits = 0\n",
    "\n",
    "while num>0:\n",
    "    sum_of_digits += num % 10\n",
    "    num //= 10\n",
    "\n",
    "print(\"the sum of digits is\", sum_of_digits)"
   ]
  },
  {
   "cell_type": "markdown",
   "id": "be5f47db-237e-494d-8696-f7a98322f67c",
   "metadata": {},
   "source": [
    " # 8. Write a program for reversing the given number  5436 and the output  should be 6345."
   ]
  },
  {
   "cell_type": "code",
   "execution_count": 19,
   "id": "ab6243bc-8542-4f4e-9285-beec7fbc0a8f",
   "metadata": {},
   "outputs": [
    {
     "name": "stdout",
     "output_type": "stream",
     "text": [
      "The reversed number is: 6345\n"
     ]
    }
   ],
   "source": [
    "num = 5436\n",
    "reverse = 0\n",
    "\n",
    "while num > 0:\n",
    "    # Extract the rightmost digit of the number\n",
    "    digit = num % 10\n",
    "    \n",
    "    # Add the extracted digit to the reverse number\n",
    "    reverse = (reverse * 10) + digit\n",
    "    \n",
    "    # Remove the rightmost digit from the number\n",
    "    num //= 10\n",
    "\n",
    "print(\"The reversed number is:\", reverse)"
   ]
  },
  {
   "cell_type": "markdown",
   "id": "76820630-dcad-451f-9f80-cbc0c4218c46",
   "metadata": {},
   "source": [
    "# 9.Write a program to check a given number 371 is an Armstrong number?"
   ]
  },
  {
   "cell_type": "code",
   "execution_count": 1,
   "id": "5170efb8-08a3-4970-a4bd-cf384d15dae3",
   "metadata": {},
   "outputs": [
    {
     "name": "stdout",
     "output_type": "stream",
     "text": [
      "371 is an Armstrong number\n"
     ]
    }
   ],
   "source": [
    "\n",
    "# Function to check if a number is an Armstrong number\n",
    "def is_armstrong(num):\n",
    "    # Get the number of digits in the given number\n",
    "    num_str = str(num)\n",
    "    num_digits = len(num_str)\n",
    "    \n",
    "    # Calculate the sum of the cubes of each digit\n",
    "    sum_of_cubes = sum([int(digit)**num_digits for digit in num_str])\n",
    "    \n",
    "    # Check if the sum of the cubes is equal to the original number\n",
    "    if sum_of_cubes == num:\n",
    "        return True\n",
    "    else:\n",
    "        return False\n",
    "\n",
    "# Test the function with the number 371\n",
    "num = 371\n",
    "if is_armstrong(num):\n",
    "    print(num, \"is an Armstrong number\")\n",
    "else:\n",
    "    print(num, \"is not an Armstrong number\")"
   ]
  },
  {
   "cell_type": "markdown",
   "id": "7d2cd38d-595f-4e69-9ee7-2c803d849319",
   "metadata": {},
   "source": [
    "# Write a program the given year is 1996 a leap year."
   ]
  },
  {
   "cell_type": "code",
   "execution_count": 2,
   "id": "bd2b1308-af58-4ec3-a861-a777c6bee360",
   "metadata": {},
   "outputs": [
    {
     "name": "stdout",
     "output_type": "stream",
     "text": [
      "1996 is a leap year\n"
     ]
    }
   ],
   "source": [
    "year = 1996\n",
    "\n",
    "if (year % 4 == 0 and year % 100 != 0) or (year % 400 == 0):\n",
    "    print(year, \"is a leap year\")\n",
    "else:\n",
    "    print(year, \"is not a leap year\")"
   ]
  },
  {
   "cell_type": "code",
   "execution_count": null,
   "id": "309ca39b-95e5-48dd-bc67-5868757ef2bb",
   "metadata": {},
   "outputs": [],
   "source": []
  }
 ],
 "metadata": {
  "kernelspec": {
   "display_name": "Python 3 (ipykernel)",
   "language": "python",
   "name": "python3"
  },
  "language_info": {
   "codemirror_mode": {
    "name": "ipython",
    "version": 3
   },
   "file_extension": ".py",
   "mimetype": "text/x-python",
   "name": "python",
   "nbconvert_exporter": "python",
   "pygments_lexer": "ipython3",
   "version": "3.10.8"
  }
 },
 "nbformat": 4,
 "nbformat_minor": 5
}
