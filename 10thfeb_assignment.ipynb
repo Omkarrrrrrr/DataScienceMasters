{
 "cells": [
  {
   "cell_type": "markdown",
   "id": "0ac5d01a-15b4-4bc8-a652-e3f5cb3a9eb9",
   "metadata": {},
   "source": [
    "# Q1. Which function is used to open a file? What are the different modes of opening a file? Explain each mode of file opening."
   ]
  },
  {
   "cell_type": "markdown",
   "id": "b84460cc-c944-4b4a-81b5-eb7c6b198981",
   "metadata": {},
   "source": [
    "'open()' method is used to open a file.\n",
    "\n",
    "Modes of openings a file are:\n",
    "\n",
    "read(r)\n",
    "\n",
    "write(w)\n",
    "\n",
    "append(a)\n",
    "\n",
    "read and write (r+)\n",
    "\n",
    "binary(b)"
   ]
  },
  {
   "cell_type": "markdown",
   "id": "5153a70a-9644-4a64-bbcd-915dfc756611",
   "metadata": {},
   "source": [
    "# Q2. Why close() function is used? Why is it important to close a file?"
   ]
  },
  {
   "cell_type": "markdown",
   "id": "f0146c12-9a87-4dd6-8ee3-c68d984e0a12",
   "metadata": {},
   "source": [
    "The 'close()' method is used to close the file after read and write using open() method.\n",
    "\n",
    "The 'close()' method is important because it cleans the system resources used by the file.\n",
    "\n",
    "If 'close()' is not used, then other programs which needs that file cannot read or write it because it is open somewhere else."
   ]
  },
  {
   "cell_type": "markdown",
   "id": "5aa5ceea-5342-44d0-8587-7ac2e18f483b",
   "metadata": {},
   "source": [
    "# Q3. Write a python program to create a text file. Write ‘I want to become a Data Scientist’ in that file. Then close the file. Open this file and read the content of the file."
   ]
  },
  {
   "cell_type": "code",
   "execution_count": 2,
   "id": "18e4ddf6-d71e-47b1-af55-5ddcc800dd78",
   "metadata": {},
   "outputs": [],
   "source": [
    "# create and write data\n",
    "f = open(\"Feb10_Q3.txt\",'w')\n",
    "f.write(\"I want to become a Data Scientist\")\n",
    "f.close()"
   ]
  },
  {
   "cell_type": "code",
   "execution_count": 3,
   "id": "9280006e-6e66-41fa-9558-36ae774e3323",
   "metadata": {},
   "outputs": [
    {
     "name": "stdout",
     "output_type": "stream",
     "text": [
      "I want to become a Data Scientist\n"
     ]
    }
   ],
   "source": [
    "f = open('Feb10_Q3.txt', 'r')\n",
    "print(f.read())\n",
    "f.close()"
   ]
  },
  {
   "cell_type": "markdown",
   "id": "0281e401-3ca1-4682-a254-94b476a24e31",
   "metadata": {},
   "source": [
    " # Q4. Explain the following with python code: read(), readline() and readlines()."
   ]
  },
  {
   "cell_type": "code",
   "execution_count": 4,
   "id": "226a118b",
   "metadata": {},
   "outputs": [],
   "source": [
    "f = open('Feb10_Q4.txt', 'w')\n",
    "f.write('Data Science\\nPW Skills\\niNeuron\\nJava Development')\n",
    "f.close()"
   ]
  },
  {
   "cell_type": "raw",
   "id": "d689dd6a-a2b7-4034-a542-a01ed938f8d8",
   "metadata": {},
   "source": [
    "read() method read all the data from the file"
   ]
  },
  {
   "cell_type": "code",
   "execution_count": 5,
   "id": "b211dec3-249d-4f2a-b46a-a36afc8b5bac",
   "metadata": {},
   "outputs": [
    {
     "name": "stdout",
     "output_type": "stream",
     "text": [
      "Data Science\n",
      "PW Skills\n",
      "iNeuron\n",
      "Java Development\n"
     ]
    }
   ],
   "source": [
    "f = open('Feb10_Q4.txt', 'r')\n",
    "print(f.read())  \n",
    "f.close()"
   ]
  },
  {
   "cell_type": "raw",
   "id": "9b436abf-4d48-4367-a503-bf5eb7c6643f",
   "metadata": {},
   "source": [
    "readline() method is used to read the first line of a file"
   ]
  },
  {
   "cell_type": "code",
   "execution_count": 6,
   "id": "418bb410-c8a9-49ed-b136-3a591c79909a",
   "metadata": {},
   "outputs": [
    {
     "name": "stdout",
     "output_type": "stream",
     "text": [
      "Data Science\n",
      "\n"
     ]
    }
   ],
   "source": [
    "f = open('Feb10_Q4.txt', 'r')\n",
    "print(f.readline()) \n",
    "f.close()"
   ]
  },
  {
   "cell_type": "raw",
   "id": "8e6da667-985e-45a8-8265-cfc24d0faec0",
   "metadata": {},
   "source": [
    "readlines() method is used to read all the lines from a file and show a list of all lines as a element"
   ]
  },
  {
   "cell_type": "code",
   "execution_count": 7,
   "id": "8cc61236-341d-450f-8d21-a69f286144c6",
   "metadata": {},
   "outputs": [
    {
     "name": "stdout",
     "output_type": "stream",
     "text": [
      "['Data Science\\n', 'PW Skills\\n', 'iNeuron\\n', 'Java Development']\n"
     ]
    }
   ],
   "source": [
    "f = open('Feb10_Q4.txt', 'r')\n",
    "print(f.readlines())   \n",
    "f.close()"
   ]
  },
  {
   "cell_type": "markdown",
   "id": "24ff4b4a-4e81-42d1-a2dd-7763b29e38bc",
   "metadata": {},
   "source": [
    "# Q5. Explain why with statement is used with open(). What is the advantage of using with statement and open() together?"
   ]
  },
  {
   "cell_type": "markdown",
   "id": "0c69b167-341e-4d58-9643-02ae3be11ca3",
   "metadata": {},
   "source": [
    "The 'with' statement is used with 'open()' method to open a file.\n",
    "\n",
    "The main advantage of using 'with' statement with 'open()' method is that it closes the file automatically after the operation on file is complete,whatever the operation is, either read,write and append etc...\n",
    "\n",
    "And, we don't need to used close() method after file use explicitly.\n",
    "\n",
    "Example;"
   ]
  },
  {
   "cell_type": "code",
   "execution_count": 8,
   "id": "65cfc155-9ed0-4116-bea6-71aa4f180d8c",
   "metadata": {},
   "outputs": [],
   "source": [
    "with open('Feb10_Q5.txt','w') as f:\n",
    "    f.write('File using with statement to open a file')"
   ]
  },
  {
   "cell_type": "code",
   "execution_count": 9,
   "id": "d20b4bc9-a6a5-41dd-ba36-750099cc3793",
   "metadata": {},
   "outputs": [
    {
     "name": "stdout",
     "output_type": "stream",
     "text": [
      "File using with statement to open a file\n"
     ]
    }
   ],
   "source": [
    "with open('Feb10_Q5.txt','r') as f:\n",
    "    print(f.read())"
   ]
  },
  {
   "cell_type": "markdown",
   "id": "6fba00a1-d162-495f-a6f8-ab95a1bc06c0",
   "metadata": {},
   "source": [
    "# Q6. Explain the write() and writelines() functions. Give a suitable example."
   ]
  },
  {
   "cell_type": "markdown",
   "id": "cb9ee208-957b-4e96-8caf-0e79eb596b72",
   "metadata": {},
   "source": [
    "'write()' method is used to write all the data as it is passed to write() method\n"
   ]
  },
  {
   "cell_type": "code",
   "execution_count": 10,
   "id": "7da67218-ab70-43d7-8ba7-1610569ce9ac",
   "metadata": {},
   "outputs": [],
   "source": [
    "f = open(\"Feb10_Q6_write().txt\",'w')\n",
    "f.write(\"'write()' method is used to write all the data as it is passed to write() method\")\n",
    "f.close()"
   ]
  },
  {
   "cell_type": "code",
   "execution_count": 11,
   "id": "26b94947-72be-4621-9a96-de070baae027",
   "metadata": {},
   "outputs": [
    {
     "name": "stdout",
     "output_type": "stream",
     "text": [
      "'write()' method is used to write all the data as it is passed to write() method\n"
     ]
    }
   ],
   "source": [
    "f = open('Feb10_Q6_write().txt', 'r')\n",
    "print(f.read())\n",
    "f.close()"
   ]
  },
  {
   "cell_type": "markdown",
   "id": "3a6524b6-d973-4e21-b76b-e53f7ad46682",
   "metadata": {},
   "source": [
    "writelines() is used to write the data in text format from a list of strings passed in writelines() method"
   ]
  },
  {
   "cell_type": "code",
   "execution_count": 12,
   "id": "22772cbb-8b71-482d-97b8-bd803304712c",
   "metadata": {},
   "outputs": [],
   "source": [
    "f = open(\"Feb10_Q6_writelines().txt\",'w')\n",
    "f.writelines(['Python',' is',' very', ' simple',' language'])\n",
    "f.close()"
   ]
  },
  {
   "cell_type": "code",
   "execution_count": 13,
   "id": "e6b92d27-6eb6-4cd2-ae6c-980a45c445b7",
   "metadata": {},
   "outputs": [
    {
     "name": "stdout",
     "output_type": "stream",
     "text": [
      "Python is very simple language\n"
     ]
    }
   ],
   "source": [
    "f = open('Feb10_Q6_writelines().txt', 'r')\n",
    "print(f.read())\n",
    "f.close()"
   ]
  },
  {
   "cell_type": "code",
   "execution_count": null,
   "id": "55ad6474-d0f9-4242-91bc-4f4f34f9124f",
   "metadata": {},
   "outputs": [],
   "source": []
  }
 ],
 "metadata": {
  "kernelspec": {
   "display_name": "Python 3 (ipykernel)",
   "language": "python",
   "name": "python3"
  },
  "language_info": {
   "codemirror_mode": {
    "name": "ipython",
    "version": 3
   },
   "file_extension": ".py",
   "mimetype": "text/x-python",
   "name": "python",
   "nbconvert_exporter": "python",
   "pygments_lexer": "ipython3",
   "version": "3.10.8"
  }
 },
 "nbformat": 4,
 "nbformat_minor": 5
}
