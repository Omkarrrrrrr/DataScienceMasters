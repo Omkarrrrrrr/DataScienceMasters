{
 "cells": [
  {
   "cell_type": "markdown",
   "id": "81f702e0-a002-492f-b86c-83fb421433db",
   "metadata": {},
   "source": [
    "# Functions assignment\n"
   ]
  },
  {
   "cell_type": "markdown",
   "id": "f1a3cbd4-36c8-4a5e-a235-04b0721e9034",
   "metadata": {},
   "source": [
    "# Q1. Which keyword is used to create a function? Create a function to return a list of odd numbers in the range of 1 to 25."
   ]
  },
  {
   "cell_type": "markdown",
   "id": "18eefd9b-9ac5-4758-a44a-0a8250b8a5d8",
   "metadata": {},
   "source": [
    "'def' keyword is used to create a function.\n",
    "\n"
   ]
  },
  {
   "cell_type": "code",
   "execution_count": 1,
   "id": "ed43055f-3ee6-4702-a1f5-587b246381ec",
   "metadata": {},
   "outputs": [
    {
     "data": {
      "text/plain": [
       "[1, 3, 5, 7, 9, 11, 13, 15, 17, 19, 21, 23]"
      ]
     },
     "execution_count": 1,
     "metadata": {},
     "output_type": "execute_result"
    }
   ],
   "source": [
    "def odd_nos():\n",
    "    odd_nos_list = []\n",
    "    for i in range(1,25):\n",
    "        if i %2 !=0:\n",
    "            odd_nos_list.append(i)\n",
    "    return odd_nos_list\n",
    "odd_nos()"
   ]
  },
  {
   "cell_type": "markdown",
   "id": "83d697a8-0669-475b-9759-1701634905b7",
   "metadata": {},
   "source": [
    "# Q2. Why *args and **kwargs is used in some functions? Create a function each for *args and **kwargs to demonstrate their use."
   ]
  },
  {
   "cell_type": "markdown",
   "id": "eecd214a-abef-4ee3-939f-9b93b5ad749c",
   "metadata": {},
   "source": [
    "*args are used in function definition to pass variable arguments to a function.\n",
    "\n",
    "**kwargs are used in function definiton to pass varible (key,value) pairs to a function."
   ]
  },
  {
   "cell_type": "code",
   "execution_count": 2,
   "id": "0e6b204d-b217-4b53-9230-ba95ec324465",
   "metadata": {},
   "outputs": [],
   "source": [
    "# *args\n",
    "\n",
    "def names(*args):\n",
    "    for name in args:\n",
    "        print(name)"
   ]
  },
  {
   "cell_type": "code",
   "execution_count": 3,
   "id": "dd5a452d-f888-47d3-bb1f-ae02f8767ae7",
   "metadata": {},
   "outputs": [
    {
     "name": "stdout",
     "output_type": "stream",
     "text": [
      "Python\n",
      "Java\n",
      "JavaScript\n"
     ]
    }
   ],
   "source": [
    "names('Python','Java','JavaScript')"
   ]
  },
  {
   "cell_type": "code",
   "execution_count": 4,
   "id": "2529b351-5a3e-47e9-9f21-63c0048b8619",
   "metadata": {},
   "outputs": [
    {
     "name": "stdout",
     "output_type": "stream",
     "text": [
      "Python\n",
      "Java\n",
      "JavaScript\n",
      "Ruby\n",
      "Perl\n",
      "Django\n"
     ]
    }
   ],
   "source": [
    "# Now, if want to add more names then we not need to change the function definition \n",
    "# We have to pass it , that all. for eg;\n",
    "\n",
    "names('Python','Java','JavaScript','Ruby','Perl','Django')"
   ]
  },
  {
   "cell_type": "code",
   "execution_count": 5,
   "id": "f316f90c-630b-4763-a079-bf9cf613a7f3",
   "metadata": {},
   "outputs": [],
   "source": [
    "# **kwargs\n",
    "\n",
    "def students(**kwargs):\n",
    "    for key, value in kwargs.items():\n",
    "        print(f'{key} age is {value}')"
   ]
  },
  {
   "cell_type": "code",
   "execution_count": 6,
   "id": "9b1702cf-e76c-4f7e-9932-ddd2af3125a3",
   "metadata": {},
   "outputs": [
    {
     "name": "stdout",
     "output_type": "stream",
     "text": [
      "Omi age is 23\n",
      "shubham age is 22\n"
     ]
    }
   ],
   "source": [
    "students(Omi = 23,shubham = 22)"
   ]
  },
  {
   "cell_type": "code",
   "execution_count": 7,
   "id": "1c9cca94-4e9c-434b-a10d-deb57470e246",
   "metadata": {},
   "outputs": [
    {
     "name": "stdout",
     "output_type": "stream",
     "text": [
      "pankaj age is 23\n",
      "siddhesh age is 22\n",
      "Govinda age is 23\n",
      "jagrut age is 21\n",
      "Vivek age is 25\n"
     ]
    }
   ],
   "source": [
    "# Now, if want to add more students then we not need to change the function definition \n",
    "# We have to pass it with their key,value pair that it. for eg;\n",
    "\n",
    "students(pankaj = 23,siddhesh = 22,Govinda = 23,jagrut = 21,Vivek = 25)"
   ]
  },
  {
   "cell_type": "markdown",
   "id": "6532f240-eef6-4319-8d17-0e6989f69dbd",
   "metadata": {},
   "source": [
    "# Q3. What is an iterator in python? Name the method used to initialise the iterator object and the methodused for iteration. Use these methods to print the first five elements of the given list [2, 4, 6, 8, 10, 12, 14, 16,18, 20]."
   ]
  },
  {
   "cell_type": "markdown",
   "id": "2ac94bda-f56d-4ceb-87e7-ab3a70b3664f",
   "metadata": {},
   "source": [
    "In Python, An iterator is an object which is used to iterate over a range of elements,\n",
    "\n",
    "It consists two methods iter() and next().\n",
    "\n",
    "iter() is used to initialize the iterator\n",
    "\n",
    "next() is used to iterate over the iterator"
   ]
  },
  {
   "cell_type": "code",
   "execution_count": 8,
   "id": "3d8c620b-1698-4fed-908d-d5227b364e55",
   "metadata": {},
   "outputs": [],
   "source": [
    "list1 = [2,4,6,8,10,12,14,16,18,20]"
   ]
  },
  {
   "cell_type": "code",
   "execution_count": 9,
   "id": "5d4e38be-61cd-4bb1-a74a-562d21f62340",
   "metadata": {},
   "outputs": [],
   "source": [
    "gen = list1.__iter__()"
   ]
  },
  {
   "cell_type": "markdown",
   "id": "501c092c-f156-4d37-ad18-73901b31479f",
   "metadata": {},
   "source": [
    "Now, generating the first 5 elements of the list1 using next() method"
   ]
  },
  {
   "cell_type": "code",
   "execution_count": 11,
   "id": "259a08f6-890b-47d0-a614-51f6907e711f",
   "metadata": {},
   "outputs": [
    {
     "data": {
      "text/plain": [
       "2"
      ]
     },
     "execution_count": 11,
     "metadata": {},
     "output_type": "execute_result"
    }
   ],
   "source": [
    "gen.__next__() "
   ]
  },
  {
   "cell_type": "code",
   "execution_count": 12,
   "id": "5762e7c8-bb61-4d49-85d9-0e6f1008fee0",
   "metadata": {},
   "outputs": [
    {
     "data": {
      "text/plain": [
       "4"
      ]
     },
     "execution_count": 12,
     "metadata": {},
     "output_type": "execute_result"
    }
   ],
   "source": [
    "gen.__next__() "
   ]
  },
  {
   "cell_type": "code",
   "execution_count": 13,
   "id": "3cb44c87-2443-494d-8a14-8095b127fed0",
   "metadata": {},
   "outputs": [
    {
     "data": {
      "text/plain": [
       "6"
      ]
     },
     "execution_count": 13,
     "metadata": {},
     "output_type": "execute_result"
    }
   ],
   "source": [
    "gen.__next__() "
   ]
  },
  {
   "cell_type": "code",
   "execution_count": 14,
   "id": "c2ede0fb-5e13-4524-9bd5-24ffd37b3b1c",
   "metadata": {},
   "outputs": [
    {
     "data": {
      "text/plain": [
       "8"
      ]
     },
     "execution_count": 14,
     "metadata": {},
     "output_type": "execute_result"
    }
   ],
   "source": [
    "gen.__next__() "
   ]
  },
  {
   "cell_type": "code",
   "execution_count": 15,
   "id": "923b592b-193e-4b92-9544-e43cb5d24057",
   "metadata": {},
   "outputs": [
    {
     "data": {
      "text/plain": [
       "10"
      ]
     },
     "execution_count": 15,
     "metadata": {},
     "output_type": "execute_result"
    }
   ],
   "source": [
    "gen.__next__() "
   ]
  },
  {
   "cell_type": "markdown",
   "id": "7b633d77-715d-43e0-bf6a-adf095113495",
   "metadata": {},
   "source": [
    "# Q4. What is a generator function in python? Why yield keyword is used? Give an example of a generator function."
   ]
  },
  {
   "cell_type": "markdown",
   "id": "6a7f85f0-caee-48c1-a743-2b0d737d788d",
   "metadata": {},
   "source": [
    "A 'generator' function is a special type of function that returns a generator object, which is an iterator that produces a series of values.\n",
    "\n",
    "The \"yield\" keyword is used to define a generator function."
   ]
  },
  {
   "cell_type": "code",
   "execution_count": 18,
   "id": "ff204a5f-c181-45c4-b406-c159c0f05ca8",
   "metadata": {},
   "outputs": [],
   "source": [
    "# Example of generator function \n",
    "def nos(n):\n",
    "    a = 1\n",
    "    for i in range(n):\n",
    "        yield a\n",
    "        a = a+1"
   ]
  },
  {
   "cell_type": "code",
   "execution_count": 19,
   "id": "ff0e9fe7-623a-4d4e-87e7-c2747046b214",
   "metadata": {},
   "outputs": [
    {
     "name": "stdout",
     "output_type": "stream",
     "text": [
      "1\n",
      "2\n",
      "3\n",
      "4\n",
      "5\n"
     ]
    }
   ],
   "source": [
    "# This will generate nos from 1 to 5\n",
    "for i in nos(5):\n",
    "    print(i)"
   ]
  },
  {
   "cell_type": "markdown",
   "id": "a94ed031-acde-4aa5-bbcc-df1d355395a7",
   "metadata": {},
   "source": [
    "# Q5. Create a generator function for prime numbers less than 1000. Use the next() method to print the first 20 prime numbers."
   ]
  },
  {
   "cell_type": "code",
   "execution_count": 21,
   "id": "c19e8eac-308e-48d9-8b17-a1b0068d64cf",
   "metadata": {},
   "outputs": [],
   "source": [
    "def prime_no():   \n",
    "    for i in range(2,1000): # prime numbers less than 1000 & 2 is the first prime no\n",
    "        prime = True        \n",
    "        for j in range(2,i):        \n",
    "            if i % j == 0:            \n",
    "                prime = False\n",
    "                break                        \n",
    "        if prime == True:\n",
    "            yield i      "
   ]
  },
  {
   "cell_type": "code",
   "execution_count": 22,
   "id": "417c8fc6-2def-4fb7-b3c7-e5e8c8e4ff19",
   "metadata": {},
   "outputs": [
    {
     "data": {
      "text/plain": [
       "<generator object prime_no at 0x7f657c7a1ee0>"
      ]
     },
     "execution_count": 22,
     "metadata": {},
     "output_type": "execute_result"
    }
   ],
   "source": [
    "gen = prime_no()\n",
    "gen"
   ]
  },
  {
   "cell_type": "code",
   "execution_count": 23,
   "id": "55b5f92a-fa29-4f8a-9c8d-9962a2425dd7",
   "metadata": {},
   "outputs": [
    {
     "name": "stdout",
     "output_type": "stream",
     "text": [
      "2\n",
      "3\n",
      "5\n",
      "7\n",
      "11\n",
      "13\n",
      "17\n",
      "19\n",
      "23\n",
      "29\n",
      "31\n",
      "37\n",
      "41\n",
      "43\n",
      "47\n",
      "53\n",
      "59\n",
      "61\n",
      "67\n",
      "71\n"
     ]
    }
   ],
   "source": [
    "for i in range(20):  # First 20 prime numbers using __next__() method\n",
    "    print(gen.__next__())"
   ]
  },
  {
   "cell_type": "code",
   "execution_count": null,
   "id": "78adf191-98bd-4f57-a635-88d32bd7edd7",
   "metadata": {},
   "outputs": [],
   "source": []
  }
 ],
 "metadata": {
  "kernelspec": {
   "display_name": "Python 3 (ipykernel)",
   "language": "python",
   "name": "python3"
  },
  "language_info": {
   "codemirror_mode": {
    "name": "ipython",
    "version": 3
   },
   "file_extension": ".py",
   "mimetype": "text/x-python",
   "name": "python",
   "nbconvert_exporter": "python",
   "pygments_lexer": "ipython3",
   "version": "3.10.8"
  }
 },
 "nbformat": 4,
 "nbformat_minor": 5
}
