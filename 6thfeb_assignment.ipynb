{
  "nbformat": 4,
  "nbformat_minor": 0,
  "metadata": {
    "colab": {
      "provenance": []
    },
    "kernelspec": {
      "name": "python3",
      "display_name": "Python 3"
    },
    "language_info": {
      "name": "python"
    }
  },
  "cells": [
    {
      "cell_type": "markdown",
      "source": [
        "**Q1. Create a function which will take a list as an argument and return the product of all the numbers\n",
        "after creating a flat list.\n",
        "Use the below-given list as an argument for your function.\n",
        "list1 = [1,2,3,4, [44,55,66, True], False, (34,56,78,89,34), {1,2,3,3,2,1}, {1:34, \"key2\": [55, 67, 78, 89], 4: (45,\n",
        "22, 61, 34)}, [56, 'data science'], 'Machine Learning']\n",
        "Note: you must extract numeric keys and values of the dictionary also.**"
      ],
      "metadata": {
        "id": "xHwGP9tfJM3b"
      }
    },
    {
      "cell_type": "code",
      "source": [
        "list1 = [1,2,3,4, [44,55,66, True], False, (34,56,78,89,34), {1,2,3,3,2,1}, {1:34, \"key2\": [55, 67, 78, 89], 4: (45, 22, 61, 34)}, [56, 'data science'], 'Machine Learning']"
      ],
      "metadata": {
        "id": "-OtVJntUJVT-"
      },
      "execution_count": 1,
      "outputs": []
    },
    {
      "cell_type": "code",
      "source": [
        "from functools import reduce\n",
        "def product(lis):\n",
        "    intList = []\n",
        "    def filter_int(lis):\n",
        "        if type(lis) == int:\n",
        "            intList.append(lis)\n",
        "        elif type(lis) == list or type (lis) == tuple or type(lis) == set:\n",
        "            for j in lis:\n",
        "                if type(j) == int:\n",
        "                    intList.append(j)\n",
        "    for i in list1:\n",
        "        filter_int(i)\n",
        "        if type(i) == dict:\n",
        "            for a in i.keys():\n",
        "                filter_int(a)\n",
        "            for b in i.values():\n",
        "                filter_int(b)\n",
        "    product = reduce(lambda x,y:x*y,intList)\n",
        "    print(f'List of filter Integers: {intList}')\n",
        "    return product"
      ],
      "metadata": {
        "id": "f1v_JBB-J2Bx"
      },
      "execution_count": 2,
      "outputs": []
    },
    {
      "cell_type": "code",
      "source": [
        "print(f'Product: {product(list1)}')"
      ],
      "metadata": {
        "colab": {
          "base_uri": "https://localhost:8080/"
        },
        "id": "NV8cT_h9J-oG",
        "outputId": "1632a6cd-b74b-48d8-b7cb-7a9a2e5db739"
      },
      "execution_count": 3,
      "outputs": [
        {
          "output_type": "stream",
          "name": "stdout",
          "text": [
            "List of filter Integers: [1, 2, 3, 4, 44, 55, 66, 34, 56, 78, 89, 34, 1, 2, 3, 1, 4, 34, 55, 67, 78, 89, 45, 22, 61, 34, 56]\n",
            "Product: 4134711838987085478833841242112000\n"
          ]
        }
      ]
    },
    {
      "cell_type": "markdown",
      "source": [
        "**Q2. Write a python program for encrypting a message sent to you by your friend. The logic of encryption\n",
        "should be such that, for a the output should be z. For b, the output should be y. For c, the output should\n",
        "be x respectively. Also, the whitespace should be replaced with a dollar sign. Keep the punctuation\n",
        "marks unchanged.\n",
        "Input Sentence: I want to become a Data Scientist.\n",
        "Encrypt the above input sentence using the program you just created.\n",
        "Note: Convert the given input sentence into lowercase before encrypting. The final output should be\n",
        "lowercase.**"
      ],
      "metadata": {
        "id": "nq4OTZcnKG4C"
      }
    },
    {
      "cell_type": "code",
      "source": [
        "sentence = \"I want to become a Data Scientist.\"\n",
        "encrypted_code = ''\n",
        "for ch in sentence.lower():\n",
        "    if ord(ch) >= 97 and ord(ch) <=122:\n",
        "        encrypted_code += chr(219-ord(ch))\n",
        "    elif ch == ' ':\n",
        "        encrypted_code += '$'\n",
        "    if ch == '.':\n",
        "        encrypted_code += '.'"
      ],
      "metadata": {
        "id": "usZhLNktKBue"
      },
      "execution_count": 4,
      "outputs": []
    },
    {
      "cell_type": "code",
      "source": [
        "print(f'Your encrypted msg of \\\"{sentence}\\\" is: {encrypted_code}')"
      ],
      "metadata": {
        "colab": {
          "base_uri": "https://localhost:8080/"
        },
        "id": "gXMpcwwXKLlc",
        "outputId": "df350940-90f5-4da9-829c-0b1c305a20d9"
      },
      "execution_count": 5,
      "outputs": [
        {
          "output_type": "stream",
          "name": "stdout",
          "text": [
            "Your encrypted msg of \"I want to become a Data Scientist.\" is: r$dzmg$gl$yvxlnv$z$wzgz$hxrvmgrhg.\n"
          ]
        }
      ]
    },
    {
      "cell_type": "code",
      "source": [],
      "metadata": {
        "id": "w09QsNXEKvHV"
      },
      "execution_count": null,
      "outputs": []
    }
  ]
}