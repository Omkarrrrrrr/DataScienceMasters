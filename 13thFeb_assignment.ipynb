{
 "cells": [
  {
   "cell_type": "markdown",
   "id": "89f7cabd-98be-4330-97df-dfe6b762ae66",
   "metadata": {},
   "source": [
    "# Q1. Explain why we have to use the Exception class while creating a Custom Exception. Note: Here Exception class refers to the base class for all the exceptions."
   ]
  },
  {
   "cell_type": "markdown",
   "id": "9351fb7f-9a3b-4d25-92a4-b30737df71fb",
   "metadata": {},
   "source": [
    "While creating our User-defined or Custom Exception class,We need to inherit Exception class because it is the base class for each kind of exception in python.\n",
    "Example:\n",
    "\n"
   ]
  },
  {
   "cell_type": "code",
   "execution_count": 3,
   "id": "21ffc67b-4a3a-4c57-8d3a-783225a6600d",
   "metadata": {},
   "outputs": [
    {
     "name": "stdin",
     "output_type": "stream",
     "text": [
      "Enter Age:  -4\n"
     ]
    },
    {
     "name": "stdout",
     "output_type": "stream",
     "text": [
      "NegAgeError: Invalid Age\n"
     ]
    }
   ],
   "source": [
    "class NegAgeError(Exception):\n",
    "    def __init__(self,msg):\n",
    "        self.msg = msg\n",
    "try:\n",
    "    age = int(input('Enter Age: '))\n",
    "    if age < 0:\n",
    "        raise NegAgeError('Invalid Age')\n",
    "    print(f'You are {age} yrs old')\n",
    "except NegAgeError as n:\n",
    "    print('NegAgeError:',n)"
   ]
  },
  {
   "cell_type": "markdown",
   "id": "c479227f-d015-4449-a6e4-9373b32fd529",
   "metadata": {},
   "source": [
    "# Q2. Write a python program to print Python Exception Hierarchy."
   ]
  },
  {
   "cell_type": "code",
   "execution_count": 4,
   "id": "f3ca0e35-5af2-4820-a55c-56477fb8fc4a",
   "metadata": {},
   "outputs": [
    {
     "name": "stdout",
     "output_type": "stream",
     "text": [
      " BaseException\n",
      "-- Exception\n",
      "---- TypeError\n",
      "------ FloatOperation\n",
      "------ MultipartConversionError\n",
      "---- StopAsyncIteration\n",
      "---- StopIteration\n",
      "---- ImportError\n",
      "------ ModuleNotFoundError\n",
      "------ ZipImportError\n",
      "---- OSError\n",
      "------ ConnectionError\n",
      "-------- BrokenPipeError\n",
      "-------- ConnectionAbortedError\n",
      "-------- ConnectionRefusedError\n",
      "-------- ConnectionResetError\n",
      "---------- RemoteDisconnected\n",
      "------ BlockingIOError\n",
      "------ ChildProcessError\n",
      "------ FileExistsError\n",
      "------ FileNotFoundError\n",
      "------ IsADirectoryError\n",
      "------ NotADirectoryError\n",
      "------ InterruptedError\n",
      "-------- InterruptedSystemCall\n",
      "------ PermissionError\n",
      "------ ProcessLookupError\n",
      "------ TimeoutError\n",
      "------ UnsupportedOperation\n",
      "------ itimer_error\n",
      "------ herror\n",
      "------ gaierror\n",
      "------ SSLError\n",
      "-------- SSLCertVerificationError\n",
      "-------- SSLZeroReturnError\n",
      "-------- SSLWantWriteError\n",
      "-------- SSLWantReadError\n",
      "-------- SSLSyscallError\n",
      "-------- SSLEOFError\n",
      "------ Error\n",
      "-------- SameFileError\n",
      "------ SpecialFileError\n",
      "------ ExecError\n",
      "------ ReadError\n",
      "------ URLError\n",
      "-------- HTTPError\n",
      "-------- ContentTooShortError\n",
      "------ BadGzipFile\n",
      "---- EOFError\n",
      "------ IncompleteReadError\n",
      "---- RuntimeError\n",
      "------ RecursionError\n",
      "------ NotImplementedError\n",
      "-------- ZMQVersionError\n",
      "-------- StdinNotImplementedError\n",
      "------ _DeadlockError\n",
      "------ BrokenBarrierError\n",
      "------ BrokenExecutor\n",
      "-------- BrokenThreadPool\n",
      "------ SendfileNotAvailableError\n",
      "------ ExtractionError\n",
      "------ VariableError\n",
      "---- NameError\n",
      "------ UnboundLocalError\n",
      "---- AttributeError\n",
      "------ FrozenInstanceError\n",
      "---- SyntaxError\n",
      "------ IndentationError\n",
      "-------- TabError\n",
      "---- LookupError\n",
      "------ IndexError\n",
      "------ KeyError\n",
      "-------- NoSuchKernel\n",
      "-------- UnknownBackend\n",
      "------ CodecRegistryError\n",
      "---- ValueError\n",
      "------ UnicodeError\n",
      "-------- UnicodeEncodeError\n",
      "-------- UnicodeDecodeError\n",
      "-------- UnicodeTranslateError\n",
      "------ UnsupportedOperation\n",
      "------ JSONDecodeError\n",
      "------ SSLCertVerificationError\n",
      "------ Error\n",
      "------ UnsupportedDigestmodError\n",
      "------ IllegalMonthError\n",
      "------ IllegalWeekdayError\n",
      "------ ParserError\n",
      "------ ClassNotFound\n",
      "------ ClipboardEmpty\n",
      "------ MessageDefect\n",
      "-------- NoBoundaryInMultipartDefect\n",
      "-------- StartBoundaryNotFoundDefect\n",
      "-------- CloseBoundaryNotFoundDefect\n",
      "-------- FirstHeaderLineIsContinuationDefect\n",
      "-------- MisplacedEnvelopeHeaderDefect\n",
      "-------- MissingHeaderBodySeparatorDefect\n",
      "-------- MultipartInvariantViolationDefect\n",
      "-------- InvalidMultipartContentTransferEncodingDefect\n",
      "-------- UndecodableBytesDefect\n",
      "-------- InvalidBase64PaddingDefect\n",
      "-------- InvalidBase64CharactersDefect\n",
      "-------- InvalidBase64LengthDefect\n",
      "-------- HeaderDefect\n",
      "---------- InvalidHeaderDefect\n",
      "---------- HeaderMissingRequiredValue\n",
      "---------- NonPrintableDefect\n",
      "---------- ObsoleteHeaderDefect\n",
      "---------- NonASCIILocalPartDefect\n",
      "---------- InvalidDateDefect\n",
      "------ MacroToEdit\n",
      "------ InvalidFileException\n",
      "------ UnequalIterablesError\n",
      "------ InvalidVersion\n",
      "------ _InvalidELFFileHeader\n",
      "------ InvalidWheelFilename\n",
      "------ InvalidSdistFilename\n",
      "------ InvalidSpecifier\n",
      "------ InvalidMarker\n",
      "------ UndefinedComparison\n",
      "------ UndefinedEnvironmentName\n",
      "------ InvalidRequirement\n",
      "-------- RequirementParseError\n",
      "------ InvalidVersion\n",
      "---- AssertionError\n",
      "---- ArithmeticError\n",
      "------ FloatingPointError\n",
      "------ OverflowError\n",
      "------ ZeroDivisionError\n",
      "-------- DivisionByZero\n",
      "-------- DivisionUndefined\n",
      "------ DecimalException\n",
      "-------- Clamped\n",
      "-------- Rounded\n",
      "---------- Underflow\n",
      "---------- Overflow\n",
      "-------- Inexact\n",
      "---------- Underflow\n",
      "---------- Overflow\n",
      "-------- Subnormal\n",
      "---------- Underflow\n",
      "-------- DivisionByZero\n",
      "-------- FloatOperation\n",
      "-------- InvalidOperation\n",
      "---------- ConversionSyntax\n",
      "---------- DivisionImpossible\n",
      "---------- DivisionUndefined\n",
      "---------- InvalidContext\n",
      "---- SystemError\n",
      "------ CodecRegistryError\n",
      "---- ReferenceError\n",
      "---- MemoryError\n",
      "---- BufferError\n",
      "---- Warning\n",
      "------ UserWarning\n",
      "-------- GetPassWarning\n",
      "-------- FormatterWarning\n",
      "------ EncodingWarning\n",
      "------ DeprecationWarning\n",
      "-------- ProvisionalWarning\n",
      "------ PendingDeprecationWarning\n",
      "------ SyntaxWarning\n",
      "------ RuntimeWarning\n",
      "-------- ProactorSelectorThreadWarning\n",
      "-------- UnknownTimezoneWarning\n",
      "-------- PEP440Warning\n",
      "------ FutureWarning\n",
      "-------- ProvisionalCompleterWarning\n",
      "------ ImportWarning\n",
      "------ UnicodeWarning\n",
      "------ BytesWarning\n",
      "------ ResourceWarning\n",
      "------ DeprecatedTzFormatWarning\n",
      "------ PkgResourcesDeprecationWarning\n",
      "---- _OptionError\n",
      "---- _Error\n",
      "---- error\n",
      "---- Verbose\n",
      "---- Error\n",
      "---- SubprocessError\n",
      "------ CalledProcessError\n",
      "------ TimeoutExpired\n",
      "---- TokenError\n",
      "---- StopTokenizing\n",
      "---- ClassFoundException\n",
      "---- EndOfBlock\n",
      "---- TraitError\n",
      "---- Error\n",
      "---- Error\n",
      "------ CancelledError\n",
      "------ TimeoutError\n",
      "------ InvalidStateError\n",
      "---- _GiveupOnSendfile\n",
      "---- error\n",
      "---- Incomplete\n",
      "---- TimeoutError\n",
      "---- InvalidStateError\n",
      "---- LimitOverrunError\n",
      "---- QueueEmpty\n",
      "---- QueueFull\n",
      "---- Empty\n",
      "---- Full\n",
      "---- ArgumentError\n",
      "---- ZMQBaseError\n",
      "------ ZMQError\n",
      "-------- ContextTerminated\n",
      "-------- Again\n",
      "-------- InterruptedSystemCall\n",
      "------ ZMQBindError\n",
      "------ NotDone\n",
      "---- PickleError\n",
      "------ PicklingError\n",
      "------ UnpicklingError\n",
      "---- _Stop\n",
      "---- ArgumentError\n",
      "---- ArgumentTypeError\n",
      "---- ConfigError\n",
      "------ ConfigLoaderError\n",
      "-------- ArgumentError\n",
      "------ ConfigFileNotFound\n",
      "---- ConfigurableError\n",
      "------ MultipleInstanceError\n",
      "---- ApplicationError\n",
      "---- error\n",
      "---- TimeoutError\n",
      "---- error\n",
      "---- ReturnValueIgnoredError\n",
      "---- KeyReuseError\n",
      "---- UnknownKeyError\n",
      "---- LeakedCallbackError\n",
      "---- BadYieldError\n",
      "---- ReturnValueIgnoredError\n",
      "---- Return\n",
      "---- InvalidPortNumber\n",
      "---- error\n",
      "---- LZMAError\n",
      "---- RegistryError\n",
      "---- _GiveupOnFastCopy\n",
      "---- Error\n",
      "------ NoSectionError\n",
      "------ DuplicateSectionError\n",
      "------ DuplicateOptionError\n",
      "------ NoOptionError\n",
      "------ InterpolationError\n",
      "-------- InterpolationMissingOptionError\n",
      "-------- InterpolationSyntaxError\n",
      "-------- InterpolationDepthError\n",
      "------ ParsingError\n",
      "-------- MissingSectionHeaderError\n",
      "---- NoIPAddresses\n",
      "---- BadZipFile\n",
      "---- LargeZipFile\n",
      "---- BadEntryPoint\n",
      "---- NoSuchEntryPoint\n",
      "---- DuplicateKernelError\n",
      "---- ErrorDuringImport\n",
      "---- NotOneValueFound\n",
      "---- CannotEval\n",
      "---- OptionError\n",
      "---- BdbQuit\n",
      "---- Restart\n",
      "---- ExceptionPexpect\n",
      "------ EOF\n",
      "------ TIMEOUT\n",
      "---- PtyProcessError\n",
      "---- FindCmdError\n",
      "---- HomeDirError\n",
      "---- ProfileDirError\n",
      "---- IPythonCoreError\n",
      "------ TryNext\n",
      "------ UsageError\n",
      "------ StdinNotImplementedError\n",
      "---- InputRejected\n",
      "---- GetoptError\n",
      "---- ErrorToken\n",
      "---- PrefilterError\n",
      "---- AliasError\n",
      "------ InvalidAliasError\n",
      "---- Error\n",
      "------ InterfaceError\n",
      "------ DatabaseError\n",
      "-------- InternalError\n",
      "-------- OperationalError\n",
      "-------- ProgrammingError\n",
      "-------- IntegrityError\n",
      "-------- DataError\n",
      "-------- NotSupportedError\n",
      "---- Warning\n",
      "---- SpaceInInput\n",
      "---- DOMException\n",
      "------ IndexSizeErr\n",
      "------ DomstringSizeErr\n",
      "------ HierarchyRequestErr\n",
      "------ WrongDocumentErr\n",
      "------ InvalidCharacterErr\n",
      "------ NoDataAllowedErr\n",
      "------ NoModificationAllowedErr\n",
      "------ NotFoundErr\n",
      "------ NotSupportedErr\n",
      "------ InuseAttributeErr\n",
      "------ InvalidStateErr\n",
      "------ SyntaxErr\n",
      "------ InvalidModificationErr\n",
      "------ NamespaceErr\n",
      "------ InvalidAccessErr\n",
      "------ ValidationErr\n",
      "---- ValidationError\n",
      "---- EditReadOnlyBuffer\n",
      "---- _Retry\n",
      "---- InvalidLayoutError\n",
      "---- HeightIsUnknownError\n",
      "---- ParserSyntaxError\n",
      "---- InternalParseError\n",
      "---- _PositionUpdatingFinished\n",
      "---- SimpleGetItemNotFound\n",
      "---- UncaughtAttributeError\n",
      "---- HasNoContext\n",
      "---- ParamIssue\n",
      "---- _JediError\n",
      "------ InternalError\n",
      "------ WrongVersion\n",
      "------ RefactoringError\n",
      "---- OnErrorLeaf\n",
      "---- InvalidPythonEnvironment\n",
      "---- MessageError\n",
      "------ MessageParseError\n",
      "-------- HeaderParseError\n",
      "-------- BoundaryError\n",
      "------ MultipartConversionError\n",
      "------ CharsetError\n",
      "---- Error\n",
      "---- HTTPException\n",
      "------ NotConnected\n",
      "------ InvalidURL\n",
      "------ UnknownProtocol\n",
      "------ UnknownTransferEncoding\n",
      "------ UnimplementedFileMode\n",
      "------ IncompleteRead\n",
      "------ ImproperConnectionState\n",
      "-------- CannotSendRequest\n",
      "-------- CannotSendHeader\n",
      "-------- ResponseNotReady\n",
      "------ BadStatusLine\n",
      "-------- RemoteDisconnected\n",
      "------ LineTooLong\n",
      "---- InteractivelyDefined\n",
      "---- KillEmbedded\n",
      "---- Error\n",
      "------ NoSuchProcess\n",
      "-------- ZombieProcess\n",
      "------ AccessDenied\n",
      "------ TimeoutExpired\n",
      "---- _Ipv6UnsupportedError\n",
      "---- QueueEmpty\n",
      "---- QueueFull\n",
      "---- DebuggerInitializationError\n",
      "---- ExpatError\n",
      "---- Error\n",
      "------ ProtocolError\n",
      "------ ResponseError\n",
      "------ Fault\n",
      "---- ParseBaseException\n",
      "------ ParseException\n",
      "------ ParseFatalException\n",
      "-------- ParseSyntaxException\n",
      "---- RecursiveGrammarException\n",
      "---- ResolutionError\n",
      "------ VersionConflict\n",
      "-------- ContextualVersionConflict\n",
      "------ DistributionNotFound\n",
      "------ UnknownExtra\n",
      "---- _Error\n",
      "---- UnableToResolveVariableException\n",
      "---- InvalidTypeInArgsException\n",
      "---- NegAgeError\n",
      "-- GeneratorExit\n",
      "-- SystemExit\n",
      "-- KeyboardInterrupt\n",
      "-- CancelledError\n",
      "-- AbortThread\n"
     ]
    }
   ],
   "source": [
    "import inspect\n",
    "def treeClass(x,n=0):\n",
    "    print('-'*n,x.__name__)  \n",
    "    for i in x.__subclasses__():\n",
    "        treeClass(i,n+2)\n",
    "inspect.getclasstree(inspect.getmro(BaseException))\n",
    "\n",
    "treeClass(BaseException)"
   ]
  },
  {
   "cell_type": "markdown",
   "id": "6338649d-e0c7-40ae-a19e-68558f8e8487",
   "metadata": {},
   "source": [
    "# Q3. What errors are defined in the ArithmeticError class? Explain any two with an example."
   ]
  },
  {
   "cell_type": "code",
   "execution_count": 5,
   "id": "74de8fa0-850f-4b6a-a8ff-4872dc000db1",
   "metadata": {},
   "outputs": [
    {
     "name": "stdout",
     "output_type": "stream",
     "text": [
      "ZeroDivisionError: division by zero\n"
     ]
    }
   ],
   "source": [
    "# 1. ZeroDivisionError\n",
    "a = 5\n",
    "try :\n",
    "    print(a/0)\n",
    "except ZeroDivisionError as e :\n",
    "    print('ZeroDivisionError:',e)"
   ]
  },
  {
   "cell_type": "code",
   "execution_count": 6,
   "id": "9a3995b7-2f59-4a32-ad73-2e3797c27512",
   "metadata": {},
   "outputs": [
    {
     "name": "stdin",
     "output_type": "stream",
     "text": [
      "Enter n: -4\n"
     ]
    },
    {
     "name": "stdout",
     "output_type": "stream",
     "text": [
      "OverflowError: integer division result too large for a float\n"
     ]
    }
   ],
   "source": [
    "# 2. OverflowError\n",
    "\n",
    "n = int(input('Enter n:'))\n",
    "try:\n",
    "    for i in range(1000):\n",
    "        n = n * 10\n",
    "    print(n/10)\n",
    "except OverflowError as o:\n",
    "    print('OverflowError:',o)"
   ]
  },
  {
   "cell_type": "markdown",
   "id": "baf8679a-161b-421a-aa34-528a5acfb944",
   "metadata": {},
   "source": [
    "# Q4. Why LookupError class is used? Explain with an example KeyError and IndexError."
   ]
  },
  {
   "cell_type": "code",
   "execution_count": 7,
   "id": "902fbd4c-f5d7-4640-a55e-54f920ee38a9",
   "metadata": {},
   "outputs": [
    {
     "name": "stdout",
     "output_type": "stream",
     "text": [
      "KeyError: 4\n"
     ]
    }
   ],
   "source": [
    "# 1. KeyError\n",
    "\n",
    "dic = {1:'Python',2:'Java',3:'C++'}\n",
    "try:\n",
    "    print(dic[4])\n",
    "except KeyError as k:\n",
    "    print('KeyError:',k)"
   ]
  },
  {
   "cell_type": "code",
   "execution_count": 8,
   "id": "7281262d-89ec-4514-bc0f-b58459886da2",
   "metadata": {},
   "outputs": [
    {
     "name": "stdout",
     "output_type": "stream",
     "text": [
      "IndexError: list index out of range\n"
     ]
    }
   ],
   "source": [
    "# 1. IndexError\n",
    "\n",
    "lis = [1,2,3,4]\n",
    "try:\n",
    "    print(lis[5])\n",
    "except IndexError as i:\n",
    "    print('IndexError:',i)"
   ]
  },
  {
   "cell_type": "markdown",
   "id": "d94349a6-7a53-4759-9020-7aa22e92dd5f",
   "metadata": {},
   "source": [
    "# Q5. Explain ImportError. What is ModuleNotFoundError?"
   ]
  },
  {
   "cell_type": "markdown",
   "id": "173273af-08c6-46a5-9454-2ab1a7b414f6",
   "metadata": {},
   "source": [
    "'ModuleNotFoundError': occurs when the module is either not installed in your machine or the name of module is incorrect.\n",
    "Example;"
   ]
  },
  {
   "cell_type": "code",
   "execution_count": 10,
   "id": "3e07f46c-f431-4fee-b187-7e942a1d7bcf",
   "metadata": {},
   "outputs": [
    {
     "name": "stdout",
     "output_type": "stream",
     "text": [
      "ModuleNotFoundError: No module named 'panda'\n"
     ]
    }
   ],
   "source": [
    "# Here we import a 'pandas' module as 'panda' so ModuleNotFoundError exception occurred\n",
    "\n",
    "try:\n",
    "    import panda\n",
    "except ModuleNotFoundError as m:\n",
    "    print('ModuleNotFoundError:',m)"
   ]
  },
  {
   "cell_type": "code",
   "execution_count": 11,
   "id": "0efa97b9-e88f-4286-9a79-fa1483d5647e",
   "metadata": {},
   "outputs": [
    {
     "name": "stdout",
     "output_type": "stream",
     "text": [
      "ModuleNotFoundError No module named 'mysql'\n"
     ]
    }
   ],
   "source": [
    "# Here we import a mysql.connector module which is not installed in my machine,\n",
    "# So again ModuleNotFoundError exception occurred\n",
    "\n",
    "try:\n",
    "    import mysql.connector\n",
    "except ModuleNotFoundError as m:\n",
    "    print('ModuleNotFoundError',m)"
   ]
  },
  {
   "cell_type": "markdown",
   "id": "9b069650-6ffb-4283-9280-c6392db03ac4",
   "metadata": {},
   "source": [
    "'ImportError': occurs while we import a specific method from wrong location\n",
    "Example;"
   ]
  },
  {
   "cell_type": "code",
   "execution_count": 14,
   "id": "0fa3104f-37bc-4bec-82db-db34b7763b8c",
   "metadata": {},
   "outputs": [
    {
     "name": "stdout",
     "output_type": "stream",
     "text": [
      "ImportError: cannot import name 'redcue' from 'math' (/opt/conda/lib/python3.10/lib-dynload/math.cpython-310-x86_64-linux-gnu.so)\n"
     ]
    }
   ],
   "source": [
    "\n",
    "try:\n",
    "    from math import redcue\n",
    "except ImportError as i:\n",
    "    print('ImportError:',i)\n"
   ]
  },
  {
   "cell_type": "markdown",
   "id": "8704ac39-83f1-493b-831c-ed0556efd122",
   "metadata": {},
   "source": [
    "# Q6. List down some best practices for exception handling in python."
   ]
  },
  {
   "cell_type": "markdown",
   "id": "d11a6337-6ae8-4a4f-baef-45fe10e8cd4f",
   "metadata": {},
   "source": [
    " List of best practices for exception handling:\n",
    "1. Log exceptions and error.\n",
    "2. Use custom exceptions when required.\n",
    "3. Try to raise more specific exception.\n",
    "4. Avoid catching and ignoring exceptions, unless a good reason.\n",
    "5. Test your exception-handling code before deployment.\n",
    "6. Use 'finally' for closing the open file in case of file handling."
   ]
  },
  {
   "cell_type": "code",
   "execution_count": null,
   "id": "6720cd62-8a98-4285-88bb-791dfba84464",
   "metadata": {},
   "outputs": [],
   "source": []
  }
 ],
 "metadata": {
  "kernelspec": {
   "display_name": "Python 3 (ipykernel)",
   "language": "python",
   "name": "python3"
  },
  "language_info": {
   "codemirror_mode": {
    "name": "ipython",
    "version": 3
   },
   "file_extension": ".py",
   "mimetype": "text/x-python",
   "name": "python",
   "nbconvert_exporter": "python",
   "pygments_lexer": "ipython3",
   "version": "3.10.8"
  }
 },
 "nbformat": 4,
 "nbformat_minor": 5
}
