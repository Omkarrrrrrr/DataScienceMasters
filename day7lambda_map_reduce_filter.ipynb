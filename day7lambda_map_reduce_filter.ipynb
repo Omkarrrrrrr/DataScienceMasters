{
 "cells": [
  {
   "cell_type": "markdown",
   "id": "25cd2857-d147-47a9-980c-62919b8eb4fc",
   "metadata": {},
   "source": [
    "## Lambda"
   ]
  },
  {
   "cell_type": "code",
   "execution_count": 1,
   "id": "f280fe2f-fe9e-4180-b4aa-e1df3455d8d6",
   "metadata": {},
   "outputs": [],
   "source": [
    "n = 3\n",
    "p = 3"
   ]
  },
  {
   "cell_type": "code",
   "execution_count": 2,
   "id": "f1b0e6ae-188f-4e42-b0be-9f24107edd44",
   "metadata": {},
   "outputs": [],
   "source": [
    "\n",
    "def test(n,p):\n",
    "    return n*p"
   ]
  },
  {
   "cell_type": "code",
   "execution_count": 3,
   "id": "7ac382a7-253c-449e-9ecd-e95112885ca2",
   "metadata": {},
   "outputs": [
    {
     "data": {
      "text/plain": [
       "6"
      ]
     },
     "execution_count": 3,
     "metadata": {},
     "output_type": "execute_result"
    }
   ],
   "source": [
    "test(3,2)"
   ]
  },
  {
   "cell_type": "code",
   "execution_count": 4,
   "id": "2316560e-fc22-4b71-90ca-956df389455e",
   "metadata": {},
   "outputs": [
    {
     "data": {
      "text/plain": [
       "36"
      ]
     },
     "execution_count": 4,
     "metadata": {},
     "output_type": "execute_result"
    }
   ],
   "source": [
    "test(9,4)"
   ]
  },
  {
   "cell_type": "code",
   "execution_count": 5,
   "id": "0e2d7ae4-0dc9-4da5-9e0f-a553da4cd763",
   "metadata": {},
   "outputs": [],
   "source": [
    "a = lambda n,p: n**p "
   ]
  },
  {
   "cell_type": "code",
   "execution_count": 6,
   "id": "a8ec956a-e196-436e-b80f-29a3208928a7",
   "metadata": {},
   "outputs": [
    {
     "data": {
      "text/plain": [
       "9"
      ]
     },
     "execution_count": 6,
     "metadata": {},
     "output_type": "execute_result"
    }
   ],
   "source": [
    "a(3,2)"
   ]
  },
  {
   "cell_type": "code",
   "execution_count": 7,
   "id": "05ffe3e9-f330-4a10-8a37-e6a3564cc3a4",
   "metadata": {},
   "outputs": [
    {
     "data": {
      "text/plain": [
       "6561"
      ]
     },
     "execution_count": 7,
     "metadata": {},
     "output_type": "execute_result"
    }
   ],
   "source": [
    "a(9,4)"
   ]
  },
  {
   "cell_type": "code",
   "execution_count": 8,
   "id": "591a9f1e-23cc-45d5-902b-1d131e3977af",
   "metadata": {},
   "outputs": [],
   "source": [
    "add = lambda x,y : x+y"
   ]
  },
  {
   "cell_type": "code",
   "execution_count": 9,
   "id": "d3006cfc-6865-4fbe-b3b3-24a4ebbe545c",
   "metadata": {},
   "outputs": [
    {
     "data": {
      "text/plain": [
       "268"
      ]
     },
     "execution_count": 9,
     "metadata": {},
     "output_type": "execute_result"
    }
   ],
   "source": [
    "add(234,34)"
   ]
  },
  {
   "cell_type": "code",
   "execution_count": 10,
   "id": "0c818183-336e-442f-b413-47d95bf61958",
   "metadata": {},
   "outputs": [],
   "source": [
    "c_to_f = lambda c : (9/5)*c+32"
   ]
  },
  {
   "cell_type": "code",
   "execution_count": 11,
   "id": "5de79560-02e7-428e-ab91-29174480e88f",
   "metadata": {},
   "outputs": [
    {
     "data": {
      "text/plain": [
       "93.2"
      ]
     },
     "execution_count": 11,
     "metadata": {},
     "output_type": "execute_result"
    }
   ],
   "source": [
    "c_to_f(34)"
   ]
  },
  {
   "cell_type": "code",
   "execution_count": 12,
   "id": "c26f321b-34b9-4b48-aa19-dc096b1525d1",
   "metadata": {},
   "outputs": [],
   "source": [
    "max_two = lambda x,y : x if x> y else y"
   ]
  },
  {
   "cell_type": "code",
   "execution_count": 13,
   "id": "bb4292b3-63be-45b9-86b4-751626d10d35",
   "metadata": {},
   "outputs": [
    {
     "data": {
      "text/plain": [
       "56"
      ]
     },
     "execution_count": 13,
     "metadata": {},
     "output_type": "execute_result"
    }
   ],
   "source": [
    "max_two(4,56)"
   ]
  },
  {
   "cell_type": "code",
   "execution_count": 14,
   "id": "9f53004c-71e8-4ffd-b79c-36782690a97d",
   "metadata": {},
   "outputs": [],
   "source": [
    "s = \"pwskills\""
   ]
  },
  {
   "cell_type": "code",
   "execution_count": 15,
   "id": "ea3b4661-0083-488d-8e35-fca79b29bb6f",
   "metadata": {},
   "outputs": [],
   "source": [
    "len_st = lambda s : len(s)"
   ]
  },
  {
   "cell_type": "code",
   "execution_count": 16,
   "id": "0b19c372-1999-4c3f-b62b-4a02e900be62",
   "metadata": {},
   "outputs": [
    {
     "data": {
      "text/plain": [
       "8"
      ]
     },
     "execution_count": 16,
     "metadata": {},
     "output_type": "execute_result"
    }
   ],
   "source": [
    "len_st(s)"
   ]
  },
  {
   "cell_type": "markdown",
   "id": "9118db61-5131-47cc-b97e-4e6d1e78332d",
   "metadata": {},
   "source": [
    "# Map"
   ]
  },
  {
   "cell_type": "code",
   "execution_count": 17,
   "id": "4bd0e892-30bd-44d6-8139-9cf7713cd1d8",
   "metadata": {},
   "outputs": [],
   "source": [
    "l = [1,2,3,4,45,5]"
   ]
  },
  {
   "cell_type": "code",
   "execution_count": 18,
   "id": "27c02b38-a86a-4718-9a13-82608393800a",
   "metadata": {},
   "outputs": [],
   "source": [
    "def test(l):\n",
    "    l1 = []\n",
    "    for i in l :\n",
    "        l1.append(i**2)\n",
    "    return l1"
   ]
  },
  {
   "cell_type": "code",
   "execution_count": 19,
   "id": "e9d89f5d-dd59-4103-aa22-8ef23462d4ff",
   "metadata": {},
   "outputs": [
    {
     "data": {
      "text/plain": [
       "[1, 4, 9, 16, 2025, 25]"
      ]
     },
     "execution_count": 19,
     "metadata": {},
     "output_type": "execute_result"
    }
   ],
   "source": [
    "test(l)"
   ]
  },
  {
   "cell_type": "code",
   "execution_count": 20,
   "id": "afab476a-d119-4be8-9540-179e23dfe556",
   "metadata": {},
   "outputs": [],
   "source": [
    "def sq(x):\n",
    "    return x**2"
   ]
  },
  {
   "cell_type": "code",
   "execution_count": 21,
   "id": "55a125ae-4179-4cc5-9bb1-d58bce29a213",
   "metadata": {},
   "outputs": [
    {
     "data": {
      "text/plain": [
       "[1, 4, 9, 16, 2025, 25]"
      ]
     },
     "execution_count": 21,
     "metadata": {},
     "output_type": "execute_result"
    }
   ],
   "source": [
    "list(map(sq,l))"
   ]
  },
  {
   "cell_type": "code",
   "execution_count": 22,
   "id": "f4e6e4af-97e3-494b-a61e-6befa3b9124c",
   "metadata": {},
   "outputs": [
    {
     "data": {
      "text/plain": [
       "[1, 4, 9, 16, 2025, 25]"
      ]
     },
     "execution_count": 22,
     "metadata": {},
     "output_type": "execute_result"
    }
   ],
   "source": [
    "list(map(lambda x : x**2 , l ))"
   ]
  },
  {
   "cell_type": "code",
   "execution_count": 23,
   "id": "12a548b6-c689-4b6b-8752-f7ebf0784305",
   "metadata": {},
   "outputs": [
    {
     "data": {
      "text/plain": [
       "[11, 12, 13, 14, 55, 15]"
      ]
     },
     "execution_count": 23,
     "metadata": {},
     "output_type": "execute_result"
    }
   ],
   "source": [
    "list(map(lambda x : x+10 , l ))"
   ]
  },
  {
   "cell_type": "code",
   "execution_count": 24,
   "id": "23fad8fe-f761-4363-8efb-a61f9c3f716a",
   "metadata": {},
   "outputs": [
    {
     "data": {
      "text/plain": [
       "['1', '2', '3', '4', '45', '5']"
      ]
     },
     "execution_count": 24,
     "metadata": {},
     "output_type": "execute_result"
    }
   ],
   "source": [
    "list(map(lambda x : str(x) , l ))"
   ]
  },
  {
   "cell_type": "code",
   "execution_count": 25,
   "id": "2eb52e8e-b0a9-4450-8f3e-7836ed085d23",
   "metadata": {},
   "outputs": [],
   "source": [
    "l1 = [1,2,3,4,5]\n",
    "l2 = [6,7,8,9,10]"
   ]
  },
  {
   "cell_type": "code",
   "execution_count": 26,
   "id": "ed034209-1466-4e1a-8e4e-3ee4a29ca23b",
   "metadata": {},
   "outputs": [
    {
     "data": {
      "text/plain": [
       "[7, 9, 11, 13, 15]"
      ]
     },
     "execution_count": 26,
     "metadata": {},
     "output_type": "execute_result"
    }
   ],
   "source": [
    "list(map(lambda x,y :x+y , l1,l2))"
   ]
  },
  {
   "cell_type": "code",
   "execution_count": 32,
   "id": "0d968764-827d-4999-9b9f-d1dcd08d307d",
   "metadata": {},
   "outputs": [
    {
     "data": {
      "text/plain": [
       "[7, 9, 11, 13, 15]"
      ]
     },
     "execution_count": 32,
     "metadata": {},
     "output_type": "execute_result"
    }
   ],
   "source": [
    "list(map(f , l1,l2))\n"
   ]
  },
  {
   "cell_type": "code",
   "execution_count": 31,
   "id": "ec1e88a2-4ad2-4b8d-a89e-a84ed9a53ba5",
   "metadata": {},
   "outputs": [],
   "source": [
    "f=lambda x,y : x+y"
   ]
  },
  {
   "cell_type": "code",
   "execution_count": 33,
   "id": "aa03c5fe-d592-495a-8f97-c3d5113d4d34",
   "metadata": {},
   "outputs": [],
   "source": [
    "s = \"pwskills\""
   ]
  },
  {
   "cell_type": "code",
   "execution_count": 34,
   "id": "f7f0baf3-8715-4acd-8dff-939bb9a9f845",
   "metadata": {},
   "outputs": [
    {
     "data": {
      "text/plain": [
       "['P', 'W', 'S', 'K', 'I', 'L', 'L', 'S']"
      ]
     },
     "execution_count": 34,
     "metadata": {},
     "output_type": "execute_result"
    }
   ],
   "source": [
    "list(map(lambda x : x.upper()  , s))"
   ]
  },
  {
   "cell_type": "markdown",
   "id": "992cdabf-b2a4-41ec-a049-2e5e54b17f76",
   "metadata": {},
   "source": [
    "# Reduce"
   ]
  },
  {
   "cell_type": "code",
   "execution_count": 35,
   "id": "d38429fd-c720-43b9-be83-d6e2db3d63e6",
   "metadata": {},
   "outputs": [],
   "source": [
    "from functools import  reduce"
   ]
  },
  {
   "cell_type": "code",
   "execution_count": 36,
   "id": "fb98a93c-3ea4-498c-b179-dde872c06a44",
   "metadata": {},
   "outputs": [],
   "source": [
    "l = [1,2,3,4,5,4]"
   ]
  },
  {
   "cell_type": "code",
   "execution_count": 37,
   "id": "94b751cd-b3d4-47c4-8b38-5d56118d999c",
   "metadata": {},
   "outputs": [
    {
     "data": {
      "text/plain": [
       "19"
      ]
     },
     "execution_count": 37,
     "metadata": {},
     "output_type": "execute_result"
    }
   ],
   "source": [
    "reduce(lambda x , y : x+y , l)"
   ]
  },
  {
   "cell_type": "code",
   "execution_count": 38,
   "id": "05526f0b-4737-459c-adff-7a7fcfe687f7",
   "metadata": {},
   "outputs": [],
   "source": [
    "def add(x,y):\n",
    "    return x+y"
   ]
  },
  {
   "cell_type": "code",
   "execution_count": 39,
   "id": "67a09cf6-7e57-474d-82ea-238c3987a15e",
   "metadata": {},
   "outputs": [
    {
     "data": {
      "text/plain": [
       "19"
      ]
     },
     "execution_count": 39,
     "metadata": {},
     "output_type": "execute_result"
    }
   ],
   "source": [
    "reduce (add , l)"
   ]
  },
  {
   "cell_type": "code",
   "execution_count": 40,
   "id": "1c64f6d6-0f6b-4a40-b225-ece13b12ff18",
   "metadata": {},
   "outputs": [
    {
     "ename": "TypeError",
     "evalue": "<lambda>() missing 1 required positional argument: 'z'",
     "output_type": "error",
     "traceback": [
      "\u001b[0;31m---------------------------------------------------------------------------\u001b[0m",
      "\u001b[0;31mTypeError\u001b[0m                                 Traceback (most recent call last)",
      "Cell \u001b[0;32mIn[40], line 1\u001b[0m\n\u001b[0;32m----> 1\u001b[0m \u001b[43mreduce\u001b[49m\u001b[43m(\u001b[49m\u001b[38;5;28;43;01mlambda\u001b[39;49;00m\u001b[43m \u001b[49m\u001b[43mx\u001b[49m\u001b[43m \u001b[49m\u001b[43m,\u001b[49m\u001b[43m \u001b[49m\u001b[43my\u001b[49m\u001b[43m \u001b[49m\u001b[43m,\u001b[49m\u001b[43m \u001b[49m\u001b[43mz\u001b[49m\u001b[43m \u001b[49m\u001b[43m:\u001b[49m\u001b[43m \u001b[49m\u001b[43mx\u001b[49m\u001b[38;5;241;43m+\u001b[39;49m\u001b[43my\u001b[49m\u001b[38;5;241;43m+\u001b[39;49m\u001b[43mz\u001b[49m\u001b[43m \u001b[49m\u001b[43m,\u001b[49m\u001b[43m \u001b[49m\u001b[43ml\u001b[49m\u001b[43m)\u001b[49m\n",
      "\u001b[0;31mTypeError\u001b[0m: <lambda>() missing 1 required positional argument: 'z'"
     ]
    }
   ],
   "source": [
    "reduce(lambda x , y , z : x+y+z , l)"
   ]
  },
  {
   "cell_type": "code",
   "execution_count": 43,
   "id": "3b8cde17-92ed-41a5-9d08-247c6bdcf117",
   "metadata": {},
   "outputs": [],
   "source": [
    "## only one argument also can be passed and it will not give any error"
   ]
  },
  {
   "cell_type": "code",
   "execution_count": 44,
   "id": "83755fd9-e15c-4c2f-9fca-ff6e2aaca24a",
   "metadata": {},
   "outputs": [
    {
     "data": {
      "text/plain": [
       "1"
      ]
     },
     "execution_count": 44,
     "metadata": {},
     "output_type": "execute_result"
    }
   ],
   "source": [
    "reduce(lambda x , y : x+y , [1])"
   ]
  },
  {
   "cell_type": "code",
   "execution_count": 42,
   "id": "5d97912d-62e1-42fc-9209-2c397ebafb11",
   "metadata": {},
   "outputs": [
    {
     "data": {
      "text/plain": [
       "1"
      ]
     },
     "execution_count": 42,
     "metadata": {},
     "output_type": "execute_result"
    }
   ],
   "source": [
    "reduce(lambda x , y : x*y , [1])"
   ]
  },
  {
   "cell_type": "code",
   "execution_count": 45,
   "id": "5e28b7e9-9663-4bfb-9880-68740dfdf36c",
   "metadata": {},
   "outputs": [
    {
     "data": {
      "text/plain": [
       "[1, 2, 3, 4, 5, 4]"
      ]
     },
     "execution_count": 45,
     "metadata": {},
     "output_type": "execute_result"
    }
   ],
   "source": [
    "l\n"
   ]
  },
  {
   "cell_type": "code",
   "execution_count": 46,
   "id": "fd609d08-aaf7-4ce3-9677-85255035e4be",
   "metadata": {},
   "outputs": [
    {
     "data": {
      "text/plain": [
       "5"
      ]
     },
     "execution_count": 46,
     "metadata": {},
     "output_type": "execute_result"
    }
   ],
   "source": [
    "reduce(lambda x,y : x if x> y else y , l)"
   ]
  },
  {
   "cell_type": "markdown",
   "id": "0863cc92-9b4f-43c6-9cb9-a74150226e65",
   "metadata": {},
   "source": [
    "# Filter"
   ]
  },
  {
   "cell_type": "code",
   "execution_count": 47,
   "id": "1c9df7ad-2516-4a3f-a7b7-577be4a857d3",
   "metadata": {},
   "outputs": [
    {
     "data": {
      "text/plain": [
       "[2, 4, 4]"
      ]
     },
     "execution_count": 47,
     "metadata": {},
     "output_type": "execute_result"
    }
   ],
   "source": [
    "list(filter(lambda x : x % 2 ==0 , l))"
   ]
  },
  {
   "cell_type": "code",
   "execution_count": 48,
   "id": "bb10b02a-e7b4-4ad2-8757-c2c744b382bf",
   "metadata": {},
   "outputs": [
    {
     "data": {
      "text/plain": [
       "[1, 3, 5]"
      ]
     },
     "execution_count": 48,
     "metadata": {},
     "output_type": "execute_result"
    }
   ],
   "source": [
    "list(filter(lambda x : x % 2 !=0 , l))"
   ]
  },
  {
   "cell_type": "code",
   "execution_count": 49,
   "id": "7e2c945d-b961-4446-bd28-b6b1f731f0a3",
   "metadata": {},
   "outputs": [],
   "source": [
    "l1 = [-2,4,5,6,-3,-6,-7]"
   ]
  },
  {
   "cell_type": "code",
   "execution_count": 50,
   "id": "a3dda1c0-2cc0-4bde-bfcb-88a0a5085337",
   "metadata": {},
   "outputs": [
    {
     "data": {
      "text/plain": [
       "[-2, -3, -6, -7]"
      ]
     },
     "execution_count": 50,
     "metadata": {},
     "output_type": "execute_result"
    }
   ],
   "source": [
    "list(filter(lambda x : x < 0 , l1))"
   ]
  },
  {
   "cell_type": "code",
   "execution_count": 51,
   "id": "855049a4-3277-4d59-a236-a872d405afde",
   "metadata": {},
   "outputs": [
    {
     "data": {
      "text/plain": [
       "[4, 5, 6]"
      ]
     },
     "execution_count": 51,
     "metadata": {},
     "output_type": "execute_result"
    }
   ],
   "source": [
    "list(filter(lambda x : x >= 0 , l1))"
   ]
  },
  {
   "cell_type": "code",
   "execution_count": 52,
   "id": "f02d745f-8c54-4f0f-83b0-694b2392c0c9",
   "metadata": {},
   "outputs": [],
   "source": [
    "l2 = [\"sudh\" , \"pwskills\" , \"kumar\" , \"bengalore\" , \"krish\"]"
   ]
  },
  {
   "cell_type": "code",
   "execution_count": 53,
   "id": "2c9de96e-d67d-449c-8208-754ac50537d5",
   "metadata": {},
   "outputs": [
    {
     "data": {
      "text/plain": [
       "['sudh', 'kumar', 'krish']"
      ]
     },
     "execution_count": 53,
     "metadata": {},
     "output_type": "execute_result"
    }
   ],
   "source": [
    "list(filter(lambda x : len(x) < 6 , l2))"
   ]
  },
  {
   "cell_type": "code",
   "execution_count": null,
   "id": "11186cab-04c5-40d3-a66e-5fea065a9e42",
   "metadata": {},
   "outputs": [],
   "source": []
  }
 ],
 "metadata": {
  "kernelspec": {
   "display_name": "Python 3 (ipykernel)",
   "language": "python",
   "name": "python3"
  },
  "language_info": {
   "codemirror_mode": {
    "name": "ipython",
    "version": 3
   },
   "file_extension": ".py",
   "mimetype": "text/x-python",
   "name": "python",
   "nbconvert_exporter": "python",
   "pygments_lexer": "ipython3",
   "version": "3.10.8"
  }
 },
 "nbformat": 4,
 "nbformat_minor": 5
}
