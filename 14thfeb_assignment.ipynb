{
 "cells": [
  {
   "cell_type": "markdown",
   "id": "1c170f11-a9e9-41a2-83cd-3ac698c83df1",
   "metadata": {},
   "source": [
    "# what is multithreading in python? hy is it used? Name the module used to handle threads in python"
   ]
  },
  {
   "cell_type": "markdown",
   "id": "e00cceba-9adb-47ad-8319-2df48aa8c692",
   "metadata": {},
   "source": [
    "\n",
    "Multithreading in Python is a technique used to run multiple threads (also called subtasks) concurrently within a single process. A thread is a lightweight process that can execute independently, while sharing the same memory space as the main thread of the program.\n",
    "\n",
    "In python, we can achive multithreading using 'threading' module."
   ]
  },
  {
   "cell_type": "markdown",
   "id": "ef9f7a2d-ef97-4204-a0a1-ad802ebf5bbf",
   "metadata": {},
   "source": [
    "# why threading module used? write the use of the following functions: "
   ]
  },
  {
   "cell_type": "markdown",
   "id": "f5ee1890-a455-4c21-90cb-22bb16ba7b8b",
   "metadata": {},
   "source": [
    "2\n",
    "The 'threading' module is used in Python to create and manage threads within a single process.\n",
    "\n",
    "A. The 'active_count()' method is used to return the number of active threads in the current thread's thread group. The active_count() method is a class method of the threading module, and it returns an integer representing the number of threads that are currently running.\n",
    "\n",
    "B.The 'current_thread()' method returns the current thread object, which can be useful in a multithreaded program for identifying the current thread and its attributes, such as the thread name, ID, or other properties.\n",
    "\n",
    "C. The 'enumerate()' function takes no arguments and returns a list of Thread objects that represent all currently active threads. Each thread object returned by enumerate() includes the name and thread ID of the thread."
   ]
  },
  {
   "cell_type": "markdown",
   "id": "d4685aed-7310-4f2c-9b9c-a38db30d2492",
   "metadata": {},
   "source": [
    "# 3. Explain the following functions\n",
    " run()\n",
    " start()\n",
    " join()\n",
    " isAlive()"
   ]
  },
  {
   "cell_type": "markdown",
   "id": "122ba11d-8064-429c-a8c4-63128b344f16",
   "metadata": {},
   "source": [
    "A.run(): The run() method is called when a thread is started using the start() method. This method should be overridden in a subclass of the Thread class to define the thread's behavior. When the start() method is called, it creates a new thread and then calls the run() method of that thread.\n",
    "\n",
    "B.start(): The start() method is used to start a new thread. When this method is called, a new thread is created and the run() method of that thread is called. It is important to note that the start() method does not wait for the thread to finish before returning, so the new thread runs in parallel with the calling thread.\n",
    "\n",
    "C.join(): The join() method is used to wait for a thread to finish before continuing with the program's execution. When this method is called, the calling thread will block until the target thread has finished. This can be useful for ensuring that a thread has completed its work before continuing with dependent tasks.\n",
    "\n",
    "D.isAlive(): The isAlive() method is used to determine if a thread is still running. When this method is called, it returns True if the thread is still running, and False otherwise."
   ]
  },
  {
   "cell_type": "markdown",
   "id": "ee8d58fd-8de1-4567-83cc-5746acae8d5e",
   "metadata": {},
   "source": [
    "# 4)write a python program to create two threads. Thread one must print the list of squares and thread two must print the list of cubes"
   ]
  },
  {
   "cell_type": "markdown",
   "id": "c449da71-cda6-4e17-baf6-a841260e58ce",
   "metadata": {},
   "source": [
    "printing the list of squares and cubes using multithreading\n"
   ]
  },
  {
   "cell_type": "code",
   "execution_count": 1,
   "id": "185ea20f-4aef-4298-9bc2-9e32529ebf0c",
   "metadata": {},
   "outputs": [
    {
     "name": "stdout",
     "output_type": "stream",
     "text": [
      "[1, 4, 9, 16, 25, 36, 49, 64, 81]\n",
      "[1, 8, 27, 64, 125, 216, 343, 512, 729]\n"
     ]
    }
   ],
   "source": [
    "import threading\n",
    "\n",
    "lis = [1,2,3,4,5,6,7,8,9]\n",
    "def squares():\n",
    "    print(list(map(lambda x : x**2, lis)))\n",
    "def cubes():\n",
    "    print(list(map(lambda x : x**3 , lis)))\n",
    "\n",
    "t1 = threading.Thread(target = squares)\n",
    "t2 = threading.Thread(target = cubes)\n",
    "\n",
    "t1.start() # prints the list of squares\n",
    "t2.start() # prints the list of cubes"
   ]
  },
  {
   "cell_type": "markdown",
   "id": "a89bf56b-1580-4da7-8127-2e5112e2a22f",
   "metadata": {},
   "source": [
    "# State advantages and disadvantages of multithreading"
   ]
  },
  {
   "cell_type": "markdown",
   "id": "d67915cb-248f-4e35-abbb-0ac1b671a1bc",
   "metadata": {},
   "source": [
    "Advantages of Multithreading\n",
    "\n",
    "1.Improved performance: By running multiple threads concurrently, multithreading can improve the performance of programs that are I/O bound.\n",
    "\n",
    "2.Better resource utilization: Multithreading allows programs to use the available CPU resources more efficiently, as each thread can run on a different CPU core simultaneously.\n",
    "\n",
    "3.Simplified code: In some cases, multithreading can make the code simpler, as it allows the program to be written in a more natural way."
   ]
  },
  {
   "cell_type": "markdown",
   "id": "a63ed2f5-81aa-448c-8bb4-9eaef0017361",
   "metadata": {},
   "source": [
    "Disadvantages of Multithreading\n",
    "\n",
    "1. Increased complexity: Multithreaded programs are generally more complex than single-threaded programs, as they need to manage the synchronization and communication between threads, which can be error-prone.\n",
    "\n",
    "2.Synchronization issues: Multithreading can cause synchronization issues, such as race conditions and deadlocks, which can lead to unpredictable and hard-to-debug behavior.\n",
    "\n",
    "3.Resource contention: When multiple threads access the same resources, such as shared memory or I/O devices, there can be contention for these resources, leading to decreased performance or even program crashes.\n",
    "\n",
    "4.Limited scaling: Multithreading in Python is limited by the Global Interpreter Lock (GIL), which restricts parallel execution of Python code, making it unsuitable for parallelizing CPU-bound tasks."
   ]
  },
  {
   "cell_type": "markdown",
   "id": "447dab2f-ec8a-447c-9516-a6d025211cc3",
   "metadata": {},
   "source": [
    "# Explain deadlocks and race conditions."
   ]
  },
  {
   "cell_type": "markdown",
   "id": "ed0f4354-0714-445c-90a1-b55dcb374950",
   "metadata": {},
   "source": [
    "Deadlock:\n",
    "Deadlock is a situation where two or more threads are waiting for each other to release a resource or lock, which results in all threads being blocked and unable to proceed. Deadlocks can occur when threads hold locks on resources while waiting for other locks, creating a circular dependency that cannot be resolved. Deadlocks can lead to programs hanging and becoming unresponsive.\n",
    "\n",
    "\n",
    "Race condition:\n",
    "A race condition is a situation where the behavior of a program depends on the timing and interleaving of concurrent operations. Race conditions can occur when two or more threads access shared data or resources concurrently without proper synchronization. The result is unpredictable and often incorrect behavior, as the order in which the threads execute can affect the final result."
   ]
  },
  {
   "cell_type": "code",
   "execution_count": null,
   "id": "f16eb589-d8be-42bb-9ca3-767a307a3960",
   "metadata": {},
   "outputs": [],
   "source": []
  }
 ],
 "metadata": {
  "kernelspec": {
   "display_name": "Python 3 (ipykernel)",
   "language": "python",
   "name": "python3"
  },
  "language_info": {
   "codemirror_mode": {
    "name": "ipython",
    "version": 3
   },
   "file_extension": ".py",
   "mimetype": "text/x-python",
   "name": "python",
   "nbconvert_exporter": "python",
   "pygments_lexer": "ipython3",
   "version": "3.10.8"
  }
 },
 "nbformat": 4,
 "nbformat_minor": 5
}
