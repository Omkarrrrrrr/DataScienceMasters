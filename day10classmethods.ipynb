{
 "cells": [
  {
   "cell_type": "code",
   "execution_count": 1,
   "id": "f156c48d-181a-498c-b4b4-8421f990be4c",
   "metadata": {},
   "outputs": [],
   "source": [
    "class pwskills:\n",
    "    def __init__(self, name , email):\n",
    "        \n",
    "        self.name = name\n",
    "        self.email = email\n",
    "    \n",
    "    def student_details(self):\n",
    "        print(self.name , self.email)"
   ]
  },
  {
   "cell_type": "code",
   "execution_count": 2,
   "id": "eee9385d-5216-4388-8870-cad9b4223a66",
   "metadata": {},
   "outputs": [],
   "source": [
    "pw = pwskills(\"sudh\" , \"sudh@gmail.com\")"
   ]
  },
  {
   "cell_type": "code",
   "execution_count": 3,
   "id": "20fb0073-6d8f-43e1-9c45-a4481a8aa9fe",
   "metadata": {},
   "outputs": [
    {
     "data": {
      "text/plain": [
       "'sudh'"
      ]
     },
     "execution_count": 3,
     "metadata": {},
     "output_type": "execute_result"
    }
   ],
   "source": [
    "pw.name"
   ]
  },
  {
   "cell_type": "code",
   "execution_count": 4,
   "id": "89c87ad5-124e-4438-b894-dff7f402068a",
   "metadata": {},
   "outputs": [
    {
     "data": {
      "text/plain": [
       "'sudh@gmail.com'"
      ]
     },
     "execution_count": 4,
     "metadata": {},
     "output_type": "execute_result"
    }
   ],
   "source": [
    "pw.email"
   ]
  },
  {
   "cell_type": "code",
   "execution_count": 5,
   "id": "3915bd36-4f6e-40ea-8ef4-75a183e9b843",
   "metadata": {},
   "outputs": [
    {
     "name": "stdout",
     "output_type": "stream",
     "text": [
      "sudh sudh@gmail.com\n"
     ]
    }
   ],
   "source": [
    "pw.student_details()"
   ]
  },
  {
   "cell_type": "code",
   "execution_count": 6,
   "id": "2a1a025d-ddee-4302-84bd-73fb46e65350",
   "metadata": {},
   "outputs": [],
   "source": [
    "class pwskills1:\n",
    "    def __init__(self, name , email):\n",
    "        \n",
    "        self.name = name\n",
    "        self.email = email\n",
    "    \n",
    "    @classmethod\n",
    "    def details(cls , name1 , email1):\n",
    "        return cls(name1 , email1)\n",
    "    \n",
    "    def student_details(self):\n",
    "        print(self.name , self.email)"
   ]
  },
  {
   "cell_type": "code",
   "execution_count": 7,
   "id": "a4898f70-9121-403b-83f3-8e4a5f63098c",
   "metadata": {},
   "outputs": [],
   "source": [
    "pw1 = pwskills1.details(\"mohan\" , \"mohan@gamil.com\")"
   ]
  },
  {
   "cell_type": "code",
   "execution_count": 8,
   "id": "bf189900-7e9c-4b9e-ab32-3636fad89b13",
   "metadata": {},
   "outputs": [
    {
     "data": {
      "text/plain": [
       "'mohan'"
      ]
     },
     "execution_count": 8,
     "metadata": {},
     "output_type": "execute_result"
    }
   ],
   "source": [
    "pw1.name"
   ]
  },
  {
   "cell_type": "code",
   "execution_count": 9,
   "id": "2c156061-12fb-4dbd-bee2-3088de2f8bdb",
   "metadata": {},
   "outputs": [
    {
     "data": {
      "text/plain": [
       "'mohan@gamil.com'"
      ]
     },
     "execution_count": 9,
     "metadata": {},
     "output_type": "execute_result"
    }
   ],
   "source": [
    "pw1.email"
   ]
  },
  {
   "cell_type": "code",
   "execution_count": 10,
   "id": "fc48c046-e599-4e4f-8074-dca01701bff5",
   "metadata": {},
   "outputs": [
    {
     "name": "stdout",
     "output_type": "stream",
     "text": [
      "mohan mohan@gamil.com\n"
     ]
    }
   ],
   "source": [
    "pw1.student_details()"
   ]
  },
  {
   "cell_type": "code",
   "execution_count": 11,
   "id": "73116a11-56f6-40ed-89da-0001d66e33d8",
   "metadata": {},
   "outputs": [],
   "source": [
    "class pwskills2:\n",
    "    \n",
    "    mobile_number = 9134534535\n",
    "    \n",
    "    def __init__(self, name , email):\n",
    "        \n",
    "        self.name = name\n",
    "        self.email = email\n",
    "    \n",
    "    @classmethod\n",
    "    def change_number(cls, mobile):\n",
    "        pwskills2.mobile_number = mobile\n",
    "    \n",
    "    @classmethod\n",
    "    def details(cls , name1 , email1):\n",
    "        return cls(name1 , email1)\n",
    "    \n",
    "    def student_details(self):\n",
    "        print(self.name , self.email,pwskills2.mobile_number)"
   ]
  },
  {
   "cell_type": "code",
   "execution_count": 12,
   "id": "9dbd918a-4aeb-4a50-bb3a-07c682db6083",
   "metadata": {},
   "outputs": [],
   "source": [
    "pw2_obj = pwskills2(\"sohil\" , \"sohil@gmail.com\")"
   ]
  },
  {
   "cell_type": "code",
   "execution_count": 13,
   "id": "a188acf3-5566-4563-9cf7-96375f58cff7",
   "metadata": {},
   "outputs": [
    {
     "data": {
      "text/plain": [
       "<__main__.pwskills2 at 0x7f0334ca59f0>"
      ]
     },
     "execution_count": 13,
     "metadata": {},
     "output_type": "execute_result"
    }
   ],
   "source": [
    "pw2_obj.details(\"sudh\" , \"sudh@gmail.com\")"
   ]
  },
  {
   "cell_type": "code",
   "execution_count": null,
   "id": "7074b8a0-b87c-4c57-8f1f-c5a01155eb35",
   "metadata": {},
   "outputs": [],
   "source": [
    "pw2_obj.name"
   ]
  },
  {
   "cell_type": "code",
   "execution_count": 14,
   "id": "438d4369-a76b-4d18-90b5-aa23b50732a0",
   "metadata": {},
   "outputs": [],
   "source": [
    "pw2_obj.change_number(534553534)"
   ]
  },
  {
   "cell_type": "code",
   "execution_count": 15,
   "id": "b3540a99-7c62-46c0-9815-f168a0b964a0",
   "metadata": {},
   "outputs": [
    {
     "data": {
      "text/plain": [
       "534553534"
      ]
     },
     "execution_count": 15,
     "metadata": {},
     "output_type": "execute_result"
    }
   ],
   "source": [
    "pw2_obj.mobile_number"
   ]
  },
  {
   "cell_type": "code",
   "execution_count": null,
   "id": "ba39584c-f9a0-4207-a077-d99cee46d4dd",
   "metadata": {},
   "outputs": [],
   "source": [
    "pwskills2.mobile_number"
   ]
  },
  {
   "cell_type": "code",
   "execution_count": null,
   "id": "2f85b27e-84ce-4848-a621-3043770c5f7a",
   "metadata": {},
   "outputs": [],
   "source": [
    "pwskills2.change_number(9233345344)"
   ]
  },
  {
   "cell_type": "code",
   "execution_count": 16,
   "id": "cdfd9aab-31d7-4f9a-a924-82f77166eea5",
   "metadata": {},
   "outputs": [],
   "source": [
    "pwskills2.change_number(9233345344)"
   ]
  },
  {
   "cell_type": "code",
   "execution_count": 17,
   "id": "d0c5cba7-933b-47c6-ad7a-a35c3a52fb63",
   "metadata": {},
   "outputs": [
    {
     "data": {
      "text/plain": [
       "9233345344"
      ]
     },
     "execution_count": 17,
     "metadata": {},
     "output_type": "execute_result"
    }
   ],
   "source": [
    "pwskills2.mobile_number"
   ]
  },
  {
   "cell_type": "code",
   "execution_count": 18,
   "id": "8dee680e-a4d7-416c-b51a-faa0511b1f9f",
   "metadata": {},
   "outputs": [
    {
     "data": {
      "text/plain": [
       "9233345344"
      ]
     },
     "execution_count": 18,
     "metadata": {},
     "output_type": "execute_result"
    }
   ],
   "source": [
    "pwskills2.mobile_number"
   ]
  },
  {
   "cell_type": "code",
   "execution_count": 19,
   "id": "88a9bec1-099e-4dfe-9e8e-1ec3f73a9e02",
   "metadata": {},
   "outputs": [],
   "source": [
    "pw2 = pwskills2.details(\"sohan\" , \"sohan@gmail.com\")"
   ]
  },
  {
   "cell_type": "code",
   "execution_count": 20,
   "id": "68b4336b-a7a4-40cb-8459-e2f61c10ca4f",
   "metadata": {},
   "outputs": [
    {
     "name": "stdout",
     "output_type": "stream",
     "text": [
      "sohan sohan@gmail.com 9233345344\n"
     ]
    }
   ],
   "source": [
    "pw2.student_details()"
   ]
  },
  {
   "cell_type": "code",
   "execution_count": 21,
   "id": "6d8d06fa-8f51-4d94-9b24-f8b3fdcd3907",
   "metadata": {},
   "outputs": [],
   "source": [
    "pw2_obj = pwskills2(\"rohan\" , \"rohan@gmail.com\")"
   ]
  },
  {
   "cell_type": "code",
   "execution_count": 22,
   "id": "3248662e-c211-4ac8-bf86-ee8b0c4fe746",
   "metadata": {},
   "outputs": [
    {
     "name": "stdout",
     "output_type": "stream",
     "text": [
      "rohan rohan@gmail.com 9233345344\n"
     ]
    }
   ],
   "source": [
    "pw2_obj.student_details()"
   ]
  },
  {
   "cell_type": "code",
   "execution_count": 23,
   "id": "4ba48c7d-9f2d-4071-9ba6-229d8ed5a29c",
   "metadata": {},
   "outputs": [],
   "source": [
    "class pwskills3:\n",
    "    \n",
    "    mobile_number = 9134534535\n",
    "    \n",
    "    def __init__(self, name , email):\n",
    "        \n",
    "        self.name = name\n",
    "        self.email = email\n",
    "    \n",
    "    @classmethod\n",
    "    def change_number(cls, mobile):\n",
    "        pwskills2.mobile_number = mobile\n",
    "    \n",
    "    @classmethod\n",
    "    def details(cls , name1 , email1):\n",
    "        return cls(name1 , email1)\n",
    "    \n",
    "    def student_details(self):\n",
    "        print(self.name , self.email,pwskills2.mobile_number)"
   ]
  },
  {
   "cell_type": "code",
   "execution_count": 24,
   "id": "ebbc08a7-7467-4e40-a32c-4d151fa12b3f",
   "metadata": {},
   "outputs": [],
   "source": [
    "def course_details(cls ,course_name ):\n",
    "    print(\"course details\" , course_name)"
   ]
  },
  {
   "cell_type": "code",
   "execution_count": 25,
   "id": "c89621e9-afd6-419d-9d94-9e3f98ad4feb",
   "metadata": {},
   "outputs": [],
   "source": [
    "pwskills3.course_details = classmethod(course_details)"
   ]
  },
  {
   "cell_type": "code",
   "execution_count": 26,
   "id": "562a7afc-b875-4b74-9660-379bffbdc810",
   "metadata": {},
   "outputs": [
    {
     "name": "stdout",
     "output_type": "stream",
     "text": [
      "course details data science masters\n"
     ]
    }
   ],
   "source": [
    "pwskills3.course_details(\"data science masters\")"
   ]
  },
  {
   "cell_type": "code",
   "execution_count": 27,
   "id": "58d46be3-d01b-4748-99fd-ab9a35e0f657",
   "metadata": {},
   "outputs": [],
   "source": [
    "pw3 = pwskills3(\"sudh\" , \"sudh@gmail.com\")"
   ]
  },
  {
   "cell_type": "code",
   "execution_count": 28,
   "id": "39f1c6d9-3cd1-4ade-b502-42c1a60fe003",
   "metadata": {},
   "outputs": [
    {
     "name": "stdout",
     "output_type": "stream",
     "text": [
      "course details web dev\n"
     ]
    }
   ],
   "source": [
    "pw3.course_details(\"web dev\")"
   ]
  },
  {
   "cell_type": "code",
   "execution_count": 29,
   "id": "57f1b4e8-4428-48c7-8e9a-02ca7677a9ef",
   "metadata": {},
   "outputs": [],
   "source": [
    "class pwskills4:\n",
    "    \n",
    "    mobile_number = 9134534535\n",
    "    \n",
    "    def __init__(self, name , email):\n",
    "        \n",
    "        self.name = name\n",
    "        self.email = email\n",
    "    \n",
    "    @classmethod\n",
    "    def change_number(cls, mobile):\n",
    "        pwskills2.mobile_number = mobile\n",
    "    \n",
    "    @classmethod\n",
    "    def details(cls , name1 , email1):\n",
    "        return cls(name1 , email1)\n",
    "    \n",
    "    def student_details(self):\n",
    "        print(self.name , self.email,pwskills2.mobile_number)"
   ]
  },
  {
   "cell_type": "code",
   "execution_count": 30,
   "id": "3e02c581-10ac-41e0-80d2-de2ed0e3545c",
   "metadata": {},
   "outputs": [],
   "source": [
    "del pwskills4.change_number"
   ]
  },
  {
   "cell_type": "code",
   "execution_count": 31,
   "id": "9d60bbbc-7045-436f-9529-eff34207c3b4",
   "metadata": {},
   "outputs": [
    {
     "ename": "AttributeError",
     "evalue": "type object 'pwskills4' has no attribute 'change_number'",
     "output_type": "error",
     "traceback": [
      "\u001b[0;31m---------------------------------------------------------------------------\u001b[0m",
      "\u001b[0;31mAttributeError\u001b[0m                            Traceback (most recent call last)",
      "Cell \u001b[0;32mIn[31], line 1\u001b[0m\n\u001b[0;32m----> 1\u001b[0m \u001b[43mpwskills4\u001b[49m\u001b[38;5;241;43m.\u001b[39;49m\u001b[43mchange_number\u001b[49m(\u001b[38;5;241m2432535345\u001b[39m)\n",
      "\u001b[0;31mAttributeError\u001b[0m: type object 'pwskills4' has no attribute 'change_number'"
     ]
    }
   ],
   "source": [
    "pwskills4.change_number(2432535345)"
   ]
  },
  {
   "cell_type": "code",
   "execution_count": 32,
   "id": "19aa5d70-d1c5-4ba4-a8b4-f789a43122d4",
   "metadata": {},
   "outputs": [],
   "source": [
    "delattr(pwskills4 , \"details\")"
   ]
  },
  {
   "cell_type": "code",
   "execution_count": 33,
   "id": "fe5491ea-df36-4851-b0ac-d8befb63937f",
   "metadata": {},
   "outputs": [
    {
     "data": {
      "text/plain": [
       "9134534535"
      ]
     },
     "execution_count": 33,
     "metadata": {},
     "output_type": "execute_result"
    }
   ],
   "source": [
    "pwskills4.mobile_number"
   ]
  },
  {
   "cell_type": "code",
   "execution_count": 34,
   "id": "f1e1237d-0ffd-4611-8938-b06699cf9d7f",
   "metadata": {},
   "outputs": [],
   "source": [
    "delattr(pwskills4 , \"mobile_number\")"
   ]
  },
  {
   "cell_type": "code",
   "execution_count": 35,
   "id": "fd2321d3-401f-4157-aa30-58eb0a8e0461",
   "metadata": {},
   "outputs": [
    {
     "ename": "AttributeError",
     "evalue": "type object 'pwskills4' has no attribute 'mobile_number'",
     "output_type": "error",
     "traceback": [
      "\u001b[0;31m---------------------------------------------------------------------------\u001b[0m",
      "\u001b[0;31mAttributeError\u001b[0m                            Traceback (most recent call last)",
      "Cell \u001b[0;32mIn[35], line 1\u001b[0m\n\u001b[0;32m----> 1\u001b[0m \u001b[43mpwskills4\u001b[49m\u001b[38;5;241;43m.\u001b[39;49m\u001b[43mmobile_number\u001b[49m\n",
      "\u001b[0;31mAttributeError\u001b[0m: type object 'pwskills4' has no attribute 'mobile_number'"
     ]
    }
   ],
   "source": [
    "pwskills4.mobile_number"
   ]
  },
  {
   "cell_type": "code",
   "execution_count": 36,
   "id": "c57b3ba9-34af-44e7-99f9-79883dee726a",
   "metadata": {},
   "outputs": [],
   "source": [
    "delattr(pwskills4,\"student_details\")"
   ]
  },
  {
   "cell_type": "code",
   "execution_count": 37,
   "id": "734b18c4-ee4e-447a-98bd-6c7ae63ce6df",
   "metadata": {},
   "outputs": [
    {
     "data": {
      "text/plain": [
       "__main__.pwskills4"
      ]
     },
     "execution_count": 37,
     "metadata": {},
     "output_type": "execute_result"
    }
   ],
   "source": [
    "pwskills4"
   ]
  },
  {
   "cell_type": "code",
   "execution_count": null,
   "id": "4af067c2-e0f0-40e3-bf2e-2dcde0f42847",
   "metadata": {},
   "outputs": [],
   "source": []
  }
 ],
 "metadata": {
  "kernelspec": {
   "display_name": "Python 3 (ipykernel)",
   "language": "python",
   "name": "python3"
  },
  "language_info": {
   "codemirror_mode": {
    "name": "ipython",
    "version": 3
   },
   "file_extension": ".py",
   "mimetype": "text/x-python",
   "name": "python",
   "nbconvert_exporter": "python",
   "pygments_lexer": "ipython3",
   "version": "3.10.8"
  }
 },
 "nbformat": 4,
 "nbformat_minor": 5
}
