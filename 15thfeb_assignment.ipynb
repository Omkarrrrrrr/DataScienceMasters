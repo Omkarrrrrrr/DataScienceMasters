{
 "cells": [
  {
   "cell_type": "markdown",
   "id": "c8521ed2-9111-40e9-b3e9-c1b1ebfbfa74",
   "metadata": {},
   "source": [
    "# Q1. What is multiprocessing in python? Why is it useful?"
   ]
  },
  {
   "cell_type": "markdown",
   "id": "b9295285-f3ff-4aba-8f9b-c4e3f76ad0b0",
   "metadata": {},
   "source": [
    "### Multiprocessing:\n",
    "It is a way to achieve parallel processing of tasks in Python, allowing us to take advantage of multiple processors or cores in a computer to improve the performance of our code.\n",
    "We can achieve this by using 'multiprocessing' module"
   ]
  },
  {
   "cell_type": "markdown",
   "id": "9b75cb43-1222-4985-9853-cf11d885132a",
   "metadata": {},
   "source": [
    "# Q2. What are the differences between multiprocessing and multithreading?"
   ]
  },
  {
   "cell_type": "markdown",
   "id": "79e21a2e-50e4-4544-9c10-e7986d2074bf",
   "metadata": {},
   "source": [
    "### Multithreading:\n",
    "It refers to the execution of multiple threads (lightweight processes) within the same process. In Python, the threading module provides a way to create and manage threads. Each thread shares the same memory space as the main thread and can access the same variables and data structures. Because of this shared memory, multithreading can be more efficient than multiprocessing for I/O-bound tasks, such as reading and writing to files or communicating with a network.\n",
    "### Multiprocessing:\n",
    "It refers to the execution of multiple processes in parallel, each running in a separate memory space. In Python, the multiprocessing module provides a way to create and manage processes. Each process has its own memory space and does not share memory with the main process or other processes. Because of this, multiprocessing is better suited for CPU-bound tasks that can benefit from parallel processing.\n",
    "\n",
    "### Here are some Key difference between them:\n",
    "Memory: Multithreading uses a shared memory space, while multiprocessing uses separate memory spaces.\n",
    "Parallelism: Multithreading can achieve concurrency on a single CPU core, while multiprocessing can achieve true parallelism on multiple CPU cores.\n",
    "Overhead: Multithreading has lower overhead since threads share the same memory space, while multiprocessing has higher overhead due to interprocess communication and data serialization.\n",
    "Safety: Multithreading requires careful management of shared memory to avoid race conditions and other synchronization issues, while multiprocessing has built-in mechanisms for interprocess communication and data sharing.\n"
   ]
  },
  {
   "cell_type": "markdown",
   "id": "864777a3-1dcc-4ab8-9f35-f033859ad19b",
   "metadata": {},
   "source": [
    "# Q3. Write a python code to create a process using the multiprocessing module."
   ]
  },
  {
   "cell_type": "code",
   "execution_count": 3,
   "id": "94c1b441-75aa-4393-a6fa-7c36cd672f33",
   "metadata": {},
   "outputs": [
    {
     "name": "stdout",
     "output_type": "stream",
     "text": [
      "Hey!\n",
      "Bye!\n",
      "Hey!\n",
      "Bye!\n",
      "Hey!\n",
      "Bye!\n",
      "Done.\n"
     ]
    }
   ],
   "source": [
    "import multiprocessing as mp\n",
    "from time import sleep\n",
    "def fun(n,msg):\n",
    "    for _ in range(n):\n",
    "        sleep(1)        \n",
    "        print(msg) \n",
    "if __name__ == '__main__': \n",
    "    p1 = mp.Process(target = fun, args = (3,'Hey!'))\n",
    "    p2 = mp.Process(target = fun, args = (3,'Bye!'))\n",
    "    p1.start()\n",
    "    p2.start()\n",
    "    p1.join()\n",
    "    p2.join()\n",
    "    print('Done.')"
   ]
  },
  {
   "cell_type": "markdown",
   "id": "2d499950-589d-44f2-9c61-f8345a5e8261",
   "metadata": {},
   "source": [
    "# Q4. What is a multiprocessing pool in python? Why is it used?"
   ]
  },
  {
   "cell_type": "markdown",
   "id": "ebe1972c-61a4-4f13-9999-4c134299a5bc",
   "metadata": {},
   "source": [
    "The multiprocessing pool in python is a way to create a pool of worker processes that can execute a given function in parallel. It allows you to distribute the workload across multiple CPUs or cores and speed up the execution of your code."
   ]
  },
  {
   "cell_type": "markdown",
   "id": "48795e53-6b93-4062-9787-04c72404a914",
   "metadata": {},
   "source": [
    "# Q5. How can we create a pool of worker processes in python using the multiprocessing module?"
   ]
  },
  {
   "cell_type": "code",
   "execution_count": 4,
   "id": "c2f9a5bf-0b54-464a-a822-8639c83dbe76",
   "metadata": {},
   "outputs": [
    {
     "name": "stdout",
     "output_type": "stream",
     "text": [
      "[1, 8, 27, 64, 125, 216, 343, 512, 729, 1000]\n"
     ]
    }
   ],
   "source": [
    "from multiprocessing import Pool\n",
    "\n",
    "nos = [1,2,3,4,5,6,7,8,9,10]\n",
    "def cube(n):\n",
    "    return n**3\n",
    "if __name__ == '__main__':\n",
    "    with Pool(processes = 4) as p:\n",
    "        result = p.map(cube , nos)\n",
    "        print(result)"
   ]
  },
  {
   "cell_type": "markdown",
   "id": "70c7c4ba-13a9-4e8c-a157-a06de2021123",
   "metadata": {},
   "source": [
    "# Q6. Write a python program to create 4 processes, each process should print a different number using the multiprocessing module in python."
   ]
  },
  {
   "cell_type": "code",
   "execution_count": 5,
   "id": "92a85d70-a681-4a57-a13d-8085b47fc369",
   "metadata": {},
   "outputs": [
    {
     "name": "stdout",
     "output_type": "stream",
     "text": [
      "Generatng Nos: 69 74 61 10 \n",
      "Executon tme: 0.28 sec(s)\n"
     ]
    }
   ],
   "source": [
    "import multiprocessing as m\n",
    "import time as t\n",
    "import random as r\n",
    "\n",
    "print('Generatng Nos: ',end = '')\n",
    "def random_no():\n",
    "\tprint(r.randint(1,100),end = ' ')\n",
    "\tt.sleep(0.25)\n",
    "\n",
    "start = t.time()\n",
    "if __name__ == '__main__':\n",
    "\tprocesses = []\n",
    "\tfor _ in range(4):\n",
    "\t\tp = m.Process(target = random_no)\n",
    "\t\tp.start()\n",
    "\t\tprocesses.append(p)\n",
    "\n",
    "\tfor p in processes:\n",
    "\t\tp.join()\n",
    "\t\n",
    "print(f'\\nExecuton tme: {round(t.time() - start,2)} sec(s)')"
   ]
  },
  {
   "cell_type": "code",
   "execution_count": null,
   "id": "72204cbe-b66b-4cb1-a4f6-43a051108770",
   "metadata": {},
   "outputs": [],
   "source": []
  }
 ],
 "metadata": {
  "kernelspec": {
   "display_name": "Python 3 (ipykernel)",
   "language": "python",
   "name": "python3"
  },
  "language_info": {
   "codemirror_mode": {
    "name": "ipython",
    "version": 3
   },
   "file_extension": ".py",
   "mimetype": "text/x-python",
   "name": "python",
   "nbconvert_exporter": "python",
   "pygments_lexer": "ipython3",
   "version": "3.10.8"
  }
 },
 "nbformat": 4,
 "nbformat_minor": 5
}
