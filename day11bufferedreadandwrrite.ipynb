{
 "cells": [
  {
   "cell_type": "code",
   "execution_count": 1,
   "id": "0777dff1-1f29-47cb-97cf-ce32f314564c",
   "metadata": {},
   "outputs": [],
   "source": [
    "import io"
   ]
  },
  {
   "cell_type": "code",
   "execution_count": 2,
   "id": "741a0f62-b130-481b-ab54-f7c787b29957",
   "metadata": {},
   "outputs": [
    {
     "data": {
      "text/plain": [
       "\"\\nIn Python, import io is an import statement that allows you to use the io module. The io module is part of the Python standard library and provides classes and functions for working with input and output streams, including text and binary data.\\n\\nThe io module is used for various input and output operations, and it offers features like buffering, encoding, and decoding. It's particularly useful when dealing with streams of data, such as reading from or writing to files, working with network sockets, or manipulating in-memory data as streams.\\n\\nHere are a few key components and features of the io module:\\n\\nio.StringIO: This class allows you to treat strings as file-like objects, which can be read from and written to like a file. It's often used for in-memory text manipulation.\\n\\nio.BytesIO: Similar to StringIO, this class is used for treating binary data as file-like objects in memory.\\n\\nio.open: This function provides a way to open files in a way that's consistent with the io module, allowing you to specify the file mode and encoding.\\n\\nBuffered I/O: The io module supports buffering, which can improve the performance of reading and writing operations by minimizing actual disk or network access.\\n\""
      ]
     },
     "execution_count": 2,
     "metadata": {},
     "output_type": "execute_result"
    }
   ],
   "source": [
    "\"\"\"\n",
    "In Python, import io is an import statement that allows you to use the io module. The io module is part of the Python standard library and provides classes and functions for working with input and output streams, including text and binary data.\n",
    "\n",
    "The io module is used for various input and output operations, and it offers features like buffering, encoding, and decoding. It's particularly useful when dealing with streams of data, such as reading from or writing to files, working with network sockets, or manipulating in-memory data as streams.\n",
    "\n",
    "Here are a few key components and features of the io module:\n",
    "\n",
    "io.StringIO: This class allows you to treat strings as file-like objects, which can be read from and written to like a file. It's often used for in-memory text manipulation.\n",
    "\n",
    "io.BytesIO: Similar to StringIO, this class is used for treating binary data as file-like objects in memory.\n",
    "\n",
    "io.open: This function provides a way to open files in a way that's consistent with the io module, allowing you to specify the file mode and encoding.\n",
    "\n",
    "Buffered I/O: The io module supports buffering, which can improve the performance of reading and writing operations by minimizing actual disk or network access.\n",
    "\"\"\""
   ]
  },
  {
   "cell_type": "code",
   "execution_count": 3,
   "id": "013ce1c2-2d18-4836-a40b-1f95a1adf292",
   "metadata": {},
   "outputs": [],
   "source": [
    "with open(\"test.txt\", \"wb\") as f :\n",
    "    file = io.BufferedWriter(f)\n",
    "    file.write(b\"Data Science Masters course is highly curated and uniquely designed according to the latest industry standards. This program instills students the skills essential to knowledge discovery efforts to identify standard, novel, and truly differentiated solutions and decision-making, including skills in managing, querying, analyzing, visualizing, and extracting meaning from extremely large data sets. This trending program provides students with the statistical, mathematical and computational skills needed to meet the large-scale data science challenges of today's professional world. You will learn all the stack required to work in data science industry including cloud infrastructure and real-time industry projects. This course will be taught in Hindi language.\\n\")\n",
    "    file.write(b\"this is my second line that i am trying to write\")\n",
    "    file.flush()"
   ]
  },
  {
   "cell_type": "code",
   "execution_count": 4,
   "id": "9293fe3a-c9a2-4ec4-869a-7901c6e27406",
   "metadata": {},
   "outputs": [
    {
     "name": "stdout",
     "output_type": "stream",
     "text": [
      "b\"Data Science Masters course is highly curated and uniquely designed according to the latest industry standards. This program instills students the skills essential to knowledge discovery efforts to identify standard, novel, and truly differentiated solutions and decision-making, including skills in managing, querying, analyzing, visualizing, and extracting meaning from extremely large data sets. This trending program provides students with the statistical, mathematical and computational skills needed to meet the large-scale data science challenges of today's professional world. You will learn all the stack required to work in data science industry including cloud infrastructure and real-time industry projects. This course will be taught in Hindi language.\\nthis is my second line that i am trying to write\"\n"
     ]
    }
   ],
   "source": [
    "with open(\"test.txt\" , \"rb\") as f :\n",
    "    file = io.BufferedReader(f)\n",
    "    data = file.read(10000)\n",
    "    print(data)"
   ]
  },
  {
   "cell_type": "code",
   "execution_count": null,
   "id": "66657408-522e-4fee-9588-34d141a823e6",
   "metadata": {},
   "outputs": [],
   "source": []
  }
 ],
 "metadata": {
  "kernelspec": {
   "display_name": "Python 3 (ipykernel)",
   "language": "python",
   "name": "python3"
  },
  "language_info": {
   "codemirror_mode": {
    "name": "ipython",
    "version": 3
   },
   "file_extension": ".py",
   "mimetype": "text/x-python",
   "name": "python",
   "nbconvert_exporter": "python",
   "pygments_lexer": "ipython3",
   "version": "3.10.8"
  }
 },
 "nbformat": 4,
 "nbformat_minor": 5
}
