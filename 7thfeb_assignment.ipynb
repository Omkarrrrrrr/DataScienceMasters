{
 "cells": [
  {
   "cell_type": "raw",
   "id": "9127d43c-0f71-4ed5-819e-136f7a06e44d",
   "metadata": {},
   "source": [
    " Q1. You are writing code for a company. The requirement of the company is that you create a python function that will check whether the password entered by the user is correct or not. The function should take the password as input and return the string “Valid Password” if the entered password follows the below-given password guidelines else it should return “Invalid Password”. \n",
    " Note: 1. The Password should contain at least two uppercase letters and at least two lowercase letters.\n",
    " 2. The Password should contain at least a number and three special characters.\n",
    " 3. The length of the password should be 10 characters long."
   ]
  },
  {
   "cell_type": "code",
   "execution_count": 2,
   "id": "d88fe366-511d-4d63-b954-bec38b5e9678",
   "metadata": {},
   "outputs": [
    {
     "name": "stdout",
     "output_type": "stream",
     "text": [
      "\t\t\tPW Skills Lab\n",
      "-> Set your password of minimum length 10 and whitespaces not valid.\n",
      "-> Password should contain atleast 2 uppercases & 2 lowercases.\n",
      "-> Password should contain atleast 3 special characters & 1 number.\n"
     ]
    },
    {
     "name": "stdin",
     "output_type": "stream",
     "text": [
      "Enter password:  765hhTT@#$\n"
     ]
    },
    {
     "name": "stdout",
     "output_type": "stream",
     "text": [
      "Password is successfully set.\n"
     ]
    }
   ],
   "source": [
    "def uppercase_chk(str):\n",
    "\tcount = 0\n",
    "\tfor i in str:\n",
    "\t\tif ord(i) >= 65 and ord(i) <= 90:\n",
    "\t\t\tcount += 1\n",
    "\treturn count\n",
    "\n",
    "\n",
    "def lowercase_chk(str):\n",
    "\tcount = 0\n",
    "\tfor i in str:\n",
    "\t\tif ord(i) >= 97 and ord(i) <= 122:\n",
    "\t\t\tcount += 1\n",
    "\treturn count\n",
    "\n",
    "\n",
    "def special_chk(str):\n",
    "\tspecial_chrs = '^!@#$%&*?[{(\\`<~-_=+,.;:>/)}]|'\n",
    "\tcount = 0\n",
    "\tfor i in str:\n",
    "\t\tif i in special_chrs:\n",
    "\t\t\tcount += 1\n",
    "\treturn count\n",
    "\n",
    "\n",
    "def number_chk(str):\n",
    "\tcount = 0\n",
    "\tfor i in str:\n",
    "\t\tif ord(i) >= 48 and ord(i) <= 57:\n",
    "\t\t\tcount += 1\n",
    "\treturn count\n",
    "\n",
    "\n",
    "def spaces_chk(str):\n",
    "\tif chr(32) not in str:\n",
    "\t\treturn True\n",
    "\telse:\n",
    "\t\treturn False\n",
    "\n",
    "\n",
    "def password_check(str):\n",
    "\tif len(str) >= 10 and uppercase_chk(str) >= 2 and lowercase_chk(\n",
    "\t  str) >= 2 and special_chk(str) >= 3 and number_chk(str) >= 1 and spaces_chk(\n",
    "\t   str) == True:\n",
    "\t\tprint('Password is successfully set.')\n",
    "\t\treturn True\n",
    "\telse:\n",
    "\t\tprint('Invalid passwrod !')\n",
    "\t\treturn False\n",
    "\n",
    "\n",
    "print('\\t\\t\\tPW Skills Lab')\n",
    "print('-> Set your password of minimum length 10 and whitespaces not valid.')\n",
    "print('-> Password should contain atleast 2 uppercases & 2 lowercases.')\n",
    "print('-> Password should contain atleast 3 special characters & 1 number.')\n",
    "while True:\n",
    "\tpassword = input('Enter password: ')\n",
    "\twhile password_check(password) != True:\n",
    "\t\tpassword = input('Enter password: ')\n",
    "\tbreak"
   ]
  },
  {
   "cell_type": "raw",
   "id": "7a64a7a3-8020-4c53-afd8-81207e3717ec",
   "metadata": {},
   "source": [
    "# Q2. Solve the below-given questions using at least one of the following:\n",
    "1. Lambda functioJ\n",
    "2. Filter functioJ\n",
    "3. Zap functioJ\n",
    "4. List ComprehensioI\n",
    "B Check if the string starts with a particular letterY\n",
    "B Check if the string is numericY\n",
    "B Sort a list of tuples having fruit names and their quantity. [(\"mango\",99),(\"orange\",80), (\"grapes\", 1000)-\n",
    "B Find the squares of numbers from 1 to 10Y\n",
    "B Find the cube root of numbers from 1 to 10Y\n",
    "B Check if a given number is evenY\n",
    "B Filter odd numbers from the given list.\n",
    "[1,2,3,4,5,6,7,8,9,10-\n",
    "B Sort a list of integers into positive"
   ]
  },
  {
   "cell_type": "code",
   "execution_count": 3,
   "id": "38b92bb1-f3e2-4d48-8c17-037816789f2b",
   "metadata": {},
   "outputs": [
    {
     "data": {
      "text/plain": [
       "[False]"
      ]
     },
     "execution_count": 3,
     "metadata": {},
     "output_type": "execute_result"
    }
   ],
   "source": [
    "# Check if the string starts with a particular letter\n",
    "\n",
    "string = 'PW Skills Data Science'\n",
    "start_with = 'G'\n",
    "[True if string[0] == start_with else False]"
   ]
  },
  {
   "cell_type": "code",
   "execution_count": 4,
   "id": "10c4545e-25e6-4f20-8158-2073f6485614",
   "metadata": {},
   "outputs": [
    {
     "data": {
      "text/plain": [
       "[True]"
      ]
     },
     "execution_count": 4,
     "metadata": {},
     "output_type": "execute_result"
    }
   ],
   "source": [
    "start_with = 'P'\n",
    "[True if string[0] == start_with else False]"
   ]
  },
  {
   "cell_type": "code",
   "execution_count": 5,
   "id": "c3993177-42cc-4583-ae9c-673df862ed35",
   "metadata": {},
   "outputs": [
    {
     "data": {
      "text/plain": [
       "[False]"
      ]
     },
     "execution_count": 5,
     "metadata": {},
     "output_type": "execute_result"
    }
   ],
   "source": [
    "# Check if the string is numeric\n",
    "\n",
    "string = 'Omi@gmail.com'\n",
    "[True if string.isnumeric() else False]"
   ]
  },
  {
   "cell_type": "code",
   "execution_count": 6,
   "id": "5a681584-fbbd-465f-a4fd-cfc6298fba6c",
   "metadata": {},
   "outputs": [
    {
     "data": {
      "text/plain": [
       "[True]"
      ]
     },
     "execution_count": 6,
     "metadata": {},
     "output_type": "execute_result"
    }
   ],
   "source": [
    "string = '123'\n",
    "[True if string.isnumeric() else False]"
   ]
  },
  {
   "cell_type": "code",
   "execution_count": 7,
   "id": "d0dfa313-cac5-4bb3-afae-4bcca13acdb6",
   "metadata": {},
   "outputs": [],
   "source": [
    "# Find the squares of numbers from 1 to 10\n",
    "\n",
    "numbers = [1,2,3,4,5,6,7,8,9,10]"
   ]
  },
  {
   "cell_type": "code",
   "execution_count": 8,
   "id": "c270f7b8-9431-4b00-af47-298293eac4f8",
   "metadata": {},
   "outputs": [
    {
     "data": {
      "text/plain": [
       "[1, 4, 9, 16, 25, 36, 49, 64, 81, 100]"
      ]
     },
     "execution_count": 8,
     "metadata": {},
     "output_type": "execute_result"
    }
   ],
   "source": [
    "squares = map(lambda x: x**2 , numbers)\n",
    "list(squares)"
   ]
  },
  {
   "cell_type": "code",
   "execution_count": 9,
   "id": "09904724-6e53-4171-b3de-31befafe3041",
   "metadata": {},
   "outputs": [
    {
     "data": {
      "text/plain": [
       "[1, 8, 27, 64, 125, 216, 343, 512, 729, 1000]"
      ]
     },
     "execution_count": 9,
     "metadata": {},
     "output_type": "execute_result"
    }
   ],
   "source": [
    "# Find the cube root of numbers from 1 to 10\n",
    "\n",
    "cubes = map(lambda x: x**3 , numbers)\n",
    "list(cubes)"
   ]
  },
  {
   "cell_type": "code",
   "execution_count": 10,
   "id": "2f83c5ad-e02a-4a91-9958-a557d5bac5ab",
   "metadata": {},
   "outputs": [
    {
     "data": {
      "text/plain": [
       "['even']"
      ]
     },
     "execution_count": 10,
     "metadata": {},
     "output_type": "execute_result"
    }
   ],
   "source": [
    "# Check if a given number is even.\n",
    "\n",
    "given_number = 6\n",
    "['even' if given_number % 2 == 0 else 'odd']"
   ]
  },
  {
   "cell_type": "code",
   "execution_count": 11,
   "id": "a3c0d4bd-c62e-46de-809a-d95e14c3a8ed",
   "metadata": {},
   "outputs": [
    {
     "data": {
      "text/plain": [
       "[1, 3, 5, 7, 9]"
      ]
     },
     "execution_count": 11,
     "metadata": {},
     "output_type": "execute_result"
    }
   ],
   "source": [
    "# Filter odd numbers from the given list.\n",
    "\n",
    "list1 = [1,2,3,4,5,6,7,8,9,10]\n",
    "odd_numbers = filter(lambda x: x % 2 != 0, list1)\n",
    "list(odd_numbers)"
   ]
  },
  {
   "cell_type": "code",
   "execution_count": 12,
   "id": "e83cc721-1e2e-4ac1-8895-22629962f0e6",
   "metadata": {},
   "outputs": [],
   "source": [
    "# Sort a list of integers into positive and negative integers lists.\n",
    "\n",
    "intergers = [1,2,3,4,5,6,-1,-2,-3,-4,-5,0]"
   ]
  },
  {
   "cell_type": "code",
   "execution_count": 13,
   "id": "77512902-f7d9-46db-85d8-6f112b4b2c12",
   "metadata": {},
   "outputs": [
    {
     "data": {
      "text/plain": [
       "[1, 2, 3, 4, 5, 6, 0]"
      ]
     },
     "execution_count": 13,
     "metadata": {},
     "output_type": "execute_result"
    }
   ],
   "source": [
    "positive_intergers = filter(lambda x: x >= 0, intergers)\n",
    "list(positive_intergers)"
   ]
  },
  {
   "cell_type": "code",
   "execution_count": 14,
   "id": "27668dd9-16c8-4ea6-88c7-69cc42a8bde1",
   "metadata": {},
   "outputs": [
    {
     "data": {
      "text/plain": [
       "[1, 2, 3, 4, 5, 6, 0]"
      ]
     },
     "execution_count": 14,
     "metadata": {},
     "output_type": "execute_result"
    }
   ],
   "source": [
    "positive_intergers = filter(lambda x: x >= 0, intergers)\n",
    "list(positive_intergers)"
   ]
  },
  {
   "cell_type": "code",
   "execution_count": 15,
   "id": "2a3b7463-82b1-4f6c-bc3e-70f0a979e957",
   "metadata": {},
   "outputs": [],
   "source": [
    "# Sort a list of tuples having fruit names and their quantity. \n",
    "\n",
    "fruits_quantity = [(\"mango\",99),(\"orange\",80), (\"grapes\", 1000)]"
   ]
  },
  {
   "cell_type": "code",
   "execution_count": 16,
   "id": "a2ee5ae8-8820-4f11-aa10-272fa9fcb2d1",
   "metadata": {},
   "outputs": [
    {
     "data": {
      "text/plain": [
       "[[('grapes', 1000), ('mango', 99), ('orange', 80)]]"
      ]
     },
     "execution_count": 16,
     "metadata": {},
     "output_type": "execute_result"
    }
   ],
   "source": [
    "# Sorted by the fruits names\n",
    "[sorted(fruits_quantity, key = lambda x: x[0])] "
   ]
  },
  {
   "cell_type": "code",
   "execution_count": 17,
   "id": "f443c42a-f346-4737-89f0-17a7213fe05d",
   "metadata": {},
   "outputs": [
    {
     "data": {
      "text/plain": [
       "[[('orange', 80), ('mango', 99), ('grapes', 1000)]]"
      ]
     },
     "execution_count": 17,
     "metadata": {},
     "output_type": "execute_result"
    }
   ],
   "source": [
    "# Sorted by the fruits quantity\n",
    "[sorted(fruits_quantity, key = lambda x: x[1])] "
   ]
  },
  {
   "cell_type": "code",
   "execution_count": null,
   "id": "28557230-0e6e-4eeb-8ad6-7af6914ee253",
   "metadata": {},
   "outputs": [],
   "source": []
  }
 ],
 "metadata": {
  "kernelspec": {
   "display_name": "Python 3 (ipykernel)",
   "language": "python",
   "name": "python3"
  },
  "language_info": {
   "codemirror_mode": {
    "name": "ipython",
    "version": 3
   },
   "file_extension": ".py",
   "mimetype": "text/x-python",
   "name": "python",
   "nbconvert_exporter": "python",
   "pygments_lexer": "ipython3",
   "version": "3.10.8"
  }
 },
 "nbformat": 4,
 "nbformat_minor": 5
}
