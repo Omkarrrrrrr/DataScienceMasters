{
 "cells": [
  {
   "cell_type": "markdown",
   "id": "d2b257c6-ee46-4a3d-92cd-963b36dea931",
   "metadata": {},
   "source": [
    "# Function part 1\n"
   ]
  },
  {
   "cell_type": "markdown",
   "id": "85b32067-16fa-4f4f-8f5b-f8dfe67b5ef5",
   "metadata": {},
   "source": [
    "print(\"this is my prog\")"
   ]
  },
  {
   "cell_type": "code",
   "execution_count": 2,
   "id": "158fb711-8668-43d2-a5f7-e9fef04a47bb",
   "metadata": {},
   "outputs": [],
   "source": [
    "l = [1,2,3,4]"
   ]
  },
  {
   "cell_type": "code",
   "execution_count": 3,
   "id": "38bf4f9d-15c0-4aeb-b790-10852a78a789",
   "metadata": {},
   "outputs": [
    {
     "data": {
      "text/plain": [
       "4"
      ]
     },
     "execution_count": 3,
     "metadata": {},
     "output_type": "execute_result"
    }
   ],
   "source": [
    "len(l)"
   ]
  },
  {
   "cell_type": "code",
   "execution_count": 4,
   "id": "cfd4288f-9fbb-47ea-ba15-d0a967476b48",
   "metadata": {},
   "outputs": [],
   "source": [
    "def test():\n",
    "    pass"
   ]
  },
  {
   "cell_type": "code",
   "execution_count": 8,
   "id": "6c0b7f29-c8f5-4b97-9f21-15d7bfb3de71",
   "metadata": {},
   "outputs": [],
   "source": [
    "def test1():\n",
    "    print(\"this is my very first program\")"
   ]
  },
  {
   "cell_type": "code",
   "execution_count": 10,
   "id": "4e4cbd88-e660-443e-9f30-739f7762c7f1",
   "metadata": {},
   "outputs": [
    {
     "name": "stdout",
     "output_type": "stream",
     "text": [
      "this is my very first program\n"
     ]
    }
   ],
   "source": [
    "test1()"
   ]
  },
  {
   "cell_type": "code",
   "execution_count": 11,
   "id": "6651abc0-ba23-4c09-8a57-9a90839204ac",
   "metadata": {},
   "outputs": [
    {
     "name": "stdout",
     "output_type": "stream",
     "text": [
      "this is my very first program\n"
     ]
    },
    {
     "ename": "TypeError",
     "evalue": "unsupported operand type(s) for +: 'NoneType' and 'str'",
     "output_type": "error",
     "traceback": [
      "\u001b[0;31m---------------------------------------------------------------------------\u001b[0m",
      "\u001b[0;31mTypeError\u001b[0m                                 Traceback (most recent call last)",
      "Cell \u001b[0;32mIn[11], line 1\u001b[0m\n\u001b[0;32m----> 1\u001b[0m \u001b[43mtest1\u001b[49m\u001b[43m(\u001b[49m\u001b[43m)\u001b[49m\u001b[43m \u001b[49m\u001b[38;5;241;43m+\u001b[39;49m\u001b[43m \u001b[49m\u001b[38;5;124;43m\"\u001b[39;49m\u001b[38;5;124;43msudh\u001b[39;49m\u001b[38;5;124;43m\"\u001b[39;49m\n",
      "\u001b[0;31mTypeError\u001b[0m: unsupported operand type(s) for +: 'NoneType' and 'str'"
     ]
    }
   ],
   "source": [
    "test1() + \"sudh\""
   ]
  },
  {
   "cell_type": "code",
   "execution_count": 20,
   "id": "e0bf4e26-5900-4ec8-baaa-ca96c5894168",
   "metadata": {},
   "outputs": [],
   "source": [
    "def test2():\n",
    "    return \"this is my fun with return \""
   ]
  },
  {
   "cell_type": "code",
   "execution_count": 21,
   "id": "935e6bdd-c526-4f63-9e5a-9607b34c413a",
   "metadata": {},
   "outputs": [
    {
     "data": {
      "text/plain": [
       "'this is my fun with return '"
      ]
     },
     "execution_count": 21,
     "metadata": {},
     "output_type": "execute_result"
    }
   ],
   "source": [
    "test2()"
   ]
  },
  {
   "cell_type": "code",
   "execution_count": 22,
   "id": "f9880f1c-a56b-40d0-abcc-dcd70e4e31ba",
   "metadata": {},
   "outputs": [
    {
     "data": {
      "text/plain": [
       "'this is my fun with return sudh'"
      ]
     },
     "execution_count": 22,
     "metadata": {},
     "output_type": "execute_result"
    }
   ],
   "source": [
    "test2() + \"sudh\""
   ]
  },
  {
   "cell_type": "code",
   "execution_count": 23,
   "id": "3e4aea84-14ce-40b8-ac51-12044e00e6e8",
   "metadata": {},
   "outputs": [],
   "source": [
    "def test3():\n",
    "    return 1,2,\"pwskills\" ,34.56"
   ]
  },
  {
   "cell_type": "code",
   "execution_count": 24,
   "id": "35d109bd-c94e-4760-be6a-1f6905d38adc",
   "metadata": {},
   "outputs": [
    {
     "data": {
      "text/plain": [
       "(1, 2, 'pwskills', 34.56)"
      ]
     },
     "execution_count": 24,
     "metadata": {},
     "output_type": "execute_result"
    }
   ],
   "source": [
    "test3()"
   ]
  },
  {
   "cell_type": "code",
   "execution_count": 25,
   "id": "a638155f-2109-4973-9c7f-d87f10880f29",
   "metadata": {},
   "outputs": [],
   "source": [
    "a = 1,2,3,4,5"
   ]
  },
  {
   "cell_type": "code",
   "execution_count": 26,
   "id": "e9ddf60f-ea64-4563-b568-88a7a46fccbe",
   "metadata": {},
   "outputs": [
    {
     "data": {
      "text/plain": [
       "(1, 2, 3, 4, 5)"
      ]
     },
     "execution_count": 26,
     "metadata": {},
     "output_type": "execute_result"
    }
   ],
   "source": [
    "a"
   ]
  },
  {
   "cell_type": "code",
   "execution_count": 27,
   "id": "6329f957-ceb5-428a-be3f-04dc5316e352",
   "metadata": {},
   "outputs": [],
   "source": [
    "a,b,c,d = 1,2,34.56,True"
   ]
  },
  {
   "cell_type": "code",
   "execution_count": 28,
   "id": "cc1e5d79-dd4b-4426-bbf0-818094fa3b85",
   "metadata": {},
   "outputs": [
    {
     "data": {
      "text/plain": [
       "1"
      ]
     },
     "execution_count": 28,
     "metadata": {},
     "output_type": "execute_result"
    }
   ],
   "source": [
    "a"
   ]
  },
  {
   "cell_type": "code",
   "execution_count": 29,
   "id": "9c3a0aa9-6eff-46bb-b411-1ab0032f3305",
   "metadata": {},
   "outputs": [
    {
     "data": {
      "text/plain": [
       "2"
      ]
     },
     "execution_count": 29,
     "metadata": {},
     "output_type": "execute_result"
    }
   ],
   "source": [
    "b"
   ]
  },
  {
   "cell_type": "code",
   "execution_count": 30,
   "id": "d899361c-7481-4070-890c-e3b5499be7bb",
   "metadata": {},
   "outputs": [
    {
     "data": {
      "text/plain": [
       "34.56"
      ]
     },
     "execution_count": 30,
     "metadata": {},
     "output_type": "execute_result"
    }
   ],
   "source": [
    "c"
   ]
  },
  {
   "cell_type": "code",
   "execution_count": 31,
   "id": "1b52ce94-427c-454c-a9ca-b258e3b4bd97",
   "metadata": {},
   "outputs": [
    {
     "data": {
      "text/plain": [
       "True"
      ]
     },
     "execution_count": 31,
     "metadata": {},
     "output_type": "execute_result"
    }
   ],
   "source": [
    "d"
   ]
  },
  {
   "cell_type": "code",
   "execution_count": 32,
   "id": "39213d48-b906-4506-96a8-c6fa977e6d52",
   "metadata": {},
   "outputs": [
    {
     "data": {
      "text/plain": [
       "(1, 2, 'pwskills', 34.56)"
      ]
     },
     "execution_count": 32,
     "metadata": {},
     "output_type": "execute_result"
    }
   ],
   "source": [
    "test3()"
   ]
  },
  {
   "cell_type": "code",
   "execution_count": 33,
   "id": "5fdb6147-fc68-44a1-9288-2496afb0c605",
   "metadata": {},
   "outputs": [
    {
     "data": {
      "text/plain": [
       "1"
      ]
     },
     "execution_count": 33,
     "metadata": {},
     "output_type": "execute_result"
    }
   ],
   "source": [
    "test3()[0]"
   ]
  },
  {
   "cell_type": "code",
   "execution_count": 35,
   "id": "4bb7316c-90d6-4bee-b268-609d16070780",
   "metadata": {},
   "outputs": [
    {
     "data": {
      "text/plain": [
       "2"
      ]
     },
     "execution_count": 35,
     "metadata": {},
     "output_type": "execute_result"
    }
   ],
   "source": [
    "test3()[1]"
   ]
  },
  {
   "cell_type": "code",
   "execution_count": 36,
   "id": "d8cdec88-ab4e-416d-88ed-db0720c47c06",
   "metadata": {},
   "outputs": [
    {
     "data": {
      "text/plain": [
       "'pwskills'"
      ]
     },
     "execution_count": 36,
     "metadata": {},
     "output_type": "execute_result"
    }
   ],
   "source": [
    "test3()[2]"
   ]
  },
  {
   "cell_type": "code",
   "execution_count": 37,
   "id": "db01bf72-8b17-497d-bd03-083f26f8b858",
   "metadata": {},
   "outputs": [],
   "source": [
    "a,b,c,d = test3()"
   ]
  },
  {
   "cell_type": "code",
   "execution_count": 38,
   "id": "088c06c9-0dc4-4786-8169-be3f137fb976",
   "metadata": {},
   "outputs": [
    {
     "data": {
      "text/plain": [
       "1"
      ]
     },
     "execution_count": 38,
     "metadata": {},
     "output_type": "execute_result"
    }
   ],
   "source": [
    "a"
   ]
  },
  {
   "cell_type": "code",
   "execution_count": 39,
   "id": "822badf5-e6e2-4092-ae8f-4d936e4ae45a",
   "metadata": {},
   "outputs": [
    {
     "data": {
      "text/plain": [
       "2"
      ]
     },
     "execution_count": 39,
     "metadata": {},
     "output_type": "execute_result"
    }
   ],
   "source": [
    "b"
   ]
  },
  {
   "cell_type": "code",
   "execution_count": 40,
   "id": "dffb747e-910e-4104-831b-46a1e61f3cb0",
   "metadata": {},
   "outputs": [
    {
     "data": {
      "text/plain": [
       "'pwskills'"
      ]
     },
     "execution_count": 40,
     "metadata": {},
     "output_type": "execute_result"
    }
   ],
   "source": [
    "c"
   ]
  },
  {
   "cell_type": "code",
   "execution_count": 41,
   "id": "11da74bd-cf1c-47e5-bca0-480d95997753",
   "metadata": {},
   "outputs": [
    {
     "data": {
      "text/plain": [
       "34.56"
      ]
     },
     "execution_count": 41,
     "metadata": {},
     "output_type": "execute_result"
    }
   ],
   "source": [
    "d"
   ]
  },
  {
   "cell_type": "code",
   "execution_count": 43,
   "id": "d4ef5ff2-f383-4434-a387-7ff1a71e07b5",
   "metadata": {},
   "outputs": [],
   "source": [
    "def test4():\n",
    "    a = 3*4 + 5\n",
    "    return a"
   ]
  },
  {
   "cell_type": "code",
   "execution_count": 44,
   "id": "53a9ad34-d2d0-477e-8498-37ad2392feef",
   "metadata": {},
   "outputs": [
    {
     "data": {
      "text/plain": [
       "17"
      ]
     },
     "execution_count": 44,
     "metadata": {},
     "output_type": "execute_result"
    }
   ],
   "source": [
    "test4()"
   ]
  },
  {
   "cell_type": "code",
   "execution_count": 45,
   "id": "73940007-8a39-452a-946e-14ec24eaf369",
   "metadata": {},
   "outputs": [
    {
     "data": {
      "text/plain": [
       "int"
      ]
     },
     "execution_count": 45,
     "metadata": {},
     "output_type": "execute_result"
    }
   ],
   "source": [
    "type(test4())"
   ]
  },
  {
   "cell_type": "code",
   "execution_count": 46,
   "id": "fbec4d91-43f0-4ffe-9009-e08f0521105a",
   "metadata": {},
   "outputs": [],
   "source": [
    "def test5(a,b):\n",
    "    c = a +b\n",
    "    return c "
   ]
  },
  {
   "cell_type": "code",
   "execution_count": 47,
   "id": "ffed6208-2bd7-4b0a-92e8-164dfc5d85d0",
   "metadata": {},
   "outputs": [
    {
     "data": {
      "text/plain": [
       "3"
      ]
     },
     "execution_count": 47,
     "metadata": {},
     "output_type": "execute_result"
    }
   ],
   "source": [
    "test5(1,2)"
   ]
  },
  {
   "cell_type": "code",
   "execution_count": 48,
   "id": "3fd319e4-82cc-41aa-87bb-ada4c6e89bfb",
   "metadata": {},
   "outputs": [
    {
     "data": {
      "text/plain": [
       "'sudhkumar'"
      ]
     },
     "execution_count": 48,
     "metadata": {},
     "output_type": "execute_result"
    }
   ],
   "source": [
    "test5(\"sudh\" , \"kumar\" )"
   ]
  },
  {
   "cell_type": "code",
   "execution_count": 49,
   "id": "ffc430a6-0043-4e27-96c9-b65ff54622b5",
   "metadata": {},
   "outputs": [
    {
     "data": {
      "text/plain": [
       "[1, 2, 3, 4, 4, 5, 6, 7, 8]"
      ]
     },
     "execution_count": 49,
     "metadata": {},
     "output_type": "execute_result"
    }
   ],
   "source": [
    "test5([1,2,3,4] , [4,5,6,7,8])"
   ]
  },
  {
   "cell_type": "code",
   "execution_count": 50,
   "id": "db3cb993-ad75-48ba-a100-b8a0e6596e28",
   "metadata": {},
   "outputs": [],
   "source": [
    "l = [1,2,3,4,5,\"sudh\" , \"pwskills\" , [1,2,3,34,45]]"
   ]
  },
  {
   "cell_type": "code",
   "execution_count": 51,
   "id": "c13c49d8-1e46-4529-93b3-ea6fa698d08c",
   "metadata": {},
   "outputs": [],
   "source": [
    "#create a function which will take list as a input and give me a final list with all the numeric value"
   ]
  },
  {
   "cell_type": "code",
   "execution_count": 56,
   "id": "7d1220e9-1dec-40b4-b0a2-9b63a066a675",
   "metadata": {},
   "outputs": [],
   "source": [
    "def test6(a):\n",
    "    n = []\n",
    "    for i in a:\n",
    "        if type(i) == int or  type(i)== float:\n",
    "            n.append(i)\n",
    "    return n"
   ]
  },
  {
   "cell_type": "code",
   "execution_count": 59,
   "id": "3f652df2-d6cc-4582-b1cb-1038052d17d2",
   "metadata": {},
   "outputs": [
    {
     "data": {
      "text/plain": [
       "[1, 2, 3, 4, 5]"
      ]
     },
     "execution_count": 59,
     "metadata": {},
     "output_type": "execute_result"
    }
   ],
   "source": [
    "test6(l)"
   ]
  },
  {
   "cell_type": "code",
   "execution_count": 60,
   "id": "d7b02023-cd3f-4f80-af6a-c53807a3c6ab",
   "metadata": {},
   "outputs": [
    {
     "data": {
      "text/plain": [
       "[1, 2, 3, 4, 5, 'sudh', 'pwskills', [1, 2, 3, 34, 45]]"
      ]
     },
     "execution_count": 60,
     "metadata": {},
     "output_type": "execute_result"
    }
   ],
   "source": [
    "l"
   ]
  },
  {
   "cell_type": "code",
   "execution_count": 61,
   "id": "8cae5784-8392-4fd4-baf7-baca46c35e62",
   "metadata": {},
   "outputs": [],
   "source": [
    "def test7(a) : \n",
    "    n = []\n",
    "    for i in a :\n",
    "        if type(i) == list :\n",
    "            for j in i :\n",
    "                if type(j) == int or type(j) == float :\n",
    "                    n.append(j)\n",
    "        else :\n",
    "            if type(i) == int or type(i) == float :\n",
    "                n.append(i)\n",
    "    return n\n",
    "            \n",
    "            "
   ]
  },
  {
   "cell_type": "code",
   "execution_count": 62,
   "id": "5e8a66fe-6a14-4ef2-9f69-805e10c2d6d1",
   "metadata": {},
   "outputs": [
    {
     "data": {
      "text/plain": [
       "[1, 2, 3, 4, 5, 1, 2, 3, 34, 45]"
      ]
     },
     "execution_count": 62,
     "metadata": {},
     "output_type": "execute_result"
    }
   ],
   "source": [
    "test7(l)"
   ]
  },
  {
   "cell_type": "code",
   "execution_count": 63,
   "id": "b1bcb59d-9a94-4494-9acd-cb2b3ddaba92",
   "metadata": {},
   "outputs": [
    {
     "data": {
      "text/plain": [
       "[1, 2, 3, 4, 5, 'sudh', 'pwskills', [1, 2, 3, 34, 45]]"
      ]
     },
     "execution_count": 63,
     "metadata": {},
     "output_type": "execute_result"
    }
   ],
   "source": [
    "l"
   ]
  },
  {
   "cell_type": "markdown",
   "id": "daeccba6-2eef-4dff-b8c3-21b96fd032c9",
   "metadata": {},
   "source": [
    "# function part2 "
   ]
  },
  {
   "cell_type": "code",
   "execution_count": 65,
   "id": "8dc64119-5a2c-4ba4-81cc-99b9d0353986",
   "metadata": {},
   "outputs": [],
   "source": [
    "def test(a,b,c,d,e):\n",
    "    pass"
   ]
  },
  {
   "cell_type": "code",
   "execution_count": 68,
   "id": "2d23669c-1136-4795-b983-d2706df71ba8",
   "metadata": {},
   "outputs": [
    {
     "ename": "NameError",
     "evalue": "name 'e' is not defined",
     "output_type": "error",
     "traceback": [
      "\u001b[0;31m---------------------------------------------------------------------------\u001b[0m",
      "\u001b[0;31mNameError\u001b[0m                                 Traceback (most recent call last)",
      "Cell \u001b[0;32mIn[68], line 1\u001b[0m\n\u001b[0;32m----> 1\u001b[0m test(a,b,c,d,\u001b[43me\u001b[49m)\n",
      "\u001b[0;31mNameError\u001b[0m: name 'e' is not defined"
     ]
    }
   ],
   "source": [
    "test(a,b,c,d,e)"
   ]
  },
  {
   "cell_type": "code",
   "execution_count": 2,
   "id": "ad86b626-9407-4631-962b-54afa8e58525",
   "metadata": {},
   "outputs": [],
   "source": [
    "def test1(*args):\n",
    "    return args"
   ]
  },
  {
   "cell_type": "code",
   "execution_count": 3,
   "id": "d8f0813d-6567-48a5-9a85-f32025eaface",
   "metadata": {},
   "outputs": [
    {
     "data": {
      "text/plain": [
       "(1, 2, 3, 4, 5)"
      ]
     },
     "execution_count": 3,
     "metadata": {},
     "output_type": "execute_result"
    }
   ],
   "source": [
    "test1(1,2,3,4,5)"
   ]
  },
  {
   "cell_type": "code",
   "execution_count": 4,
   "id": "2b27e3e9-c916-4439-9465-038b436e40b7",
   "metadata": {},
   "outputs": [
    {
     "data": {
      "text/plain": [
       "(1, 2, 3, 4, 5, 5)"
      ]
     },
     "execution_count": 4,
     "metadata": {},
     "output_type": "execute_result"
    }
   ],
   "source": [
    "test1(1,2,3,4,5,5)"
   ]
  },
  {
   "cell_type": "code",
   "execution_count": 5,
   "id": "5d51de7f-fe2e-4aaa-a97e-1c7e216a8333",
   "metadata": {},
   "outputs": [
    {
     "data": {
      "text/plain": [
       "('sudh', [1, 2, 3, 4, 5], (1, 2, 3, 4, 5))"
      ]
     },
     "execution_count": 5,
     "metadata": {},
     "output_type": "execute_result"
    }
   ],
   "source": [
    "test1(\"sudh\" , [1,2,3,4,5] , (1,2,3,4,5))"
   ]
  },
  {
   "cell_type": "code",
   "execution_count": 6,
   "id": "c50781ce-7864-40c3-871e-9390330f8c9b",
   "metadata": {},
   "outputs": [],
   "source": [
    "def test2(*sudh):\n",
    "    return sudh"
   ]
  },
  {
   "cell_type": "code",
   "execution_count": 8,
   "id": "e03294c1-7cd1-426c-b78f-57a5a87f2e62",
   "metadata": {},
   "outputs": [
    {
     "data": {
      "text/plain": [
       "(3, 4, 5, 6)"
      ]
     },
     "execution_count": 8,
     "metadata": {},
     "output_type": "execute_result"
    }
   ],
   "source": [
    "test2(3,4,5,6)"
   ]
  },
  {
   "cell_type": "code",
   "execution_count": 9,
   "id": "235e8df2-ba2e-418b-b98c-fcf3997d3c3c",
   "metadata": {},
   "outputs": [],
   "source": [
    "def test3(*args , a ):\n",
    "    return args ,a"
   ]
  },
  {
   "cell_type": "code",
   "execution_count": 10,
   "id": "6268b5ba-b799-45f2-9d64-338a710d0a36",
   "metadata": {},
   "outputs": [
    {
     "ename": "TypeError",
     "evalue": "test3() missing 1 required keyword-only argument: 'a'",
     "output_type": "error",
     "traceback": [
      "\u001b[0;31m---------------------------------------------------------------------------\u001b[0m",
      "\u001b[0;31mTypeError\u001b[0m                                 Traceback (most recent call last)",
      "Cell \u001b[0;32mIn[10], line 1\u001b[0m\n\u001b[0;32m----> 1\u001b[0m \u001b[43mtest3\u001b[49m\u001b[43m(\u001b[49m\u001b[38;5;241;43m3\u001b[39;49m\u001b[43m)\u001b[49m\n",
      "\u001b[0;31mTypeError\u001b[0m: test3() missing 1 required keyword-only argument: 'a'"
     ]
    }
   ],
   "source": [
    "test3(3)"
   ]
  },
  {
   "cell_type": "code",
   "execution_count": 11,
   "id": "f06487cd-a1dc-4ac0-aaf4-3949a9c5bce1",
   "metadata": {},
   "outputs": [
    {
     "data": {
      "text/plain": [
       "((1, 2, 3, 4), 'sudh')"
      ]
     },
     "execution_count": 11,
     "metadata": {},
     "output_type": "execute_result"
    }
   ],
   "source": [
    "test3(1,2,3,4 ,a = \"sudh\" )"
   ]
  },
  {
   "cell_type": "code",
   "execution_count": 12,
   "id": "86825178-7755-445e-86d9-ca638300d81a",
   "metadata": {},
   "outputs": [],
   "source": [
    "def test4(*args):\n",
    "    l = []\n",
    "    for i in args:\n",
    "        if type(i) == list :\n",
    "            l.append(i)\n",
    "            \n",
    "    return l"
   ]
  },
  {
   "cell_type": "code",
   "execution_count": 13,
   "id": "8d9a91d2-1277-43b3-9f88-639ec7cd1f43",
   "metadata": {},
   "outputs": [
    {
     "data": {
      "text/plain": [
       "[[1, 2, 3, 4, 4], [4, 5, 6], [6, 7, 8]]"
      ]
     },
     "execution_count": 13,
     "metadata": {},
     "output_type": "execute_result"
    }
   ],
   "source": [
    "test4(1,2,3,[1,2,3,4,4] , (1,2,3,4,4) , \"sudh\" , [4,5,6] , [6,7,8])"
   ]
  },
  {
   "cell_type": "code",
   "execution_count": 14,
   "id": "1d1f9fb4-42ad-4caf-ba92-64bfb71ef939",
   "metadata": {},
   "outputs": [],
   "source": [
    "def test5(**kwargs):\n",
    "    return kwargs"
   ]
  },
  {
   "cell_type": "code",
   "execution_count": 15,
   "id": "103d2677-d2f5-48c1-a733-d917353c3eea",
   "metadata": {},
   "outputs": [
    {
     "data": {
      "text/plain": [
       "{}"
      ]
     },
     "execution_count": 15,
     "metadata": {},
     "output_type": "execute_result"
    }
   ],
   "source": [
    "test5()"
   ]
  },
  {
   "cell_type": "code",
   "execution_count": 17,
   "id": "49045f07-dabb-442d-bf13-e27b5aed8dad",
   "metadata": {},
   "outputs": [
    {
     "data": {
      "text/plain": [
       "dict"
      ]
     },
     "execution_count": 17,
     "metadata": {},
     "output_type": "execute_result"
    }
   ],
   "source": [
    "type(test5())"
   ]
  },
  {
   "cell_type": "code",
   "execution_count": 18,
   "id": "8a91189a-7e40-4396-89a8-5d9dc1e96b5b",
   "metadata": {},
   "outputs": [
    {
     "data": {
      "text/plain": [
       "{'a': 34, 'b': 23, 'c': [1, 2, 3, 4], 'd': ('sudh', 'pwskills')}"
      ]
     },
     "execution_count": 18,
     "metadata": {},
     "output_type": "execute_result"
    }
   ],
   "source": [
    "test5(a = 34 , b = 23 , c = [1,2,3,4] , d = (\"sudh\" , \"pwskills\"))"
   ]
  },
  {
   "cell_type": "code",
   "execution_count": 19,
   "id": "e5eaa783-2836-45d6-ad1e-8bba1365c09c",
   "metadata": {},
   "outputs": [],
   "source": [
    "def test6(**kwargs):\n",
    "    for i in kwargs.keys():\n",
    "        if type(kwargs[i] ) == list :\n",
    "            return i , kwargs[i]"
   ]
  },
  {
   "cell_type": "code",
   "execution_count": 20,
   "id": "cef12e81-912d-48be-85cb-6b7da4257662",
   "metadata": {},
   "outputs": [
    {
     "data": {
      "text/plain": [
       "('c', [1, 2, 3, 4])"
      ]
     },
     "execution_count": 20,
     "metadata": {},
     "output_type": "execute_result"
    }
   ],
   "source": [
    "test6(a = 34 , b = 23 , c = [1,2,3,4] , d = (\"sudh\" , \"pwskills\"))"
   ]
  },
  {
   "cell_type": "code",
   "execution_count": 1,
   "id": "590bf2a2-8007-434d-8a68-798de83c850c",
   "metadata": {},
   "outputs": [],
   "source": [
    "def test7(*args , **kwargs) : \n",
    "    return args , kwargs\n",
    "    "
   ]
  },
  {
   "cell_type": "code",
   "execution_count": 2,
   "id": "fb5c5526-a2ba-4165-bc3e-93b2f3d78299",
   "metadata": {},
   "outputs": [
    {
     "data": {
      "text/plain": [
       "((2, 3, 4, 5), {'a': 34, 'b': 98})"
      ]
     },
     "execution_count": 2,
     "metadata": {},
     "output_type": "execute_result"
    }
   ],
   "source": [
    "test7(2,3,4,5,a= 34, b = 98)"
   ]
  },
  {
   "cell_type": "markdown",
   "id": "38cf8bff-14de-4ba5-883c-a6d0ef6e521a",
   "metadata": {},
   "source": [
    "# Generator Function\n"
   ]
  },
  {
   "cell_type": "code",
   "execution_count": 3,
   "id": "f1d03f6c-fc5a-40b0-9ae2-759f51eab990",
   "metadata": {},
   "outputs": [
    {
     "data": {
      "text/plain": [
       "range(1, 10)"
      ]
     },
     "execution_count": 3,
     "metadata": {},
     "output_type": "execute_result"
    }
   ],
   "source": [
    "range(1,10)"
   ]
  },
  {
   "cell_type": "code",
   "execution_count": 4,
   "id": "d371c5dc-63a2-4bf6-96a9-2f8d3a613d6b",
   "metadata": {},
   "outputs": [
    {
     "name": "stdout",
     "output_type": "stream",
     "text": [
      "1\n",
      "2\n",
      "3\n",
      "4\n",
      "5\n",
      "6\n",
      "7\n",
      "8\n",
      "9\n"
     ]
    }
   ],
   "source": [
    "for i in range(1,10):\n",
    "    print(i)"
   ]
  },
  {
   "cell_type": "code",
   "execution_count": 5,
   "id": "91b99b89-1f98-4399-9188-f67e0f5d873d",
   "metadata": {},
   "outputs": [],
   "source": [
    "l = [1,2,3,4,4,5,6,7,8,7,\"sudh\"  , \"pwskills\"]"
   ]
  },
  {
   "cell_type": "code",
   "execution_count": 6,
   "id": "66d2aeaf-dd09-4f23-9bc6-a9f054c5afaf",
   "metadata": {},
   "outputs": [],
   "source": [
    "def test1(a) : \n",
    "    n = []\n",
    "    for i in a : \n",
    "        if type(i) == int :\n",
    "            n.append(i)\n",
    "    return n"
   ]
  },
  {
   "cell_type": "code",
   "execution_count": 7,
   "id": "7f0a95b0-918d-4327-b958-e5d53cd4bf77",
   "metadata": {},
   "outputs": [
    {
     "data": {
      "text/plain": [
       "[1, 2, 3, 4, 4, 5, 6, 7, 8, 7]"
      ]
     },
     "execution_count": 7,
     "metadata": {},
     "output_type": "execute_result"
    }
   ],
   "source": [
    "test1(l)"
   ]
  },
  {
   "cell_type": "code",
   "execution_count": null,
   "id": "77739c30-b297-41c4-b3e4-0b0ff2263db0",
   "metadata": {},
   "outputs": [],
   "source": [
    "Fibonacci :\n",
    "    \n",
    "    0 ,1 ,1,2,3,5,8,13,21,34"
   ]
  },
  {
   "cell_type": "code",
   "execution_count": 9,
   "id": "03f20aea-df28-4472-8ff9-b8b2758d6ffc",
   "metadata": {},
   "outputs": [],
   "source": [
    "def test_fib(n) :\n",
    "    a,b = 0,1\n",
    "    for i in range(n):\n",
    "        yield a \n",
    "        a,b = b ,a+b "
   ]
  },
  {
   "cell_type": "code",
   "execution_count": 10,
   "id": "539e1ee3-9aec-4a84-8083-99aaa7c8543d",
   "metadata": {},
   "outputs": [
    {
     "data": {
      "text/plain": [
       "<generator object test_fib at 0x7f18503d1c40>"
      ]
     },
     "execution_count": 10,
     "metadata": {},
     "output_type": "execute_result"
    }
   ],
   "source": [
    "test_fib(10)"
   ]
  },
  {
   "cell_type": "code",
   "execution_count": 11,
   "id": "e6bc22a2-c707-4371-b867-0e692996a6cd",
   "metadata": {},
   "outputs": [
    {
     "name": "stdout",
     "output_type": "stream",
     "text": [
      "0\n",
      "1\n",
      "1\n",
      "2\n",
      "3\n",
      "5\n",
      "8\n",
      "13\n",
      "21\n",
      "34\n"
     ]
    }
   ],
   "source": [
    "for i in test_fib(10) : \n",
    "    print(i)"
   ]
  },
  {
   "cell_type": "markdown",
   "id": "d3fc2845-ed74-4ce6-bfb4-82a750928371",
   "metadata": {},
   "source": [
    "## QUIZ CODE"
   ]
  },
  {
   "cell_type": "code",
   "execution_count": null,
   "id": "f0623d2f-a49b-4097-93f3-ccb85b5dc658",
   "metadata": {},
   "outputs": [],
   "source": []
  }
 ],
 "metadata": {
  "kernelspec": {
   "display_name": "Python 3 (ipykernel)",
   "language": "python",
   "name": "python3"
  },
  "language_info": {
   "codemirror_mode": {
    "name": "ipython",
    "version": 3
   },
   "file_extension": ".py",
   "mimetype": "text/x-python",
   "name": "python",
   "nbconvert_exporter": "python",
   "pygments_lexer": "ipython3",
   "version": "3.10.8"
  }
 },
 "nbformat": 4,
 "nbformat_minor": 5
}
