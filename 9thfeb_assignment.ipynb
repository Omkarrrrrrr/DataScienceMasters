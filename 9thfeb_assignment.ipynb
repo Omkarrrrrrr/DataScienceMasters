{
 "cells": [
  {
   "cell_type": "markdown",
   "id": "23d191eb-99a4-49c9-af08-576e11ddc3be",
   "metadata": {},
   "source": [
    "# OOPs"
   ]
  },
  {
   "cell_type": "markdown",
   "id": "5e969cb0-73d1-4d92-a405-a5921c3f2ed4",
   "metadata": {},
   "source": [
    "# Q1) Create a vehicle class with an init method having instance variables as name_of_vehicle, max_speed and average_of_vehicle."
   ]
  },
  {
   "cell_type": "code",
   "execution_count": 1,
   "id": "2556dcff-5d76-4ca0-bb4f-ee74b9793370",
   "metadata": {},
   "outputs": [],
   "source": [
    "class Vehicle:\n",
    "    def __init__(self, name_of_vehicle,max_speed,average_of_vehicle):\n",
    "        self.name_of_vehicle = name_of_vehicle\n",
    "        self.max_speed = max_speed\n",
    "        self.average_of_vehicle = average_of_vehicle "
   ]
  },
  {
   "cell_type": "markdown",
   "id": "d6e35228-8c51-421f-979a-ae0602ab20d7",
   "metadata": {},
   "source": [
    "# Q2. Create a child class car from the vehicle class created in Que 1, which will inherit the vehicle class. Create a method named seating_capacity which takes capacity as an argument and returns the name of the vehicle and its seating capacity."
   ]
  },
  {
   "cell_type": "code",
   "execution_count": 2,
   "id": "5cbfc26d-73bc-4bbc-8043-5a0e12d62729",
   "metadata": {},
   "outputs": [],
   "source": [
    "class Car(Vehicle):\n",
    "    def __init__(self,name_of_vehicle,max_speed,average_of_vehicle,capacity):\n",
    "        super().__init__(name_of_vehicle,max_speed,average_of_vehicle)  # Calling the base class constructor\n",
    "        self.capacity = capacity\n",
    "\n",
    "    def seating_capacity(self):\n",
    "        print(f\"Name of the Car: {self.name_of_vehicle}\")\n",
    "        print(f\"Seating Capacity: {self.capacity}\")  "
   ]
  },
  {
   "cell_type": "markdown",
   "id": "79a9d8ae-b383-4bef-9b40-17f6333a21d8",
   "metadata": {},
   "source": [
    "# Q3. What is multiple inheritance? Write a python code to demonstrate multiple inheritance."
   ]
  },
  {
   "cell_type": "raw",
   "id": "4c05b3b7-4a42-40b8-96cf-2c0e4ded8158",
   "metadata": {},
   "source": [
    "Multiple Inheritance is the process where the derived class inherits properties from multiple classes."
   ]
  },
  {
   "cell_type": "code",
   "execution_count": 3,
   "id": "f440dbef-fddb-4108-aee3-a980f7899c67",
   "metadata": {},
   "outputs": [],
   "source": [
    "# 1st Base Class \n",
    "class Camera:\n",
    "    def photo(self):\n",
    "        print('Photo Captured')\n",
    "\n",
    "# 2nd Base Class         \n",
    "class Phone: \n",
    "    def __init__(self,brand):\n",
    "        self.brand = brand\n",
    "    def brand_name(self):        \n",
    "        print(f\"Brand: {self.brand}\")\n",
    "\n",
    "# Derived class\n",
    "class SmartPhone(Camera,Phone):\n",
    "    def gps(self):\n",
    "        print('GPS enabled')"
   ]
  },
  {
   "cell_type": "code",
   "execution_count": 4,
   "id": "56aac6d1-1b8f-4cf7-9b71-341bb2f0c7f2",
   "metadata": {},
   "outputs": [
    {
     "name": "stdout",
     "output_type": "stream",
     "text": [
      "Photo Captured\n",
      "Brand: OnePlus\n",
      "GPS enabled\n"
     ]
    }
   ],
   "source": [
    "newMobile = SmartPhone('OnePlus') # Creating derived class object\n",
    "newMobile.photo() # 1st base class method\n",
    "newMobile.brand_name() # 2nd base class method\n",
    "newMobile.gps() # derived class method"
   ]
  },
  {
   "cell_type": "markdown",
   "id": "38e5b1de-7b7c-4eaa-94f4-d2db95c5f063",
   "metadata": {},
   "source": [
    "# Q4. What are getter and setter in python? Create a class and create a getter and a setter method in this class."
   ]
  },
  {
   "cell_type": "raw",
   "id": "47a3a5eb-8eb7-4f09-95e2-6f59d0fb32f7",
   "metadata": {},
   "source": [
    "Getters are the methods which are used for accessing the the data of the class variables.This method do not modify the class variables.\n",
    "\n",
    "While, Setters are the methods which are used for modifying the data of the class variables."
   ]
  },
  {
   "cell_type": "code",
   "execution_count": 5,
   "id": "fa11f093-b7bb-4e06-b503-8087334c6b12",
   "metadata": {},
   "outputs": [],
   "source": [
    "class company:\n",
    "    def __init__(self,name):\n",
    "        self.__name = name\n",
    "\n",
    "    # getter    \n",
    "    def get_name(self):\n",
    "        return self.__name\n",
    "\n",
    "    # setter    \n",
    "    def set_name(self,new_name):\n",
    "        self.__name = new_name   "
   ]
  },
  {
   "cell_type": "code",
   "execution_count": 6,
   "id": "7a4ebb98-43a2-4659-b0de-8b8a621f0c55",
   "metadata": {},
   "outputs": [],
   "source": [
    "c1 = company(\"PW Skills\") # Initial company name"
   ]
  },
  {
   "cell_type": "code",
   "execution_count": 7,
   "id": "2f57e585-6d22-4d26-bf8c-bfc5a50b5822",
   "metadata": {},
   "outputs": [
    {
     "data": {
      "text/plain": [
       "'PW Skills'"
      ]
     },
     "execution_count": 7,
     "metadata": {},
     "output_type": "execute_result"
    }
   ],
   "source": [
    "c1.get_name() # getting the name of the company"
   ]
  },
  {
   "cell_type": "code",
   "execution_count": 8,
   "id": "e7d39f16-f126-4f31-885f-b7f9c36c5b1a",
   "metadata": {},
   "outputs": [],
   "source": [
    "c1.set_name('iNeuron') # setting the new name of the company"
   ]
  },
  {
   "cell_type": "code",
   "execution_count": 9,
   "id": "c5af1689-2f05-449d-9ca7-a52c2428252d",
   "metadata": {},
   "outputs": [
    {
     "data": {
      "text/plain": [
       "'iNeuron'"
      ]
     },
     "execution_count": 9,
     "metadata": {},
     "output_type": "execute_result"
    }
   ],
   "source": [
    "c1.get_name() # getting the new name of the company"
   ]
  },
  {
   "cell_type": "code",
   "execution_count": 10,
   "id": "0c90d553-b4fd-48be-8903-3696d0589d41",
   "metadata": {},
   "outputs": [
    {
     "data": {
      "text/plain": [
       "'iNeuron'"
      ]
     },
     "execution_count": 10,
     "metadata": {},
     "output_type": "execute_result"
    }
   ],
   "source": [
    "c1._company__name # Accessing the private member of the class"
   ]
  },
  {
   "cell_type": "markdown",
   "id": "d2b537b9-eda8-472e-8473-46b5188a324d",
   "metadata": {},
   "source": [
    "# Q5.What is method overriding in python? Write a python code to demonstrate method overriding."
   ]
  },
  {
   "cell_type": "code",
   "execution_count": 11,
   "id": "9c0e647f-f5ac-4d79-b6a7-d386ef2d949f",
   "metadata": {},
   "outputs": [],
   "source": [
    "class Father:    # Base class    \n",
    "    def job(self): \n",
    "        print(\"My father is doctor.\")"
   ]
  },
  {
   "cell_type": "code",
   "execution_count": 12,
   "id": "a429d0c5-e7d3-44f3-a833-a12030eb9241",
   "metadata": {},
   "outputs": [],
   "source": [
    "class Son(Father):   # Derived class\n",
    "    def job(self):  # Overrided method as name, arguments and number of arguments are same        \n",
    "        print(\"I am a student.\")"
   ]
  },
  {
   "cell_type": "code",
   "execution_count": 13,
   "id": "5927c252-4c70-4003-b18c-8e6a7096cc08",
   "metadata": {},
   "outputs": [],
   "source": [
    "me = Son() # creating a Son object"
   ]
  },
  {
   "cell_type": "code",
   "execution_count": 14,
   "id": "6aac8161-ef23-483f-9ca2-c19930e9eed3",
   "metadata": {},
   "outputs": [
    {
     "name": "stdout",
     "output_type": "stream",
     "text": [
      "I am a student.\n"
     ]
    }
   ],
   "source": [
    "me.job()"
   ]
  },
  {
   "cell_type": "code",
   "execution_count": null,
   "id": "d48eed23-918c-4787-b118-c618d684bac8",
   "metadata": {},
   "outputs": [],
   "source": []
  }
 ],
 "metadata": {
  "kernelspec": {
   "display_name": "Python 3 (ipykernel)",
   "language": "python",
   "name": "python3"
  },
  "language_info": {
   "codemirror_mode": {
    "name": "ipython",
    "version": 3
   },
   "file_extension": ".py",
   "mimetype": "text/x-python",
   "name": "python",
   "nbconvert_exporter": "python",
   "pygments_lexer": "ipython3",
   "version": "3.10.8"
  }
 },
 "nbformat": 4,
 "nbformat_minor": 5
}
