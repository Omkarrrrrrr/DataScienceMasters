{
 "cells": [
  {
   "cell_type": "markdown",
   "id": "421360ec-4b1e-4891-80d2-69931c7d9c87",
   "metadata": {},
   "source": [
    "\n",
    "## The primary purpose of a Web API (Application Programming Interface) is:\n",
    "\n",
    "\"To access and retrieve data from a remote server.\""
   ]
  },
  {
   "cell_type": "markdown",
   "id": "0041f19f-1b5e-4341-961f-2b265a782717",
   "metadata": {},
   "source": [
    "## An API endpoint is:\n",
    "\n",
    "\"A unique address that specifies the location of a server's API.\"\n",
    "\n",
    "API endpoints are specific URLs or URIs (Uniform Resource Identifiers) that define where a particular API can be accessed and what kind of functionality or data it provides. Each endpoint typically corresponds to a specific resource or action that the API can perform. Developers use these endpoints to make HTTP requests (such as GET, POST, PUT, or DELETE) to interact with the API and retrieve or manipulate data from the server."
   ]
  },
  {
   "cell_type": "markdown",
   "id": "baa829cb-ee0a-404a-b3c1-38c34a6ec42b",
   "metadata": {},
   "source": [
    "## \"A type of API that uses Representational State Transfer (REST) principles.\"\n",
    "\n",
    "REST, which stands for Representational State Transfer, is an architectural style for designing networked applications. RESTful APIs adhere to these principles and use HTTP requests (such as GET, POST, PUT, and DELETE) to perform CRUD (Create, Read, Update, Delete) operations on resources, which are represented as URLs or URIs. RESTful APIs are designed to be simple, stateless, and use standard HTTP methods, making them widely used for building web services and APIs."
   ]
  },
  {
   "cell_type": "markdown",
   "id": "3d02c4c2-09c4-464c-8174-231c09083823",
   "metadata": {},
   "source": [
    "## An API (Application Programming Interface) is:\n",
    "\n",
    "\"An Application Programming Interface that allows software applications to interact with each other.\""
   ]
  },
  {
   "cell_type": "markdown",
   "id": "302a72fb-6425-47b5-a820-1e2b60da01e8",
   "metadata": {},
   "source": [
    "## What are some common uses of Web APIs?\n",
    "\n",
    "\n",
    "Accessing databases and servers.\n",
    "\n",
    "\n",
    "Integrating third-party services and data into applications."
   ]
  },
  {
   "cell_type": "markdown",
   "id": "66026ad9-a6fe-4167-a752-110ae71434ab",
   "metadata": {},
   "source": [
    "\n",
    "## SOAP stands for Simple Object Access Protocol. It is:\n",
    "\n",
    "\"A protocol for sending and receiving messages between applications.\""
   ]
  },
  {
   "cell_type": "markdown",
   "id": "58f7dad7-c794-4aac-9ca7-f110f3510b79",
   "metadata": {},
   "source": [
    "## What are some benefits of using REST architecture?\n",
    "\n",
    "\n",
    " It is lightweight and easy to use.\n",
    "\n",
    "\n",
    "It provides a standardized way for applications to communicate with each other."
   ]
  },
  {
   "cell_type": "markdown",
   "id": "25c24f55-b841-4402-a31c-1407caec7f61",
   "metadata": {},
   "source": [
    "## While SOAP does provide a standardized way for applications to communicate with each other, it does so using a more rigid and complex messaging format compared to REST, which is known for its simplicity and flexibility.\n"
   ]
  },
  {
   "cell_type": "code",
   "execution_count": null,
   "id": "433ee3d3-5523-4b04-9774-e6b56f7aaced",
   "metadata": {},
   "outputs": [],
   "source": []
  }
 ],
 "metadata": {
  "kernelspec": {
   "display_name": "Python 3 (ipykernel)",
   "language": "python",
   "name": "python3"
  },
  "language_info": {
   "codemirror_mode": {
    "name": "ipython",
    "version": 3
   },
   "file_extension": ".py",
   "mimetype": "text/x-python",
   "name": "python",
   "nbconvert_exporter": "python",
   "pygments_lexer": "ipython3",
   "version": "3.10.8"
  }
 },
 "nbformat": 4,
 "nbformat_minor": 5
}
