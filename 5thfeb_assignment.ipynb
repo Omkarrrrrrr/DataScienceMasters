{
  "nbformat": 4,
  "nbformat_minor": 0,
  "metadata": {
    "colab": {
      "provenance": []
    },
    "kernelspec": {
      "name": "python3",
      "display_name": "Python 3"
    },
    "language_info": {
      "name": "python"
    }
  },
  "cells": [
    {
      "cell_type": "markdown",
      "source": [
        "# **OOPs assignment**"
      ],
      "metadata": {
        "id": "9YnVUq9QCNf5"
      }
    },
    {
      "cell_type": "markdown",
      "source": [
        "Q1. Explain Class and Object with respect to Object-Oriented Programming. Give a suitable example."
      ],
      "metadata": {
        "id": "MpkA4jCsCZ_2"
      }
    },
    {
      "cell_type": "markdown",
      "source": [
        "OOP, basically comes in picture after the concept of Classes & Objects as 'Object' is in 'Object Oriented Programming'\n",
        "\n",
        "Class is a blueprint for creating objects.\n",
        "\n",
        "In class, variables, methods and their properties are defined.\n",
        "\n",
        "Objects which are instance of the class, we can use them to access the properties of the class.\n",
        "\n",
        "In python, some inbuilt classes are int,float,list,tuple etc..."
      ],
      "metadata": {
        "id": "LuOq0vAHDQy8"
      }
    },
    {
      "cell_type": "code",
      "source": [
        "a = int # this is syntax of creating class object, here 'int' is a class and 'a' is instance or object of this 'int' class."
      ],
      "metadata": {
        "id": "NVvtjPi4DRs3"
      },
      "execution_count": 3,
      "outputs": []
    },
    {
      "cell_type": "code",
      "source": [
        "# Let's crete our custom class\n",
        "class animal: # creating class animal\n",
        "  def __init__(self,name): # defining constructor\n",
        "    self.name = name # defining class instance\n",
        "    print(f'Speces: {self.name}')\n",
        "a = animal('Cat')  # Creating class 'animal' instance\n",
        "# 'a' is an instance variable or object of class 'animal'\n",
        "# Similary, we can create as many instances of class 'animal'  we want.\n",
        "b = animal('Dog')"
      ],
      "metadata": {
        "colab": {
          "base_uri": "https://localhost:8080/"
        },
        "id": "iXSwMF-VDqVC",
        "outputId": "d5cd1ee1-fccc-4846-e3ce-d061315a240a"
      },
      "execution_count": 4,
      "outputs": [
        {
          "output_type": "stream",
          "name": "stdout",
          "text": [
            "Speces: Cat\n",
            "Speces: Dog\n"
          ]
        }
      ]
    },
    {
      "cell_type": "markdown",
      "source": [
        "**Q2. Name the four pillars of OOPs.**"
      ],
      "metadata": {
        "id": "_nyKOcuuDxRv"
      }
    },
    {
      "cell_type": "markdown",
      "source": [
        "The four pillars of Object Oriented Programming are:\n",
        "\n",
        "Inheritence\n",
        "\n",
        "Encapsulation\n",
        "\n",
        "Abstraction\n",
        "\n",
        "Polymorphism\n",
        "\n"
      ],
      "metadata": {
        "id": "on_Tzpw1D8_V"
      }
    },
    {
      "cell_type": "markdown",
      "source": [
        "**Q3. Explain why the __init__() function is used. Give a suitable example.**"
      ],
      "metadata": {
        "id": "eT8OzqynEAX_"
      }
    },
    {
      "cell_type": "markdown",
      "source": [
        "The init () method in python is the default constructor which invoked while the object creation\n",
        "\n"
      ],
      "metadata": {
        "id": "TLd4zmovEIQ4"
      }
    },
    {
      "cell_type": "code",
      "source": [
        "class student:\n",
        "  def __init__(this,roll_no,name):\n",
        "    this.roll_no = roll_no\n",
        "    this.name = name\n",
        "  def details(this):\n",
        "    print(f'Roll.No: {this.roll_no} \\nName: {this.name}')\n",
        "\n",
        "# Construcor is similar to function but the differnce is that they auto invoked without calling\n",
        "s1 = student(23,'Mihir')\n",
        "s2 = student(26,'Sohan')\n",
        "# Here, details() is not a constructor so we explicitly call details() function by using class instance or object\n",
        "s1.details() # s1 & s2 are class student instance\n",
        "s2.details()\n",
        "\n"
      ],
      "metadata": {
        "colab": {
          "base_uri": "https://localhost:8080/"
        },
        "id": "yZE97k77DskA",
        "outputId": "4e61ac5c-e1f2-492a-e639-20d953bb2f85"
      },
      "execution_count": 5,
      "outputs": [
        {
          "output_type": "stream",
          "name": "stdout",
          "text": [
            "Roll.No: 23 \n",
            "Name: Mihir\n",
            "Roll.No: 26 \n",
            "Name: Sohan\n"
          ]
        }
      ]
    },
    {
      "cell_type": "markdown",
      "source": [
        "**Q4. Why self is used in OOPs?**"
      ],
      "metadata": {
        "id": "ytnnRj1vEXkK"
      }
    },
    {
      "cell_type": "markdown",
      "source": [
        "1)In OOP, 'self' is not a keyword so don't confuse with that.\n",
        "2)'self' is reference which is used to refer the class member variables and methods.\n",
        "3)self is always first parameter in class methods and constructor also.\n",
        "4)In place of 'self' we can use whatever name we required like\n",
        "\n",
        "'this' as I use in quesion 3. 5. 'self' is helpful to distinguish between the mehthod parameters and class instance varialble names in case of name conflict."
      ],
      "metadata": {
        "id": "lXj-7I-JEfMY"
      }
    },
    {
      "cell_type": "code",
      "source": [
        "# Example:\n",
        "class shape:\n",
        "  def __init__(self,shape_name):\n",
        "    self.shpae_name = shape_name\n",
        "# In this example, 'self.shape_name' is considered the class instance not 'shape_name'."
      ],
      "metadata": {
        "id": "8Ebde5I6EbCi"
      },
      "execution_count": 6,
      "outputs": []
    },
    {
      "cell_type": "markdown",
      "source": [
        "**Q5. What is inheritance? Give an example for each type of inheritance.**"
      ],
      "metadata": {
        "id": "vu6cC-OcE45P"
      }
    },
    {
      "cell_type": "markdown",
      "source": [
        "Inheritance is an approach by which we can inherit parent class properties to its children classes.\n",
        "\n",
        "Properties include members variables, methods and other properties of the class.\n",
        "\n",
        "Inheritance can be Single-Level, Multi-Level, Multiple & Hierarchical"
      ],
      "metadata": {
        "id": "xtYv626MFAz8"
      }
    },
    {
      "cell_type": "code",
      "source": [
        "# 1. Single-Level Inheritance: The derived class inherits properties from only one base class\n",
        "class Phone:\n",
        "    def __init__(self,brand):\n",
        "        self.brand = brand\n",
        "        print(f'Your brand is {self.brand}.')\n",
        "    def radio(self):\n",
        "        print('Tuning radio...')\n",
        "class SmartPhone(Phone):\n",
        "    def wifi(self):\n",
        "        print('Connecting to wifi...')\n",
        "v = SmartPhone('vivo') # Creating a Base class object\n",
        "v.radio() # Parent class method\n",
        "v.wifi() # Base class method"
      ],
      "metadata": {
        "colab": {
          "base_uri": "https://localhost:8080/"
        },
        "id": "0dImqSI-FBgw",
        "outputId": "a7d4895d-7c6f-43f9-fedf-7df9dacfcb59"
      },
      "execution_count": 7,
      "outputs": [
        {
          "output_type": "stream",
          "name": "stdout",
          "text": [
            "Your brand is vivo.\n",
            "Tuning radio...\n",
            "Connecting to wifi...\n"
          ]
        }
      ]
    },
    {
      "cell_type": "code",
      "source": [
        "# 2.Multi-Level Inheritance: The derived class inherits properties from derived class of another base class\n",
        "class Telephone:\n",
        "    def call(self):\n",
        "        print('Calling...')\n",
        "class Phone(Telephone):\n",
        "    def __init__(self,brand):\n",
        "        self.brand = brand\n",
        "        print(f'Your brand is {self.brand}.')\n",
        "    def radio(self):\n",
        "        print('Tuning radio...')\n",
        "class SmartPhone(Phone):\n",
        "    def wifi(self):\n",
        "        print('Connecting to wifi...')\n",
        "\n",
        "r = SmartPhone('realme') # Creating a Base class object\n",
        "r.call() # Grandparent class method\n",
        "r.radio() # Parent class method\n",
        "r.wifi() # Base class method"
      ],
      "metadata": {
        "colab": {
          "base_uri": "https://localhost:8080/"
        },
        "id": "xx24DL7UFE5E",
        "outputId": "088281d6-90cc-412f-e217-9fd6fc646685"
      },
      "execution_count": 8,
      "outputs": [
        {
          "output_type": "stream",
          "name": "stdout",
          "text": [
            "Your brand is realme.\n",
            "Calling...\n",
            "Tuning radio...\n",
            "Connecting to wifi...\n"
          ]
        }
      ]
    },
    {
      "cell_type": "code",
      "source": [
        "# 3. Multiple Inheritance: The derived class inherits properties from more than one base class\n",
        "class Camera:\n",
        "    def Record4K(self):\n",
        "        print('Recording in 4K...')\n",
        "class Phone:\n",
        "    def __init__(self,brand):\n",
        "        self.brand = brand\n",
        "        print(f'Your brand is {self.brand}.')\n",
        "    def imusic(self):\n",
        "        print('Tuning imusic...')\n",
        "class SmartPhone(Camera,Phone):\n",
        "    def wifi(self):\n",
        "        print('Connecting to wifi...')\n",
        "\n",
        "a = SmartPhone('apple') # Creating a Base class object\n",
        "a.Record4K() # Parent class 1 method\n",
        "a.imusic() # Parent class 2 method\n",
        "a.wifi() # Base class method"
      ],
      "metadata": {
        "colab": {
          "base_uri": "https://localhost:8080/"
        },
        "id": "Neg3g5FrFJH-",
        "outputId": "d13bd36d-7f92-4764-9ade-8dabd694ea6e"
      },
      "execution_count": 9,
      "outputs": [
        {
          "output_type": "stream",
          "name": "stdout",
          "text": [
            "Your brand is apple.\n",
            "Recording in 4K...\n",
            "Tuning imusic...\n",
            "Connecting to wifi...\n"
          ]
        }
      ]
    },
    {
      "cell_type": "code",
      "source": [
        "# 4.Hierarchical Inheritance: There are more than one subclass of a base class\n",
        "class cycle():\n",
        "    def __init__(self,wheel):\n",
        "        self.wheel = wheel\n",
        "        print(f'Your need {self.wheel} wheels.')\n",
        "\n",
        "class Scooter(cycle):\n",
        "    def kick(self):\n",
        "        print('Start with a kick')\n",
        "\n",
        "class Bike(cycle):\n",
        "    def quick_start(self):\n",
        "        print('Start with a self')\n",
        "S = Scooter(3) # Creating derived class 1 object\n",
        "S.kick()\n",
        "B = Bike(2) # Creating derived class 2 object\n",
        "B.quick_start()"
      ],
      "metadata": {
        "colab": {
          "base_uri": "https://localhost:8080/"
        },
        "id": "0oj3uX7yFL4Y",
        "outputId": "5f7640b0-564b-4b40-8e7e-8fe28883db9a"
      },
      "execution_count": 10,
      "outputs": [
        {
          "output_type": "stream",
          "name": "stdout",
          "text": [
            "Your need 3 wheels.\n",
            "Start with a kick\n",
            "Your need 2 wheels.\n",
            "Start with a self\n"
          ]
        }
      ]
    },
    {
      "cell_type": "code",
      "source": [],
      "metadata": {
        "id": "0YnYJstRFO91"
      },
      "execution_count": null,
      "outputs": []
    }
  ]
}