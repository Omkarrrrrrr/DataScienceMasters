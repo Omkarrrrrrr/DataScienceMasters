{
 "cells": [
  {
   "cell_type": "code",
   "execution_count": 28,
   "id": "75aa6915-193a-4ea5-b782-11508feb6ba4",
   "metadata": {},
   "outputs": [],
   "source": [
    "f = open(\"test.txt\",'a')"
   ]
  },
  {
   "cell_type": "code",
   "execution_count": 29,
   "id": "926631e2-bc49-4323-85aa-0bbcf6776798",
   "metadata": {},
   "outputs": [
    {
     "data": {
      "text/plain": [
       "'/home/jovyan/work'"
      ]
     },
     "execution_count": 29,
     "metadata": {},
     "output_type": "execute_result"
    }
   ],
   "source": [
    "pwd"
   ]
  },
  {
   "cell_type": "code",
   "execution_count": 30,
   "id": "2d4f126e-6dd7-4b97-b46e-4b1f6f1b0eee",
   "metadata": {},
   "outputs": [
    {
     "name": "stdout",
     "output_type": "stream",
     "text": [
      " 29janassignment.ipynb             day7lambda_map_reduce_filter.ipynb\n",
      " day10classmethods.ipynb           day8oops_class_obj.ipynb\n",
      " day10decorators.ipynb             day9abstraction.ipynb\n",
      " day10-gettersetterdeleter.ipynb   day9encapsulation.ipynb\n",
      " day10magicdundermethod.ipynb      day9inheritance.ipynb\n",
      " day10staticmethod.ipynb           day9polymorphism.ipynb\n",
      " day11working_with_files.ipynb    'EDA project.ipynb'\n",
      " day3ds.ipynb                      miniprojectws.ipynb\n",
      " day4ds.ipynb                      primenumbers.ipynb\n",
      " day4dsstringlist.ipynb            README.md\n",
      " day5.ipynb                        test.txt\n",
      " day5TSD.ipynb                     tsd_quiz.ipynb\n",
      " day6functions.ipynb\n"
     ]
    }
   ],
   "source": [
    "ls"
   ]
  },
  {
   "cell_type": "code",
   "execution_count": 31,
   "id": "b3a3a514-fb6b-47c2-8f2a-e4eb7895c342",
   "metadata": {},
   "outputs": [
    {
     "data": {
      "text/plain": [
       "766"
      ]
     },
     "execution_count": 31,
     "metadata": {},
     "output_type": "execute_result"
    }
   ],
   "source": [
    "f.write(\"Data Science Masters course is highly curated and uniquely designed according to the latest industry standards. This program instills students the skills essential to knowledge discovery efforts to identify standard, novel, and truly differentiated solutions and decision-making, including skills in managing, querying, analyzing, visualizing, and extracting meaning from extremely large data sets. This trending program provides students with the statistical, mathematical and computational skills needed to meet the large-scale data science challenges of today's professional world. You will learn all the stack required to work in data science industry including cloud infrastructure and real-time industry projects. This course will be taught in Hindi language. \")"
   ]
  },
  {
   "cell_type": "code",
   "execution_count": 32,
   "id": "6ae4f378-0f1b-4898-9e48-6f533802d127",
   "metadata": {},
   "outputs": [],
   "source": [
    "## above 766 is how many bytes of given data is"
   ]
  },
  {
   "cell_type": "code",
   "execution_count": 33,
   "id": "3e336525-8ad7-47be-ae82-5ec9c0cd09a1",
   "metadata": {},
   "outputs": [],
   "source": [
    "f.close()"
   ]
  },
  {
   "cell_type": "code",
   "execution_count": 34,
   "id": "10a0a6b3-7fe6-4da2-8f49-15292b4b5ebc",
   "metadata": {},
   "outputs": [],
   "source": [
    "data = open(\"test.txt\" , \"r\")"
   ]
  },
  {
   "cell_type": "code",
   "execution_count": 35,
   "id": "f2902bcf-eb5c-4ef8-ba5d-c171213872fe",
   "metadata": {},
   "outputs": [
    {
     "data": {
      "text/plain": [
       "\"Data Science Masters course is highly curated and uniquely designed according to the latest industry standards. This program instills students the skills essential to knowledge discovery efforts to identify standard, novel, and truly differentiated solutions and decision-making, including skills in managing, querying, analyzing, visualizing, and extracting meaning from extremely large data sets. This trending program provides students with the statistical, mathematical and computational skills needed to meet the large-scale data science challenges of today's professional world. You will learn all the stack required to work in data science industry including cloud infrastructure and real-time industry projects. This course will be taught in Hindi language. Data Science Masters course is highly curated and uniquely designed according to the latest industry standards. This program instills students the skills essential to knowledge discovery efforts to identify standard, novel, and truly differentiated solutions and decision-making, including skills in managing, querying, analyzing, visualizing, and extracting meaning from extremely large data sets. This trending program provides students with the statistical, mathematical and computational skills needed to meet the large-scale data science challenges of today's professional world. You will learn all the stack required to work in data science industry including cloud infrastructure and real-time industry projects. This course will be taught in Hindi language. \""
      ]
     },
     "execution_count": 35,
     "metadata": {},
     "output_type": "execute_result"
    }
   ],
   "source": [
    "data.read()"
   ]
  },
  {
   "cell_type": "code",
   "execution_count": 36,
   "id": "a9e21ab4-ede1-4a5f-9ac3-09d3dc7fe9cd",
   "metadata": {},
   "outputs": [
    {
     "data": {
      "text/plain": [
       "''"
      ]
     },
     "execution_count": 36,
     "metadata": {},
     "output_type": "execute_result"
    }
   ],
   "source": [
    "data.read()"
   ]
  },
  {
   "cell_type": "code",
   "execution_count": 37,
   "id": "68996c2d-1c4a-4c9e-bbb2-41d484886850",
   "metadata": {},
   "outputs": [],
   "source": [
    "## because curser is at the end\n",
    "## to reset the cursor, we can do"
   ]
  },
  {
   "cell_type": "code",
   "execution_count": 38,
   "id": "bc52a029-3df8-4b63-98b7-35cbb922d287",
   "metadata": {},
   "outputs": [
    {
     "data": {
      "text/plain": [
       "0"
      ]
     },
     "execution_count": 38,
     "metadata": {},
     "output_type": "execute_result"
    }
   ],
   "source": [
    "data.seek(0)"
   ]
  },
  {
   "cell_type": "code",
   "execution_count": 39,
   "id": "9ffdce34-c88b-4f23-ba10-b1dc3015643e",
   "metadata": {},
   "outputs": [
    {
     "data": {
      "text/plain": [
       "\"Data Science Masters course is highly curated and uniquely designed according to the latest industry standards. This program instills students the skills essential to knowledge discovery efforts to identify standard, novel, and truly differentiated solutions and decision-making, including skills in managing, querying, analyzing, visualizing, and extracting meaning from extremely large data sets. This trending program provides students with the statistical, mathematical and computational skills needed to meet the large-scale data science challenges of today's professional world. You will learn all the stack required to work in data science industry including cloud infrastructure and real-time industry projects. This course will be taught in Hindi language. Data Science Masters course is highly curated and uniquely designed according to the latest industry standards. This program instills students the skills essential to knowledge discovery efforts to identify standard, novel, and truly differentiated solutions and decision-making, including skills in managing, querying, analyzing, visualizing, and extracting meaning from extremely large data sets. This trending program provides students with the statistical, mathematical and computational skills needed to meet the large-scale data science challenges of today's professional world. You will learn all the stack required to work in data science industry including cloud infrastructure and real-time industry projects. This course will be taught in Hindi language. \""
      ]
     },
     "execution_count": 39,
     "metadata": {},
     "output_type": "execute_result"
    }
   ],
   "source": [
    "data.read()"
   ]
  },
  {
   "cell_type": "code",
   "execution_count": 40,
   "id": "d57abadc-2467-4408-805f-011a79fdb76f",
   "metadata": {},
   "outputs": [
    {
     "data": {
      "text/plain": [
       "''"
      ]
     },
     "execution_count": 40,
     "metadata": {},
     "output_type": "execute_result"
    }
   ],
   "source": [
    "data.read()"
   ]
  },
  {
   "cell_type": "code",
   "execution_count": 41,
   "id": "ca2a01f4-1588-48e0-bfa3-ad167737ece9",
   "metadata": {},
   "outputs": [
    {
     "data": {
      "text/plain": [
       "100"
      ]
     },
     "execution_count": 41,
     "metadata": {},
     "output_type": "execute_result"
    }
   ],
   "source": [
    "data.seek(100)"
   ]
  },
  {
   "cell_type": "code",
   "execution_count": 42,
   "id": "121c4c78-6497-4a5e-9268-5469be99d1b0",
   "metadata": {},
   "outputs": [],
   "source": [
    "## here it read data from 100th character because we put cursor therer\""
   ]
  },
  {
   "cell_type": "code",
   "execution_count": 43,
   "id": "35add27a-cada-4912-94ba-10db6b9b06b9",
   "metadata": {},
   "outputs": [
    {
     "data": {
      "text/plain": [
       "\" standards. This program instills students the skills essential to knowledge discovery efforts to identify standard, novel, and truly differentiated solutions and decision-making, including skills in managing, querying, analyzing, visualizing, and extracting meaning from extremely large data sets. This trending program provides students with the statistical, mathematical and computational skills needed to meet the large-scale data science challenges of today's professional world. You will learn all the stack required to work in data science industry including cloud infrastructure and real-time industry projects. This course will be taught in Hindi language. Data Science Masters course is highly curated and uniquely designed according to the latest industry standards. This program instills students the skills essential to knowledge discovery efforts to identify standard, novel, and truly differentiated solutions and decision-making, including skills in managing, querying, analyzing, visualizing, and extracting meaning from extremely large data sets. This trending program provides students with the statistical, mathematical and computational skills needed to meet the large-scale data science challenges of today's professional world. You will learn all the stack required to work in data science industry including cloud infrastructure and real-time industry projects. This course will be taught in Hindi language. \""
      ]
     },
     "execution_count": 43,
     "metadata": {},
     "output_type": "execute_result"
    }
   ],
   "source": [
    "data.read()"
   ]
  },
  {
   "cell_type": "code",
   "execution_count": 44,
   "id": "3773dc78-9257-4c21-a80c-18f355b8ce1a",
   "metadata": {},
   "outputs": [],
   "source": [
    "data1 = open(\"test.txt\", 'r')"
   ]
  },
  {
   "cell_type": "code",
   "execution_count": 45,
   "id": "7226d67d-351d-4468-ad37-680e0cb84745",
   "metadata": {},
   "outputs": [
    {
     "name": "stdout",
     "output_type": "stream",
     "text": [
      "Data Science Masters course is highly curated and uniquely designed according to the latest industry standards. This program instills students the skills essential to knowledge discovery efforts to identify standard, novel, and truly differentiated solutions and decision-making, including skills in managing, querying, analyzing, visualizing, and extracting meaning from extremely large data sets. This trending program provides students with the statistical, mathematical and computational skills needed to meet the large-scale data science challenges of today's professional world. You will learn all the stack required to work in data science industry including cloud infrastructure and real-time industry projects. This course will be taught in Hindi language. Data Science Masters course is highly curated and uniquely designed according to the latest industry standards. This program instills students the skills essential to knowledge discovery efforts to identify standard, novel, and truly differentiated solutions and decision-making, including skills in managing, querying, analyzing, visualizing, and extracting meaning from extremely large data sets. This trending program provides students with the statistical, mathematical and computational skills needed to meet the large-scale data science challenges of today's professional world. You will learn all the stack required to work in data science industry including cloud infrastructure and real-time industry projects. This course will be taught in Hindi language. \n"
     ]
    }
   ],
   "source": [
    "for i in data1:\n",
    "    print(i)"
   ]
  },
  {
   "cell_type": "code",
   "execution_count": 46,
   "id": "e0141f6c-8eff-4366-9ff0-dab3f98b7ced",
   "metadata": {},
   "outputs": [],
   "source": [
    "import os"
   ]
  },
  {
   "cell_type": "code",
   "execution_count": 47,
   "id": "a94e8190-113e-402c-9c85-14d801f75631",
   "metadata": {},
   "outputs": [
    {
     "data": {
      "text/plain": [
       "1532"
      ]
     },
     "execution_count": 47,
     "metadata": {},
     "output_type": "execute_result"
    }
   ],
   "source": [
    "os.path.getsize(\"test.txt\")"
   ]
  },
  {
   "cell_type": "code",
   "execution_count": 50,
   "id": "a9142dd8-bd0c-46b0-a877-e4d841805e51",
   "metadata": {},
   "outputs": [],
   "source": [
    "import shutil"
   ]
  },
  {
   "cell_type": "code",
   "execution_count": 51,
   "id": "fc7a3c09-32f1-4e55-ba22-a63e12b80775",
   "metadata": {},
   "outputs": [
    {
     "data": {
      "text/plain": [
       "' The line import shutil in Python is an import statement that allows you to use the shutil module in your Python program. The shutil module is part of the Python standard library and provides a higher-level interface for file and directory operations compared to the os module.\\n\\nThe shutil module includes functions for tasks such as copying files and directories, moving files and directories, archiving (compressing) files and directories, and more. It simplifies common file operations and provides a more user-friendly and efficient way to work with file system-related tasks.\\n\\nHere are a few examples of what you can do with the shutil module:\\n\\nCopy a file or directory: shutil.copy(src, dst)\\nMove a file or directory: shutil.move(src, dst)\\nCreate a zip archive of a directory: shutil.make_archive(base_name, format, root_dir)\\nExtract files from a zip archive: shutil.unpack_archive(filename, extract_dir)\\nBy importing shutil, you gain access to these and other functions that make file and directory manipulation tasks easier in Python.'"
      ]
     },
     "execution_count": 51,
     "metadata": {},
     "output_type": "execute_result"
    }
   ],
   "source": [
    "\"\"\" The line import shutil in Python is an import statement that allows you to use the shutil module in your Python program. The shutil module is part of the Python standard library and provides a higher-level interface for file and directory operations compared to the os module.\n",
    "\n",
    "The shutil module includes functions for tasks such as copying files and directories, moving files and directories, archiving (compressing) files and directories, and more. It simplifies common file operations and provides a more user-friendly and efficient way to work with file system-related tasks.\n",
    "\n",
    "Here are a few examples of what you can do with the shutil module:\n",
    "\n",
    "Copy a file or directory: shutil.copy(src, dst)\n",
    "Move a file or directory: shutil.move(src, dst)\n",
    "Create a zip archive of a directory: shutil.make_archive(base_name, format, root_dir)\n",
    "Extract files from a zip archive: shutil.unpack_archive(filename, extract_dir)\n",
    "By importing shutil, you gain access to these and other functions that make file and directory manipulation tasks easier in Python.\"\"\"\n",
    "\n",
    "\n",
    "\n",
    "\n",
    "\n",
    "\n"
   ]
  },
  {
   "cell_type": "code",
   "execution_count": 53,
   "id": "b7612f00-94e6-44e6-8f80-584a2ee9d2f8",
   "metadata": {},
   "outputs": [
    {
     "data": {
      "text/plain": [
       "'new_test.txt'"
      ]
     },
     "execution_count": 53,
     "metadata": {},
     "output_type": "execute_result"
    }
   ],
   "source": [
    "shutil.copy(\"test.txt\" , \"new_test.txt\") ## creating new file with copied text"
   ]
  },
  {
   "cell_type": "code",
   "execution_count": 54,
   "id": "a73f7bc1-293a-4f26-941e-779f8d83283f",
   "metadata": {},
   "outputs": [],
   "source": [
    "os.remove(\"test.txt\") ## removing copied file"
   ]
  },
  {
   "cell_type": "code",
   "execution_count": 56,
   "id": "fd35e904-fa89-43c2-8585-b05b88876d4c",
   "metadata": {},
   "outputs": [
    {
     "name": "stdout",
     "output_type": "stream",
     "text": [
      "Data Science Masters course is highly curated and uniquely designed according to the latest industry standards. This program instills students the skills essential to knowledge discovery efforts to identify standard, novel, and truly differentiated solutions and decision-making, including skills in managing, querying, analyzing, visualizing, and extracting meaning from extremely large data sets. This trending program provides students with the statistical, mathematical and computational skills needed to meet the large-scale data science challenges of today's professional world. You will learn all the stack required to work in data science industry including cloud infrastructure and real-time industry projects. This course will be taught in Hindi language. Data Science Masters course is highly curated and uniquely designed according to the latest industry standards. This program instills students the skills essential to knowledge discovery efforts to identify standard, novel, and truly differentiated solutions and decision-making, including skills in managing, querying, analyzing, visualizing, and extracting meaning from extremely large data sets. This trending program provides students with the statistical, mathematical and computational skills needed to meet the large-scale data science challenges of today's professional world. You will learn all the stack required to work in data science industry including cloud infrastructure and real-time industry projects. This course will be taught in Hindi language. \n"
     ]
    }
   ],
   "source": [
    "with open(\"new_test.txt\" , \"r\") as f :\n",
    "    print(f.read())"
   ]
  },
  {
   "cell_type": "code",
   "execution_count": null,
   "id": "346b9636-8421-47e2-ab09-d4d34736375b",
   "metadata": {},
   "outputs": [],
   "source": []
  }
 ],
 "metadata": {
  "kernelspec": {
   "display_name": "Python 3 (ipykernel)",
   "language": "python",
   "name": "python3"
  },
  "language_info": {
   "codemirror_mode": {
    "name": "ipython",
    "version": 3
   },
   "file_extension": ".py",
   "mimetype": "text/x-python",
   "name": "python",
   "nbconvert_exporter": "python",
   "pygments_lexer": "ipython3",
   "version": "3.10.8"
  }
 },
 "nbformat": 4,
 "nbformat_minor": 5
}
