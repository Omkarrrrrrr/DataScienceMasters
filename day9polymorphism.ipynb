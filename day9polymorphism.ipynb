{
 "cells": [
  {
   "cell_type": "markdown",
   "id": "966c2ff0-02c8-4129-9fb6-389e78edae23",
   "metadata": {},
   "source": [
    "### Polymorphism refers to having multiple forms. Polymorphism is a programming term that refers to the use of the same function name, but with different signatures, for multiple types. Example of in-built polymorphic functions: # Python program for demonstrating the in-built poly-morphic functions.\n"
   ]
  },
  {
   "cell_type": "code",
   "execution_count": 14,
   "id": "3210b722-dea1-494e-a606-e07e87dad2c1",
   "metadata": {},
   "outputs": [],
   "source": [
    "def test(a,b) :\n",
    "    return a+b"
   ]
  },
  {
   "cell_type": "code",
   "execution_count": 15,
   "id": "48ae14d1-1d4f-44dc-84df-e89085fa5ffb",
   "metadata": {},
   "outputs": [
    {
     "data": {
      "text/plain": [
       "9"
      ]
     },
     "execution_count": 15,
     "metadata": {},
     "output_type": "execute_result"
    }
   ],
   "source": [
    "test(4,5)"
   ]
  },
  {
   "cell_type": "code",
   "execution_count": 16,
   "id": "1321c8ff-7412-4950-ab43-5878470e912d",
   "metadata": {},
   "outputs": [
    {
     "data": {
      "text/plain": [
       "'sudh kumar'"
      ]
     },
     "execution_count": 16,
     "metadata": {},
     "output_type": "execute_result"
    }
   ],
   "source": [
    "test(\"sudh \" , \"kumar\")"
   ]
  },
  {
   "cell_type": "code",
   "execution_count": 17,
   "id": "09224405-bc86-4b07-a452-a544cce93134",
   "metadata": {},
   "outputs": [
    {
     "data": {
      "text/plain": [
       "[2, 3, 4, 5, 5, 4, 5, 6, 7]"
      ]
     },
     "execution_count": 17,
     "metadata": {},
     "output_type": "execute_result"
    }
   ],
   "source": [
    "test([2,3,4,5,5] , [4,5,6,7])"
   ]
  },
  {
   "cell_type": "code",
   "execution_count": 18,
   "id": "751342a9-46d1-4b7e-9e4f-26a89fbfb8b0",
   "metadata": {},
   "outputs": [],
   "source": [
    "class data_science:\n",
    "    def syllabus(self) : \n",
    "        print(\"this is my method for data science syllbaus \" )"
   ]
  },
  {
   "cell_type": "code",
   "execution_count": 19,
   "id": "8922dea0-658b-4c25-ab29-34640ee8709e",
   "metadata": {},
   "outputs": [],
   "source": [
    "class web_dev :\n",
    "    def syllabus(self) : \n",
    "        print(\"this is my method for web dev \" )"
   ]
  },
  {
   "cell_type": "code",
   "execution_count": 20,
   "id": "d2e74426-6100-40a5-a625-375ce0052ff8",
   "metadata": {},
   "outputs": [],
   "source": [
    "def class_parcer(class_obj) : \n",
    "    for i in class_obj : \n",
    "        i.syllabus()"
   ]
  },
  {
   "cell_type": "code",
   "execution_count": 21,
   "id": "025c56b1-4bfd-4123-a2ce-a35042c6831f",
   "metadata": {},
   "outputs": [],
   "source": [
    "obj_data_science= data_science()"
   ]
  },
  {
   "cell_type": "code",
   "execution_count": 22,
   "id": "aacfd075-4078-47b2-9e8b-3cca71c4a63f",
   "metadata": {},
   "outputs": [],
   "source": [
    "obj_web_dev = web_dev()"
   ]
  },
  {
   "cell_type": "code",
   "execution_count": 23,
   "id": "72771d35-8b9a-4e91-b5cb-ef279686fdeb",
   "metadata": {},
   "outputs": [],
   "source": [
    "class_obj = [obj_data_science , obj_web_dev]"
   ]
  },
  {
   "cell_type": "code",
   "execution_count": 24,
   "id": "60ed8991-c907-4474-88a4-d1209f3f5f78",
   "metadata": {},
   "outputs": [
    {
     "name": "stdout",
     "output_type": "stream",
     "text": [
      "this is my method for data science syllbaus \n",
      "this is my method for web dev \n"
     ]
    }
   ],
   "source": [
    "class_parcer(class_obj)"
   ]
  },
  {
   "cell_type": "code",
   "execution_count": null,
   "id": "aaee51af-5de0-4049-a143-9d1ee7196340",
   "metadata": {},
   "outputs": [],
   "source": []
  }
 ],
 "metadata": {
  "kernelspec": {
   "display_name": "Python 3 (ipykernel)",
   "language": "python",
   "name": "python3"
  },
  "language_info": {
   "codemirror_mode": {
    "name": "ipython",
    "version": 3
   },
   "file_extension": ".py",
   "mimetype": "text/x-python",
   "name": "python",
   "nbconvert_exporter": "python",
   "pygments_lexer": "ipython3",
   "version": "3.10.8"
  }
 },
 "nbformat": 4,
 "nbformat_minor": 5
}
