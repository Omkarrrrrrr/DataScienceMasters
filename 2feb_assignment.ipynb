{
 "cells": [
  {
   "cell_type": "markdown",
   "id": "28180ed6-5ccc-4311-8542-d853cbc219cf",
   "metadata": {},
   "source": [
    "## Tuple set dictionary assignment"
   ]
  },
  {
   "cell_type": "markdown",
   "id": "9ab90a73-f7ad-4a48-a1e6-6699cd261d83",
   "metadata": {},
   "source": [
    "# What are the characteristics of the tuples? Is tuple immutable?"
   ]
  },
  {
   "cell_type": "markdown",
   "id": "44081e58-7eea-4807-99ab-ff08da1b91a0",
   "metadata": {},
   "source": [
    "Following are the tuple characteristics:\n",
    "\n",
    "A.Tuple items are ordered, unchangeable, and allow duplicate values.\n",
    "\n",
    "B.Tuple items are indexed, indexing starts from 0.\n",
    "\n",
    "Yes, tupeles are immutable means we can't  change exxisting tuple."
   ]
  },
  {
   "cell_type": "markdown",
   "id": "01e7d183-1fe1-42c3-a0f6-e3fa33ab368b",
   "metadata": {},
   "source": [
    "# Q2. What are the two tuple methods in python? Give an example of each method. Give a reason why tuples have only two in-built methods as compared to Lists."
   ]
  },
  {
   "cell_type": "markdown",
   "id": "c0efd242-f83e-4a62-af0f-4a7bd358bf47",
   "metadata": {},
   "source": [
    "There are only two built-in methods in tuples:\n",
    "\n",
    "These are count() & index().\n",
    "\n",
    "The main reason for tuple has only two methods as compared to list is that\n",
    "\n",
    "tuple is immutable means we can't delete, insert, update new values in tuple so there is no need of more methods.\n",
    "\n",
    "Example of this two built-in methods are:"
   ]
  },
  {
   "cell_type": "code",
   "execution_count": 1,
   "id": "e36c265d-19f7-4f8d-8e3a-836223bb1650",
   "metadata": {},
   "outputs": [],
   "source": [
    "tuple1 = (1,2,3,1,4,5,3,1,3,1,2,1,4,5)"
   ]
  },
  {
   "cell_type": "code",
   "execution_count": 2,
   "id": "067f8270-545b-4993-9019-83649f051996",
   "metadata": {},
   "outputs": [
    {
     "data": {
      "text/plain": [
       "5"
      ]
     },
     "execution_count": 2,
     "metadata": {},
     "output_type": "execute_result"
    }
   ],
   "source": [
    "tuple1.count(1)"
   ]
  },
  {
   "cell_type": "code",
   "execution_count": 4,
   "id": "7821ed08-00b9-4214-905a-33948fd25808",
   "metadata": {},
   "outputs": [
    {
     "data": {
      "text/plain": [
       "2"
      ]
     },
     "execution_count": 4,
     "metadata": {},
     "output_type": "execute_result"
    }
   ],
   "source": [
    "tuple1.index(3)"
   ]
  },
  {
   "cell_type": "code",
   "execution_count": 8,
   "id": "10ec0294-4972-453f-8d22-b5c906214ccd",
   "metadata": {},
   "outputs": [
    {
     "data": {
      "text/plain": [
       "10"
      ]
     },
     "execution_count": 8,
     "metadata": {},
     "output_type": "execute_result"
    }
   ],
   "source": [
    "tuple1.index(2,3)"
   ]
  },
  {
   "cell_type": "markdown",
   "id": "88622fd0-309d-4e35-9baa-1b49218d2e26",
   "metadata": {},
   "source": [
    "# Q3. Which collection datatypes in python do not allow duplicate items? Write a code using a set to remove duplicates from the given list."
   ]
  },
  {
   "cell_type": "markdown",
   "id": "6b893ec9-ee83-4a46-aefe-75bb1a453534",
   "metadata": {},
   "source": [
    "In Python, 'set' datatype do not allow duplicates."
   ]
  },
  {
   "cell_type": "code",
   "execution_count": 9,
   "id": "aa517899-4582-4fcc-a36f-79494c9f5786",
   "metadata": {},
   "outputs": [
    {
     "name": "stdout",
     "output_type": "stream",
     "text": [
      "{1, 2, 3, 4}\n"
     ]
    }
   ],
   "source": [
    "List = [1, 1, 1, 2, 1, 3, 1, 4, 2, 1, 2, 2, 2, 3, 2, 4, 3, 1, 3, 2, 3, 3, 3, 4, 4, 1, 4, 2, 4, 3, 4, 4]\n",
    "\n",
    "Set = set(List)\n",
    "print(Set)"
   ]
  },
  {
   "cell_type": "markdown",
   "id": "703c5b20-0de5-47ed-8415-922f4f2d7e9d",
   "metadata": {},
   "source": [
    "# Q4. Explain the difference between the union() and update() methods for a set. Give an example of each method."
   ]
  },
  {
   "cell_type": "markdown",
   "id": "aa01a3dc-8cef-4bc0-947e-b200f73f3d19",
   "metadata": {},
   "source": [
    "union() method is used to combine two sets completely no duplicates allowed\n",
    "\n",
    "But More important is that it creates a new set."
   ]
  },
  {
   "cell_type": "code",
   "execution_count": 10,
   "id": "c7ef3cdf-139a-42cb-b816-84176601bb9e",
   "metadata": {},
   "outputs": [
    {
     "name": "stdout",
     "output_type": "stream",
     "text": [
      "{1, 2, 3, 4, 5, 6}\n"
     ]
    }
   ],
   "source": [
    "set1 = {1,2,3,4}\n",
    "set2 = {4,5,6}\n",
    "union_set = set2.union(set1)\n",
    "print(union_set)"
   ]
  },
  {
   "cell_type": "markdown",
   "id": "59325386-b9f3-4fd2-9c85-4e724446b256",
   "metadata": {},
   "source": [
    "# Q5. What is a dictionary? Give an example. Also, state whether a dictionary is ordered or unordered."
   ]
  },
  {
   "cell_type": "markdown",
   "id": "18e740ee-7578-418e-94d3-d10282f97f4c",
   "metadata": {},
   "source": [
    "Dictionary is a data structure in python which includes keys and values pairs, In python dictionary is unordered structure"
   ]
  },
  {
   "cell_type": "code",
   "execution_count": 11,
   "id": "dea96848-9cd1-422e-ba40-3633d5a61e6c",
   "metadata": {},
   "outputs": [
    {
     "name": "stdout",
     "output_type": "stream",
     "text": [
      "{1: 'Python', 2: 'Java', 3: 'Perl'}\n"
     ]
    }
   ],
   "source": [
    "course_dic = {1:'Python',2:'Java',3:'Perl'}\n",
    "print(course_dic)"
   ]
  },
  {
   "cell_type": "markdown",
   "id": "f1d26244-eb70-4b9f-a9c2-b441036c6b83",
   "metadata": {},
   "source": [
    "# Q6. Can we create a nested dictionary? If so, please give an example by creating a simple one-levelnested dictionary."
   ]
  },
  {
   "cell_type": "markdown",
   "id": "ad650458-a181-40b9-93d2-fcb9b7c71213",
   "metadata": {},
   "source": [
    "Yes, We can create a nested dictionary in python. Below is an example of a nested dictionary"
   ]
  },
  {
   "cell_type": "code",
   "execution_count": 12,
   "id": "3972a87f-7cec-47b7-abde-d37f09fc128a",
   "metadata": {},
   "outputs": [
    {
     "data": {
      "text/plain": [
       "'while loops'"
      ]
     },
     "execution_count": 12,
     "metadata": {},
     "output_type": "execute_result"
    }
   ],
   "source": [
    "nested_dict = {1:'Python',2:'Java',3:{'A':'for loops','B':'while loops','C':'if-else','D':'break-condition'}}\n",
    "\n",
    "nested_dict[3]['B']"
   ]
  },
  {
   "cell_type": "markdown",
   "id": "a4211c06-afd3-4010-b483-a99327a70679",
   "metadata": {},
   "source": [
    "# Q7. Using setdefault() method, create key named topics in the given dictionary and also add the value of the key as this list ['Python', 'Machine Learning’, 'Deep Learning']"
   ]
  },
  {
   "cell_type": "markdown",
   "id": "0a6ab328-bedb-4834-96d9-a1a4032743b5",
   "metadata": {},
   "source": [
    "Using setdefault() method we can add default value for a key if it doesn't exist"
   ]
  },
  {
   "cell_type": "code",
   "execution_count": 13,
   "id": "e3acce24-9225-45fb-a647-3d612ed65748",
   "metadata": {},
   "outputs": [
    {
     "name": "stdout",
     "output_type": "stream",
     "text": [
      "{'language': 'Python', 'course': 'Data Science Masters', 'topics': ['Python', 'Machine Learning', 'Deep Learning']}\n"
     ]
    }
   ],
   "source": [
    "dict1 = {'language' : 'Python', 'course': 'Data Science Masters'}\n",
    "\n",
    "new_dic1 = dict1.setdefault('topics',['Python','Machine Learning','Deep Learning'])\n",
    "\n",
    "print(dict1)"
   ]
  },
  {
   "cell_type": "markdown",
   "id": "95205777-2546-4b20-9a86-6f29ed1822aa",
   "metadata": {},
   "source": [
    "# Q8. What are the three view objects in dictionaries? Use the three in-built methods in python to display these three view objects for the given dictionary.\n",
    "dict1 = {'Sport': 'Cricket' , 'Teams': ['India', 'Australia', 'England', 'South Africa', 'Sri Lanka', 'New Zealand']}"
   ]
  },
  {
   "cell_type": "markdown",
   "id": "4a9d5259-9d48-43fc-a945-d34aecdfe69e",
   "metadata": {},
   "source": [
    "The three view objects in python are \"key_view\",\"value_view\" and \"item_view\"."
   ]
  },
  {
   "cell_type": "code",
   "execution_count": 14,
   "id": "9dbc6ee7-cc0b-4b42-8c2d-c81da09d11ed",
   "metadata": {},
   "outputs": [],
   "source": [
    "dict1 = {'Sport': 'Cricket' , 'Teams': ['India', 'Australia', 'England', 'South Africa', 'Sri Lanka', 'New  Zealand']}"
   ]
  },
  {
   "cell_type": "markdown",
   "id": "c41e7595-d781-41a7-afa6-1519492e5340",
   "metadata": {},
   "source": [
    "The three built-in mehtods in python to show these three view object are dic_name.keys() , dic_name.values() & dic_name.items()"
   ]
  },
  {
   "cell_type": "code",
   "execution_count": 16,
   "id": "8b3f5037-e27e-40b8-9a8f-9095cb301d05",
   "metadata": {},
   "outputs": [
    {
     "name": "stdout",
     "output_type": "stream",
     "text": [
      "dict_keys(['Sport', 'Teams'])\n"
     ]
    }
   ],
   "source": [
    "print(dict1.keys())"
   ]
  },
  {
   "cell_type": "code",
   "execution_count": 17,
   "id": "cfbfa210-5186-4ac4-993e-8deee21f7a2b",
   "metadata": {},
   "outputs": [
    {
     "name": "stdout",
     "output_type": "stream",
     "text": [
      "dict_values(['Cricket', ['India', 'Australia', 'England', 'South Africa', 'Sri Lanka', 'New  Zealand']])\n"
     ]
    }
   ],
   "source": [
    "print(dict1.values())"
   ]
  },
  {
   "cell_type": "code",
   "execution_count": 18,
   "id": "6475aff3-4e01-4e07-b00d-bf33252b0e60",
   "metadata": {},
   "outputs": [
    {
     "name": "stdout",
     "output_type": "stream",
     "text": [
      "dict_items([('Sport', 'Cricket'), ('Teams', ['India', 'Australia', 'England', 'South Africa', 'Sri Lanka', 'New  Zealand'])])\n"
     ]
    }
   ],
   "source": [
    "print(dict1.items())"
   ]
  },
  {
   "cell_type": "code",
   "execution_count": null,
   "id": "6d62cd86-f974-4362-bf98-9587f616788d",
   "metadata": {},
   "outputs": [],
   "source": []
  }
 ],
 "metadata": {
  "kernelspec": {
   "display_name": "Python 3 (ipykernel)",
   "language": "python",
   "name": "python3"
  },
  "language_info": {
   "codemirror_mode": {
    "name": "ipython",
    "version": 3
   },
   "file_extension": ".py",
   "mimetype": "text/x-python",
   "name": "python",
   "nbconvert_exporter": "python",
   "pygments_lexer": "ipython3",
   "version": "3.10.8"
  }
 },
 "nbformat": 4,
 "nbformat_minor": 5
}
