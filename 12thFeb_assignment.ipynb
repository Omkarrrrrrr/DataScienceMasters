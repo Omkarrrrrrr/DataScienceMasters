{
 "cells": [
  {
   "cell_type": "markdown",
   "id": "ef05aad4-77ae-4521-81f1-a51e9a951647",
   "metadata": {},
   "source": [
    "# Exception handling - 1"
   ]
  },
  {
   "cell_type": "markdown",
   "id": "42694026-19fd-478b-8003-d48469335c5b",
   "metadata": {},
   "source": [
    "# Q1. What is exception handling in python ? write the difference between exception and syntax error"
   ]
  },
  {
   "cell_type": "markdown",
   "id": "3d72181e-4b78-4747-ba82-f8645dbeecc4",
   "metadata": {},
   "source": [
    "Exception is a condition , it occurs when the normal flow of the program is interrupted.\n",
    "\n",
    "Difference between exceptions and syntax errors:\n",
    "\n",
    "The main difference between them is that the exception is runtime error. And, the syntax error occurs at compile time."
   ]
  },
  {
   "cell_type": "markdown",
   "id": "80a799a3-b246-478d-b514-6645149f2628",
   "metadata": {},
   "source": [
    "# Q2. Wht happens when an exception is not handled? Explain with an example"
   ]
  },
  {
   "cell_type": "markdown",
   "id": "6d646db9-570d-458b-a60e-2ad7c1260aa8",
   "metadata": {},
   "source": [
    "If exception is not handled, then the lines of code doesn't excecuted after at which line the exception occurred.\n",
    "\n",
    "Example;"
   ]
  },
  {
   "cell_type": "code",
   "execution_count": 2,
   "id": "f1cf178b-c698-4101-afd6-1f30cdda903d",
   "metadata": {},
   "outputs": [
    {
     "ename": "ZeroDivisionError",
     "evalue": "division by zero",
     "output_type": "error",
     "traceback": [
      "\u001b[0;31m---------------------------------------------------------------------------\u001b[0m",
      "\u001b[0;31mZeroDivisionError\u001b[0m                         Traceback (most recent call last)",
      "Cell \u001b[0;32mIn[2], line 1\u001b[0m\n\u001b[0;32m----> 1\u001b[0m \u001b[38;5;28mprint\u001b[39m(\u001b[38;5;241;43m10\u001b[39;49m\u001b[38;5;241;43m/\u001b[39;49m\u001b[38;5;241;43m0\u001b[39;49m)  \u001b[38;5;66;03m# exception occurred so below line is not executed\u001b[39;00m\n\u001b[1;32m      2\u001b[0m \u001b[38;5;28mprint\u001b[39m(\u001b[38;5;124m'\u001b[39m\u001b[38;5;124mExecuted\u001b[39m\u001b[38;5;124m'\u001b[39m) \n",
      "\u001b[0;31mZeroDivisionError\u001b[0m: division by zero"
     ]
    }
   ],
   "source": [
    "print(10/0)  # exception occurred so below line is not executed\n",
    "print('Executed') "
   ]
  },
  {
   "cell_type": "markdown",
   "id": "310c7ee0-e1a1-4153-adb8-01643b7a48b5",
   "metadata": {},
   "source": [
    "# Q3. Which python statements are used to hanadle the exceptions,Explain with an examole\n"
   ]
  },
  {
   "cell_type": "markdown",
   "id": "d1ae0c99-744e-4be3-99b1-bb66ec5a6bb9",
   "metadata": {},
   "source": [
    "In Python, exceptions are handled by try-except blocks.\n",
    "\n",
    "Example\n",
    "\n"
   ]
  },
  {
   "cell_type": "code",
   "execution_count": 5,
   "id": "35659f8e-50f9-4ea7-b63f-1e706da3a095",
   "metadata": {},
   "outputs": [
    {
     "name": "stdout",
     "output_type": "stream",
     "text": [
      "[Errno 2] No such file or directory: 'python.txt'\n"
     ]
    }
   ],
   "source": [
    "try:\n",
    "    f = open('python.txt','r')\n",
    "    print(f.read())\n",
    "except Exception as e:\n",
    "    print(e)\n"
   ]
  },
  {
   "cell_type": "markdown",
   "id": "74cb7214-856e-4fc9-9f7c-8f6be699ecfb",
   "metadata": {},
   "source": [
    "# Explain with example: a) try and else 2) finally 3) raise"
   ]
  },
  {
   "cell_type": "markdown",
   "id": "05dc3dcf-579f-43ed-8427-9864649da4ce",
   "metadata": {},
   "source": [
    "try: it is trying to execute the code inside it.\n",
    "\n",
    "except: it runs if try block fails to execute.\n",
    "\n",
    "else: it runs if try block runs else not.\n",
    "\n",
    "finally: it runs regardless of either try block runs or except block runs.\n",
    "\n",
    "Example;"
   ]
  },
  {
   "cell_type": "code",
   "execution_count": 6,
   "id": "913ec29b-f7de-4361-8be8-bf3a406085ba",
   "metadata": {},
   "outputs": [
    {
     "name": "stdout",
     "output_type": "stream",
     "text": [
      "[Errno 2] No such file or directory: 'Python.txt'\n",
      "finally block runs in any situaiton, either try block run or except block executed\n"
     ]
    }
   ],
   "source": [
    "try:\n",
    "    f = open('Python.txt','r')\n",
    "    print(f.read())\n",
    "except Exception as e:\n",
    "    print(e)    \n",
    "else:\n",
    "    print('else block runs if try block runs.')\n",
    "finally:\n",
    "    print('finally block runs in any situaiton, either try block run or except block executed')"
   ]
  },
  {
   "cell_type": "markdown",
   "id": "17d43b45-0240-494e-a8df-0ec8e25b0da7",
   "metadata": {},
   "source": [
    "# Q5. What are Custom Exceptions in python? What do we need Custom Exceptions? Explain with an example"
   ]
  },
  {
   "cell_type": "markdown",
   "id": "9a853173-69fe-4349-8283-71785dabfeae",
   "metadata": {},
   "source": [
    "Custom Exception or User-defined Exception are those exception which are not considered exception for python interpreter.\n",
    "\n",
    "For example; if we want to create a program where user inputs the radius of the circle and we get area of the circle as output.\n",
    "\n",
    "But,we know that the radius of the circle cann't be negative but this kind of situation, python interpreter cann't handle itself.\n",
    "\n",
    "So we need our user-defined exception class , so we can aware the python interpreter about this type of exception.\n",
    "\n",
    "Eg;"
   ]
  },
  {
   "cell_type": "code",
   "execution_count": 9,
   "id": "a74d5dbb-1419-4ca1-91d4-dfba73169cfb",
   "metadata": {},
   "outputs": [
    {
     "name": "stdin",
     "output_type": "stream",
     "text": [
      "Enter radius: -3\n"
     ]
    },
    {
     "name": "stdout",
     "output_type": "stream",
     "text": [
      "Invalid radius\n"
     ]
    }
   ],
   "source": [
    "class NegativeRadius(Exception):\n",
    "    def __init__ (self,msg):\n",
    "        self.msg = msg\n",
    "try:\n",
    "    radius  = float(input(\"Enter radius:\"))\n",
    "    \n",
    "    if radius < 0:\n",
    "        raise NegativeRadius('Invalid radius')\n",
    "        \n",
    "    print(f'Area of circle: {3.14*radius*radius}')\n",
    "    \n",
    "except Exception as e:    \n",
    "    print(e)"
   ]
  },
  {
   "cell_type": "markdown",
   "id": "2b55cfea-8ca6-4813-a52d-5a461166c692",
   "metadata": {},
   "source": [
    "# Q6. Create custom exception class, use this class to handle an exceptiom"
   ]
  },
  {
   "cell_type": "code",
   "execution_count": 10,
   "id": "c75407ed-bf11-456e-befa-024aeb3514f7",
   "metadata": {},
   "outputs": [],
   "source": [
    "# Custom Exception class\n",
    "class NegativeRadiusException(Exception):\n",
    "    def __init__ (self,msg):\n",
    "        self.msg = msg"
   ]
  },
  {
   "cell_type": "code",
   "execution_count": 11,
   "id": "07b32e1e-b2f8-4ba1-9f9a-ec691c964e3d",
   "metadata": {},
   "outputs": [
    {
     "name": "stdin",
     "output_type": "stream",
     "text": [
      "Enter the radius: -4\n"
     ]
    },
    {
     "name": "stdout",
     "output_type": "stream",
     "text": [
      "NegativeRadiusException: Radius must greater than 0\n"
     ]
    }
   ],
   "source": [
    "try:\n",
    "    radius  = float(input(\"Enter the radius:\"))\n",
    "    \n",
    "    if radius < 0:\n",
    "        raise NegativeRadiusException('Radius must greater than 0')\n",
    "        \n",
    "    print(f'Area of circle with radius {radius} is {3.14*radius*radius}')\n",
    "    \n",
    "except NegativeRadiusException as n:\n",
    "    \n",
    "    print('NegativeRadiusException:',n)    "
   ]
  },
  {
   "cell_type": "code",
   "execution_count": null,
   "id": "54e8f4af-77bf-406c-8556-c315564f51e1",
   "metadata": {},
   "outputs": [],
   "source": []
  }
 ],
 "metadata": {
  "kernelspec": {
   "display_name": "Python 3 (ipykernel)",
   "language": "python",
   "name": "python3"
  },
  "language_info": {
   "codemirror_mode": {
    "name": "ipython",
    "version": 3
   },
   "file_extension": ".py",
   "mimetype": "text/x-python",
   "name": "python",
   "nbconvert_exporter": "python",
   "pygments_lexer": "ipython3",
   "version": "3.10.8"
  }
 },
 "nbformat": 4,
 "nbformat_minor": 5
}
